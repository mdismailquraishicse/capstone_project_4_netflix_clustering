{
 "cells": [
  {
   "cell_type": "markdown",
   "metadata": {
    "id": "vncDsAP0Gaoa"
   },
   "source": [
    "# **Project Name**    - \n",
    "\n"
   ]
  },
  {
   "cell_type": "markdown",
   "metadata": {
    "id": "beRrZCGUAJYm"
   },
   "source": [
    "##### **Project Type**    - Unsupervised\n",
    "##### **Contribution**    - Individual\n",
    "##### **Team Member 1 -**  Md Ismail Quraishi"
   ]
  },
  {
   "cell_type": "markdown",
   "metadata": {
    "id": "FJNUwmbgGyua"
   },
   "source": [
    "# **Project Summary -**"
   ]
  },
  {
   "cell_type": "markdown",
   "metadata": {
    "id": "F6v_1wHtG2nS"
   },
   "source": [
    "This is an Unsupervised Machine learning project in this project I will have to build a model that can be capable of clustering different different types of data. The dataset is about netflix shows which has 7787 rows and 12 columns like show_id which represents ID of the show, type represents type of the show, title represents show title, cast represents name of the casting stars, country represents the country of the show, date added represents the date when the show is added to netflix, release_year represents the year the show was released,rating represents the rating of the show, duration represents the length of the show, listed_in tells what type and where the show belongs from, description gives short descriptions about the show. My task is to read and understand the data after that I will have to show some meaningfull charts and explain everything about the chart then according to the visualization chart I will have to make some hypothesis assumptions about the project then testing the assumptions. Then I will handle missing and null values and outliers after completing these all task I will look for imbalanced data if there is any imbalanced data then I will have to deal with that. Then I will select some important features further I will split the data for test and training purpose."
   ]
  },
  {
   "cell_type": "markdown",
   "metadata": {
    "id": "w6K7xa23Elo4"
   },
   "source": [
    "# **GitHub Link -**"
   ]
  },
  {
   "cell_type": "markdown",
   "metadata": {
    "id": "h1o69JH3Eqqn"
   },
   "source": [
    "https://github.com/mdismailquraishicse/capstone_project_4_netflix_clustering"
   ]
  },
  {
   "cell_type": "markdown",
   "metadata": {
    "id": "yQaldy8SH6Dl"
   },
   "source": [
    "# **Problem Statement**\n"
   ]
  },
  {
   "cell_type": "markdown",
   "metadata": {
    "id": "DpeJGUA3kjGy"
   },
   "source": [
    "**My Task is to make a Model that can cluster similar type of content together.**"
   ]
  },
  {
   "cell_type": "markdown",
   "metadata": {
    "id": "mDgbUHAGgjLW"
   },
   "source": [
    "# **General Guidelines** : -  "
   ]
  },
  {
   "cell_type": "markdown",
   "metadata": {
    "id": "ZrxVaUj-hHfC"
   },
   "source": [
    "1.   Well-structured, formatted, and commented code is required. \n",
    "2.   Exception Handling, Production Grade Code & Deployment Ready Code will be a plus. Those students will be awarded some additional credits. \n",
    "     \n",
    "     The additional credits will have advantages over other students during Star Student selection.\n",
    "       \n",
    "             [ Note: - Deployment Ready Code is defined as, the whole .ipynb notebook should be executable in one go\n",
    "                       without a single error logged. ]\n",
    "\n",
    "3.   Each and every logic should have proper comments.\n",
    "4. You may add as many number of charts you want. Make Sure for each and every chart the following format should be answered.\n",
    "        \n",
    "\n",
    "```\n",
    "# Chart visualization code\n",
    "```\n",
    "            \n",
    "\n",
    "*   Why did you pick the specific chart?\n",
    "*   What is/are the insight(s) found from the chart?\n",
    "* Will the gained insights help creating a positive business impact? \n",
    "Are there any insights that lead to negative growth? Justify with specific reason.\n",
    "\n",
    "5. You have to create at least 15 logical & meaningful charts having important insights.\n",
    "\n",
    "\n",
    "[ Hints : - Do the Vizualization in  a structured way while following \"UBM\" Rule. \n",
    "\n",
    "U - Univariate Analysis,\n",
    "\n",
    "B - Bivariate Analysis (Numerical - Categorical, Numerical - Numerical, Categorical - Categorical)\n",
    "\n",
    "M - Multivariate Analysis\n",
    " ]\n",
    "\n",
    "\n",
    "\n",
    "\n",
    "\n",
    "6. You may add more ml algorithms for model creation. Make sure for each and every algorithm, the following format should be answered.\n",
    "\n",
    "\n",
    "*   Explain the ML Model used and it's performance using Evaluation metric Score Chart.\n",
    "\n",
    "\n",
    "*   Cross- Validation & Hyperparameter Tuning\n",
    "\n",
    "*   Have you seen any improvement? Note down the improvement with updates Evaluation metric Score Chart.\n",
    "\n",
    "*   Explain each evaluation metric's indication towards business and the business impact pf the ML model used.\n",
    "\n",
    "\n",
    "\n",
    "\n",
    "\n",
    "\n",
    "\n",
    "\n",
    "\n",
    "\n",
    "\n",
    "\n",
    "\n",
    "\n",
    "\n",
    "\n",
    "\n",
    "\n"
   ]
  },
  {
   "cell_type": "markdown",
   "metadata": {
    "id": "O_i_v8NEhb9l"
   },
   "source": [
    "# ***Let's Begin !***"
   ]
  },
  {
   "cell_type": "markdown",
   "metadata": {
    "id": "HhfV-JJviCcP"
   },
   "source": [
    "## ***1. Know Your Data***"
   ]
  },
  {
   "cell_type": "markdown",
   "metadata": {
    "id": "Y3lxredqlCYt"
   },
   "source": [
    "### Import Libraries"
   ]
  },
  {
   "cell_type": "code",
   "execution_count": 1,
   "metadata": {
    "id": "M8Vqi-pPk-HR"
   },
   "outputs": [],
   "source": [
    "# Import Libraries\n",
    "import numpy as np\n",
    "from numpy import math\n",
    "import pandas as pd\n",
    "import seaborn as sns\n",
    "import matplotlib.pyplot as plt\n",
    "from sklearn.model_selection import train_test_split, KFold\n",
    "from nltk.stem.snowball import SnowballStemmer\n",
    "# from google.colab import drive\n",
    "import string\n",
    "import nltk\n",
    "from nltk.corpus import stopwords\n",
    "from sklearn.feature_extraction.text import CountVectorizer\n",
    "from sklearn.feature_extraction.text import TfidfVectorizer\n",
    "from sklearn.cluster import KMeans,AgglomerativeClustering,DBSCAN\n",
    "from yellowbrick.cluster import KElbowVisualizer\n",
    "from sklearn.decomposition import LatentDirichletAllocation\n",
    "from sklearn.decomposition import PCA\n",
    "import scipy.cluster.hierarchy as sch\n",
    "from sklearn import metrics\n",
    "from sklearn.model_selection import GridSearchCV\n",
    "from sklearn.metrics import silhouette_samples,silhouette_score\n",
    "\n",
    "import warnings\n",
    "warnings.filterwarnings('ignore')"
   ]
  },
  {
   "cell_type": "markdown",
   "metadata": {
    "id": "3RnN4peoiCZX"
   },
   "source": [
    "### Dataset Loading"
   ]
  },
  {
   "cell_type": "code",
   "execution_count": 2,
   "metadata": {
    "colab": {
     "base_uri": "https://localhost:8080/"
    },
    "id": "4CkvbW_SlZ_R",
    "outputId": "8821e52b-4705-453f-8705-4273def98ae6"
   },
   "outputs": [],
   "source": [
    "# Load Dataset\n",
    "# drive.mount('/content/drive')\n",
    "# path = '/content/drive/MyDrive/Almabetter/Cohort Nilgiri/Capstone Project/Unsupervised ML/NetflixMoviesAndTVShowsClustering/NETFLIX MOVIES AND TV SHOWS CLUSTERING.csv'\n",
    "path = 'E://Data Science//amlabetter//Capstone Projects//Unsupervised Machine Learning//netflix clustering//NETFLIX MOVIES AND TV SHOWS CLUSTERING.csv'\n",
    "netflix_df = pd.read_csv(path)"
   ]
  },
  {
   "cell_type": "markdown",
   "metadata": {
    "id": "x71ZqKXriCWQ"
   },
   "source": [
    "### Dataset First View"
   ]
  },
  {
   "cell_type": "code",
   "execution_count": 3,
   "metadata": {
    "colab": {
     "base_uri": "https://localhost:8080/",
     "height": 0
    },
    "id": "LWNFOSvLl09H",
    "outputId": "7a1ed9db-0f48-4b8a-f910-263183ae7bbe"
   },
   "outputs": [
    {
     "data": {
      "text/html": [
       "<div>\n",
       "<style scoped>\n",
       "    .dataframe tbody tr th:only-of-type {\n",
       "        vertical-align: middle;\n",
       "    }\n",
       "\n",
       "    .dataframe tbody tr th {\n",
       "        vertical-align: top;\n",
       "    }\n",
       "\n",
       "    .dataframe thead th {\n",
       "        text-align: right;\n",
       "    }\n",
       "</style>\n",
       "<table border=\"1\" class=\"dataframe\">\n",
       "  <thead>\n",
       "    <tr style=\"text-align: right;\">\n",
       "      <th></th>\n",
       "      <th>show_id</th>\n",
       "      <th>type</th>\n",
       "      <th>title</th>\n",
       "      <th>director</th>\n",
       "      <th>cast</th>\n",
       "      <th>country</th>\n",
       "      <th>date_added</th>\n",
       "      <th>release_year</th>\n",
       "      <th>rating</th>\n",
       "      <th>duration</th>\n",
       "      <th>listed_in</th>\n",
       "      <th>description</th>\n",
       "    </tr>\n",
       "  </thead>\n",
       "  <tbody>\n",
       "    <tr>\n",
       "      <th>0</th>\n",
       "      <td>s1</td>\n",
       "      <td>TV Show</td>\n",
       "      <td>3%</td>\n",
       "      <td>NaN</td>\n",
       "      <td>João Miguel, Bianca Comparato, Michel Gomes, R...</td>\n",
       "      <td>Brazil</td>\n",
       "      <td>August 14, 2020</td>\n",
       "      <td>2020</td>\n",
       "      <td>TV-MA</td>\n",
       "      <td>4 Seasons</td>\n",
       "      <td>International TV Shows, TV Dramas, TV Sci-Fi &amp;...</td>\n",
       "      <td>In a future where the elite inhabit an island ...</td>\n",
       "    </tr>\n",
       "    <tr>\n",
       "      <th>1</th>\n",
       "      <td>s2</td>\n",
       "      <td>Movie</td>\n",
       "      <td>7:19</td>\n",
       "      <td>Jorge Michel Grau</td>\n",
       "      <td>Demián Bichir, Héctor Bonilla, Oscar Serrano, ...</td>\n",
       "      <td>Mexico</td>\n",
       "      <td>December 23, 2016</td>\n",
       "      <td>2016</td>\n",
       "      <td>TV-MA</td>\n",
       "      <td>93 min</td>\n",
       "      <td>Dramas, International Movies</td>\n",
       "      <td>After a devastating earthquake hits Mexico Cit...</td>\n",
       "    </tr>\n",
       "    <tr>\n",
       "      <th>2</th>\n",
       "      <td>s3</td>\n",
       "      <td>Movie</td>\n",
       "      <td>23:59</td>\n",
       "      <td>Gilbert Chan</td>\n",
       "      <td>Tedd Chan, Stella Chung, Henley Hii, Lawrence ...</td>\n",
       "      <td>Singapore</td>\n",
       "      <td>December 20, 2018</td>\n",
       "      <td>2011</td>\n",
       "      <td>R</td>\n",
       "      <td>78 min</td>\n",
       "      <td>Horror Movies, International Movies</td>\n",
       "      <td>When an army recruit is found dead, his fellow...</td>\n",
       "    </tr>\n",
       "    <tr>\n",
       "      <th>3</th>\n",
       "      <td>s4</td>\n",
       "      <td>Movie</td>\n",
       "      <td>9</td>\n",
       "      <td>Shane Acker</td>\n",
       "      <td>Elijah Wood, John C. Reilly, Jennifer Connelly...</td>\n",
       "      <td>United States</td>\n",
       "      <td>November 16, 2017</td>\n",
       "      <td>2009</td>\n",
       "      <td>PG-13</td>\n",
       "      <td>80 min</td>\n",
       "      <td>Action &amp; Adventure, Independent Movies, Sci-Fi...</td>\n",
       "      <td>In a postapocalyptic world, rag-doll robots hi...</td>\n",
       "    </tr>\n",
       "    <tr>\n",
       "      <th>4</th>\n",
       "      <td>s5</td>\n",
       "      <td>Movie</td>\n",
       "      <td>21</td>\n",
       "      <td>Robert Luketic</td>\n",
       "      <td>Jim Sturgess, Kevin Spacey, Kate Bosworth, Aar...</td>\n",
       "      <td>United States</td>\n",
       "      <td>January 1, 2020</td>\n",
       "      <td>2008</td>\n",
       "      <td>PG-13</td>\n",
       "      <td>123 min</td>\n",
       "      <td>Dramas</td>\n",
       "      <td>A brilliant group of students become card-coun...</td>\n",
       "    </tr>\n",
       "  </tbody>\n",
       "</table>\n",
       "</div>"
      ],
      "text/plain": [
       "  show_id     type  title           director  \\\n",
       "0      s1  TV Show     3%                NaN   \n",
       "1      s2    Movie   7:19  Jorge Michel Grau   \n",
       "2      s3    Movie  23:59       Gilbert Chan   \n",
       "3      s4    Movie      9        Shane Acker   \n",
       "4      s5    Movie     21     Robert Luketic   \n",
       "\n",
       "                                                cast        country  \\\n",
       "0  João Miguel, Bianca Comparato, Michel Gomes, R...         Brazil   \n",
       "1  Demián Bichir, Héctor Bonilla, Oscar Serrano, ...         Mexico   \n",
       "2  Tedd Chan, Stella Chung, Henley Hii, Lawrence ...      Singapore   \n",
       "3  Elijah Wood, John C. Reilly, Jennifer Connelly...  United States   \n",
       "4  Jim Sturgess, Kevin Spacey, Kate Bosworth, Aar...  United States   \n",
       "\n",
       "          date_added  release_year rating   duration  \\\n",
       "0    August 14, 2020          2020  TV-MA  4 Seasons   \n",
       "1  December 23, 2016          2016  TV-MA     93 min   \n",
       "2  December 20, 2018          2011      R     78 min   \n",
       "3  November 16, 2017          2009  PG-13     80 min   \n",
       "4    January 1, 2020          2008  PG-13    123 min   \n",
       "\n",
       "                                           listed_in  \\\n",
       "0  International TV Shows, TV Dramas, TV Sci-Fi &...   \n",
       "1                       Dramas, International Movies   \n",
       "2                Horror Movies, International Movies   \n",
       "3  Action & Adventure, Independent Movies, Sci-Fi...   \n",
       "4                                             Dramas   \n",
       "\n",
       "                                         description  \n",
       "0  In a future where the elite inhabit an island ...  \n",
       "1  After a devastating earthquake hits Mexico Cit...  \n",
       "2  When an army recruit is found dead, his fellow...  \n",
       "3  In a postapocalyptic world, rag-doll robots hi...  \n",
       "4  A brilliant group of students become card-coun...  "
      ]
     },
     "execution_count": 3,
     "metadata": {},
     "output_type": "execute_result"
    }
   ],
   "source": [
    "# Dataset First Look\n",
    "netflix_df.head()"
   ]
  },
  {
   "cell_type": "markdown",
   "metadata": {
    "id": "7hBIi_osiCS2"
   },
   "source": [
    "### Dataset Rows & Columns count"
   ]
  },
  {
   "cell_type": "code",
   "execution_count": 4,
   "metadata": {
    "colab": {
     "base_uri": "https://localhost:8080/"
    },
    "id": "Kllu7SJgmLij",
    "outputId": "877754f3-eceb-41a7-8488-89b04e7838cc"
   },
   "outputs": [
    {
     "data": {
      "text/plain": [
       "(7787, 12)"
      ]
     },
     "execution_count": 4,
     "metadata": {},
     "output_type": "execute_result"
    }
   ],
   "source": [
    "# Dataset Rows & Columns count\n",
    "netflix_df.shape"
   ]
  },
  {
   "cell_type": "markdown",
   "metadata": {
    "id": "JlHwYmJAmNHm"
   },
   "source": [
    "### Dataset Information"
   ]
  },
  {
   "cell_type": "code",
   "execution_count": 5,
   "metadata": {
    "colab": {
     "base_uri": "https://localhost:8080/"
    },
    "id": "e9hRXRi6meOf",
    "outputId": "b0d2a52b-4d93-4bf8-edd0-1d2f5b975da8"
   },
   "outputs": [
    {
     "name": "stdout",
     "output_type": "stream",
     "text": [
      "<class 'pandas.core.frame.DataFrame'>\n",
      "RangeIndex: 7787 entries, 0 to 7786\n",
      "Data columns (total 12 columns):\n",
      " #   Column        Non-Null Count  Dtype \n",
      "---  ------        --------------  ----- \n",
      " 0   show_id       7787 non-null   object\n",
      " 1   type          7787 non-null   object\n",
      " 2   title         7787 non-null   object\n",
      " 3   director      5398 non-null   object\n",
      " 4   cast          7069 non-null   object\n",
      " 5   country       7280 non-null   object\n",
      " 6   date_added    7777 non-null   object\n",
      " 7   release_year  7787 non-null   int64 \n",
      " 8   rating        7780 non-null   object\n",
      " 9   duration      7787 non-null   object\n",
      " 10  listed_in     7787 non-null   object\n",
      " 11  description   7787 non-null   object\n",
      "dtypes: int64(1), object(11)\n",
      "memory usage: 730.2+ KB\n"
     ]
    }
   ],
   "source": [
    "# Dataset Info\n",
    "netflix_df.info()"
   ]
  },
  {
   "cell_type": "markdown",
   "metadata": {
    "id": "35m5QtbWiB9F"
   },
   "source": [
    "#### Duplicate Values"
   ]
  },
  {
   "cell_type": "code",
   "execution_count": 6,
   "metadata": {
    "colab": {
     "base_uri": "https://localhost:8080/",
     "height": 0
    },
    "id": "1sLdpKYkmox0",
    "outputId": "956f53e4-f2f7-42f0-d306-a8fc8869b148"
   },
   "outputs": [
    {
     "data": {
      "text/html": [
       "<div>\n",
       "<style scoped>\n",
       "    .dataframe tbody tr th:only-of-type {\n",
       "        vertical-align: middle;\n",
       "    }\n",
       "\n",
       "    .dataframe tbody tr th {\n",
       "        vertical-align: top;\n",
       "    }\n",
       "\n",
       "    .dataframe thead th {\n",
       "        text-align: right;\n",
       "    }\n",
       "</style>\n",
       "<table border=\"1\" class=\"dataframe\">\n",
       "  <thead>\n",
       "    <tr style=\"text-align: right;\">\n",
       "      <th></th>\n",
       "      <th>show_id</th>\n",
       "      <th>type</th>\n",
       "      <th>title</th>\n",
       "      <th>director</th>\n",
       "      <th>cast</th>\n",
       "      <th>country</th>\n",
       "      <th>date_added</th>\n",
       "      <th>release_year</th>\n",
       "      <th>rating</th>\n",
       "      <th>duration</th>\n",
       "      <th>listed_in</th>\n",
       "      <th>description</th>\n",
       "    </tr>\n",
       "  </thead>\n",
       "  <tbody>\n",
       "  </tbody>\n",
       "</table>\n",
       "</div>"
      ],
      "text/plain": [
       "Empty DataFrame\n",
       "Columns: [show_id, type, title, director, cast, country, date_added, release_year, rating, duration, listed_in, description]\n",
       "Index: []"
      ]
     },
     "execution_count": 6,
     "metadata": {},
     "output_type": "execute_result"
    }
   ],
   "source": [
    "# Dataset Duplicate Value Count\n",
    "netflix_df[netflix_df.duplicated()]"
   ]
  },
  {
   "cell_type": "markdown",
   "metadata": {
    "id": "PoPl-ycgm1ru"
   },
   "source": [
    "#### Missing Values/Null Values"
   ]
  },
  {
   "cell_type": "code",
   "execution_count": 7,
   "metadata": {
    "colab": {
     "base_uri": "https://localhost:8080/",
     "height": 0
    },
    "id": "GgHWkxvamxVg",
    "outputId": "9719e802-7c47-4560-cef0-7c97907516e7"
   },
   "outputs": [
    {
     "data": {
      "text/html": [
       "<div>\n",
       "<style scoped>\n",
       "    .dataframe tbody tr th:only-of-type {\n",
       "        vertical-align: middle;\n",
       "    }\n",
       "\n",
       "    .dataframe tbody tr th {\n",
       "        vertical-align: top;\n",
       "    }\n",
       "\n",
       "    .dataframe thead th {\n",
       "        text-align: right;\n",
       "    }\n",
       "</style>\n",
       "<table border=\"1\" class=\"dataframe\">\n",
       "  <thead>\n",
       "    <tr style=\"text-align: right;\">\n",
       "      <th></th>\n",
       "      <th>variables</th>\n",
       "      <th>null</th>\n",
       "      <th>null_%</th>\n",
       "    </tr>\n",
       "  </thead>\n",
       "  <tbody>\n",
       "    <tr>\n",
       "      <th>0</th>\n",
       "      <td>show_id</td>\n",
       "      <td>0</td>\n",
       "      <td>0.00</td>\n",
       "    </tr>\n",
       "    <tr>\n",
       "      <th>1</th>\n",
       "      <td>type</td>\n",
       "      <td>0</td>\n",
       "      <td>0.00</td>\n",
       "    </tr>\n",
       "    <tr>\n",
       "      <th>2</th>\n",
       "      <td>title</td>\n",
       "      <td>0</td>\n",
       "      <td>0.00</td>\n",
       "    </tr>\n",
       "    <tr>\n",
       "      <th>3</th>\n",
       "      <td>director</td>\n",
       "      <td>2389</td>\n",
       "      <td>30.68</td>\n",
       "    </tr>\n",
       "    <tr>\n",
       "      <th>4</th>\n",
       "      <td>cast</td>\n",
       "      <td>718</td>\n",
       "      <td>9.22</td>\n",
       "    </tr>\n",
       "    <tr>\n",
       "      <th>5</th>\n",
       "      <td>country</td>\n",
       "      <td>507</td>\n",
       "      <td>6.51</td>\n",
       "    </tr>\n",
       "    <tr>\n",
       "      <th>6</th>\n",
       "      <td>date_added</td>\n",
       "      <td>10</td>\n",
       "      <td>0.13</td>\n",
       "    </tr>\n",
       "    <tr>\n",
       "      <th>7</th>\n",
       "      <td>release_year</td>\n",
       "      <td>0</td>\n",
       "      <td>0.00</td>\n",
       "    </tr>\n",
       "    <tr>\n",
       "      <th>8</th>\n",
       "      <td>rating</td>\n",
       "      <td>7</td>\n",
       "      <td>0.09</td>\n",
       "    </tr>\n",
       "    <tr>\n",
       "      <th>9</th>\n",
       "      <td>duration</td>\n",
       "      <td>0</td>\n",
       "      <td>0.00</td>\n",
       "    </tr>\n",
       "    <tr>\n",
       "      <th>10</th>\n",
       "      <td>listed_in</td>\n",
       "      <td>0</td>\n",
       "      <td>0.00</td>\n",
       "    </tr>\n",
       "    <tr>\n",
       "      <th>11</th>\n",
       "      <td>description</td>\n",
       "      <td>0</td>\n",
       "      <td>0.00</td>\n",
       "    </tr>\n",
       "  </tbody>\n",
       "</table>\n",
       "</div>"
      ],
      "text/plain": [
       "       variables  null  null_%\n",
       "0        show_id     0    0.00\n",
       "1           type     0    0.00\n",
       "2          title     0    0.00\n",
       "3       director  2389   30.68\n",
       "4           cast   718    9.22\n",
       "5        country   507    6.51\n",
       "6     date_added    10    0.13\n",
       "7   release_year     0    0.00\n",
       "8         rating     7    0.09\n",
       "9       duration     0    0.00\n",
       "10     listed_in     0    0.00\n",
       "11   description     0    0.00"
      ]
     },
     "execution_count": 7,
     "metadata": {},
     "output_type": "execute_result"
    }
   ],
   "source": [
    "# Missing Values/Null Values Count\n",
    "df_null = netflix_df.isna().sum().reset_index()\n",
    "df_null['null_%'] = round((netflix_df.isna().sum()/len(netflix_df))*100,2).reset_index()[0]\n",
    "df_null.rename(columns={'index':'variables',0:'null'},inplace=True)\n",
    "df_null"
   ]
  },
  {
   "cell_type": "code",
   "execution_count": 8,
   "metadata": {
    "colab": {
     "base_uri": "https://localhost:8080/",
     "height": 0
    },
    "id": "3q5wnI3om9sJ",
    "outputId": "64a0e80b-85b4-4cfc-a359-6f74cb9cc64e"
   },
   "outputs": [
    {
     "data": {
      "image/png": "[encoded data removed]",
      "text/plain": [
       "<Figure size 1200x300 with 1 Axes>"
      ]
     },
     "metadata": {},
     "output_type": "display_data"
    }
   ],
   "source": [
    "# Visualizing the missing values\n",
    "plt.rcParams['figure.figsize'] = (12,3)\n",
    "netflix_df.isna().sum().plot.bar(color=['violet','indigo','b','g','y'])\n",
    "plt.show()"
   ]
  },
  {
   "cell_type": "code",
   "execution_count": 9,
   "metadata": {
    "colab": {
     "base_uri": "https://localhost:8080/",
     "height": 0
    },
    "id": "Henrx4LB4KvK",
    "outputId": "4e4cf213-7fa6-47ee-cafb-d6885714abed"
   },
   "outputs": [
    {
     "data": {
      "image/png": "[encoded data removed]",
      "text/plain": [
       "<Figure size 1200x300 with 2 Axes>"
      ]
     },
     "metadata": {},
     "output_type": "display_data"
    }
   ],
   "source": [
    "# Heatmap\n",
    "sns.heatmap(netflix_df.isna(),cmap='coolwarm')\n",
    "plt.show()"
   ]
  },
  {
   "cell_type": "markdown",
   "metadata": {
    "id": "H0kj-8xxnORC"
   },
   "source": [
    "### What did you know about your dataset?"
   ]
  },
  {
   "cell_type": "markdown",
   "metadata": {
    "id": "gfoNAAC-nUe_"
   },
   "source": [
    "The dataset has 7787 rows and 12 columns where the column director has 2389, cast has 718, country has 507, date_added has 10 and rating has 7 null values."
   ]
  },
  {
   "cell_type": "markdown",
   "metadata": {
    "id": "nA9Y7ga8ng1Z"
   },
   "source": [
    "## ***2. Understanding Your Variables***"
   ]
  },
  {
   "cell_type": "code",
   "execution_count": 10,
   "metadata": {
    "colab": {
     "base_uri": "https://localhost:8080/"
    },
    "id": "j7xfkqrt5Ag5",
    "outputId": "5945b94f-c216-430c-cdb7-e04b17cbe25d"
   },
   "outputs": [
    {
     "data": {
      "text/plain": [
       "Index(['show_id', 'type', 'title', 'director', 'cast', 'country', 'date_added',\n",
       "       'release_year', 'rating', 'duration', 'listed_in', 'description'],\n",
       "      dtype='object')"
      ]
     },
     "execution_count": 10,
     "metadata": {},
     "output_type": "execute_result"
    }
   ],
   "source": [
    "# Dataset Columns\n",
    "netflix_df.columns"
   ]
  },
  {
   "cell_type": "code",
   "execution_count": 11,
   "metadata": {
    "colab": {
     "base_uri": "https://localhost:8080/",
     "height": 0
    },
    "id": "DnOaZdaE5Q5t",
    "outputId": "a8406f14-3092-486e-958a-14a37ef655c1"
   },
   "outputs": [
    {
     "data": {
      "text/html": [
       "<div>\n",
       "<style scoped>\n",
       "    .dataframe tbody tr th:only-of-type {\n",
       "        vertical-align: middle;\n",
       "    }\n",
       "\n",
       "    .dataframe tbody tr th {\n",
       "        vertical-align: top;\n",
       "    }\n",
       "\n",
       "    .dataframe thead th {\n",
       "        text-align: right;\n",
       "    }\n",
       "</style>\n",
       "<table border=\"1\" class=\"dataframe\">\n",
       "  <thead>\n",
       "    <tr style=\"text-align: right;\">\n",
       "      <th></th>\n",
       "      <th>show_id</th>\n",
       "      <th>type</th>\n",
       "      <th>title</th>\n",
       "      <th>director</th>\n",
       "      <th>cast</th>\n",
       "      <th>country</th>\n",
       "      <th>date_added</th>\n",
       "      <th>release_year</th>\n",
       "      <th>rating</th>\n",
       "      <th>duration</th>\n",
       "      <th>listed_in</th>\n",
       "      <th>description</th>\n",
       "    </tr>\n",
       "  </thead>\n",
       "  <tbody>\n",
       "    <tr>\n",
       "      <th>count</th>\n",
       "      <td>7787</td>\n",
       "      <td>7787</td>\n",
       "      <td>7787</td>\n",
       "      <td>5398</td>\n",
       "      <td>7069</td>\n",
       "      <td>7280</td>\n",
       "      <td>7777</td>\n",
       "      <td>7787.000000</td>\n",
       "      <td>7780</td>\n",
       "      <td>7787</td>\n",
       "      <td>7787</td>\n",
       "      <td>7787</td>\n",
       "    </tr>\n",
       "    <tr>\n",
       "      <th>unique</th>\n",
       "      <td>7787</td>\n",
       "      <td>2</td>\n",
       "      <td>7787</td>\n",
       "      <td>4049</td>\n",
       "      <td>6831</td>\n",
       "      <td>681</td>\n",
       "      <td>1565</td>\n",
       "      <td>NaN</td>\n",
       "      <td>14</td>\n",
       "      <td>216</td>\n",
       "      <td>492</td>\n",
       "      <td>7769</td>\n",
       "    </tr>\n",
       "    <tr>\n",
       "      <th>top</th>\n",
       "      <td>s1</td>\n",
       "      <td>Movie</td>\n",
       "      <td>3%</td>\n",
       "      <td>Raúl Campos, Jan Suter</td>\n",
       "      <td>David Attenborough</td>\n",
       "      <td>United States</td>\n",
       "      <td>January 1, 2020</td>\n",
       "      <td>NaN</td>\n",
       "      <td>TV-MA</td>\n",
       "      <td>1 Season</td>\n",
       "      <td>Documentaries</td>\n",
       "      <td>Multiple women report their husbands as missin...</td>\n",
       "    </tr>\n",
       "    <tr>\n",
       "      <th>freq</th>\n",
       "      <td>1</td>\n",
       "      <td>5377</td>\n",
       "      <td>1</td>\n",
       "      <td>18</td>\n",
       "      <td>18</td>\n",
       "      <td>2555</td>\n",
       "      <td>118</td>\n",
       "      <td>NaN</td>\n",
       "      <td>2863</td>\n",
       "      <td>1608</td>\n",
       "      <td>334</td>\n",
       "      <td>3</td>\n",
       "    </tr>\n",
       "    <tr>\n",
       "      <th>mean</th>\n",
       "      <td>NaN</td>\n",
       "      <td>NaN</td>\n",
       "      <td>NaN</td>\n",
       "      <td>NaN</td>\n",
       "      <td>NaN</td>\n",
       "      <td>NaN</td>\n",
       "      <td>NaN</td>\n",
       "      <td>2013.932580</td>\n",
       "      <td>NaN</td>\n",
       "      <td>NaN</td>\n",
       "      <td>NaN</td>\n",
       "      <td>NaN</td>\n",
       "    </tr>\n",
       "    <tr>\n",
       "      <th>std</th>\n",
       "      <td>NaN</td>\n",
       "      <td>NaN</td>\n",
       "      <td>NaN</td>\n",
       "      <td>NaN</td>\n",
       "      <td>NaN</td>\n",
       "      <td>NaN</td>\n",
       "      <td>NaN</td>\n",
       "      <td>8.757395</td>\n",
       "      <td>NaN</td>\n",
       "      <td>NaN</td>\n",
       "      <td>NaN</td>\n",
       "      <td>NaN</td>\n",
       "    </tr>\n",
       "    <tr>\n",
       "      <th>min</th>\n",
       "      <td>NaN</td>\n",
       "      <td>NaN</td>\n",
       "      <td>NaN</td>\n",
       "      <td>NaN</td>\n",
       "      <td>NaN</td>\n",
       "      <td>NaN</td>\n",
       "      <td>NaN</td>\n",
       "      <td>1925.000000</td>\n",
       "      <td>NaN</td>\n",
       "      <td>NaN</td>\n",
       "      <td>NaN</td>\n",
       "      <td>NaN</td>\n",
       "    </tr>\n",
       "    <tr>\n",
       "      <th>25%</th>\n",
       "      <td>NaN</td>\n",
       "      <td>NaN</td>\n",
       "      <td>NaN</td>\n",
       "      <td>NaN</td>\n",
       "      <td>NaN</td>\n",
       "      <td>NaN</td>\n",
       "      <td>NaN</td>\n",
       "      <td>2013.000000</td>\n",
       "      <td>NaN</td>\n",
       "      <td>NaN</td>\n",
       "      <td>NaN</td>\n",
       "      <td>NaN</td>\n",
       "    </tr>\n",
       "    <tr>\n",
       "      <th>50%</th>\n",
       "      <td>NaN</td>\n",
       "      <td>NaN</td>\n",
       "      <td>NaN</td>\n",
       "      <td>NaN</td>\n",
       "      <td>NaN</td>\n",
       "      <td>NaN</td>\n",
       "      <td>NaN</td>\n",
       "      <td>2017.000000</td>\n",
       "      <td>NaN</td>\n",
       "      <td>NaN</td>\n",
       "      <td>NaN</td>\n",
       "      <td>NaN</td>\n",
       "    </tr>\n",
       "    <tr>\n",
       "      <th>75%</th>\n",
       "      <td>NaN</td>\n",
       "      <td>NaN</td>\n",
       "      <td>NaN</td>\n",
       "      <td>NaN</td>\n",
       "      <td>NaN</td>\n",
       "      <td>NaN</td>\n",
       "      <td>NaN</td>\n",
       "      <td>2018.000000</td>\n",
       "      <td>NaN</td>\n",
       "      <td>NaN</td>\n",
       "      <td>NaN</td>\n",
       "      <td>NaN</td>\n",
       "    </tr>\n",
       "    <tr>\n",
       "      <th>max</th>\n",
       "      <td>NaN</td>\n",
       "      <td>NaN</td>\n",
       "      <td>NaN</td>\n",
       "      <td>NaN</td>\n",
       "      <td>NaN</td>\n",
       "      <td>NaN</td>\n",
       "      <td>NaN</td>\n",
       "      <td>2021.000000</td>\n",
       "      <td>NaN</td>\n",
       "      <td>NaN</td>\n",
       "      <td>NaN</td>\n",
       "      <td>NaN</td>\n",
       "    </tr>\n",
       "  </tbody>\n",
       "</table>\n",
       "</div>"
      ],
      "text/plain": [
       "       show_id   type title                director                cast  \\\n",
       "count     7787   7787  7787                    5398                7069   \n",
       "unique    7787      2  7787                    4049                6831   \n",
       "top         s1  Movie    3%  Raúl Campos, Jan Suter  David Attenborough   \n",
       "freq         1   5377     1                      18                  18   \n",
       "mean       NaN    NaN   NaN                     NaN                 NaN   \n",
       "std        NaN    NaN   NaN                     NaN                 NaN   \n",
       "min        NaN    NaN   NaN                     NaN                 NaN   \n",
       "25%        NaN    NaN   NaN                     NaN                 NaN   \n",
       "50%        NaN    NaN   NaN                     NaN                 NaN   \n",
       "75%        NaN    NaN   NaN                     NaN                 NaN   \n",
       "max        NaN    NaN   NaN                     NaN                 NaN   \n",
       "\n",
       "              country       date_added  release_year rating  duration  \\\n",
       "count            7280             7777   7787.000000   7780      7787   \n",
       "unique            681             1565           NaN     14       216   \n",
       "top     United States  January 1, 2020           NaN  TV-MA  1 Season   \n",
       "freq             2555              118           NaN   2863      1608   \n",
       "mean              NaN              NaN   2013.932580    NaN       NaN   \n",
       "std               NaN              NaN      8.757395    NaN       NaN   \n",
       "min               NaN              NaN   1925.000000    NaN       NaN   \n",
       "25%               NaN              NaN   2013.000000    NaN       NaN   \n",
       "50%               NaN              NaN   2017.000000    NaN       NaN   \n",
       "75%               NaN              NaN   2018.000000    NaN       NaN   \n",
       "max               NaN              NaN   2021.000000    NaN       NaN   \n",
       "\n",
       "            listed_in                                        description  \n",
       "count            7787                                               7787  \n",
       "unique            492                                               7769  \n",
       "top     Documentaries  Multiple women report their husbands as missin...  \n",
       "freq              334                                                  3  \n",
       "mean              NaN                                                NaN  \n",
       "std               NaN                                                NaN  \n",
       "min               NaN                                                NaN  \n",
       "25%               NaN                                                NaN  \n",
       "50%               NaN                                                NaN  \n",
       "75%               NaN                                                NaN  \n",
       "max               NaN                                                NaN  "
      ]
     },
     "execution_count": 11,
     "metadata": {},
     "output_type": "execute_result"
    }
   ],
   "source": [
    "# Dataset Describe\n",
    "netflix_df.describe(include='all')"
   ]
  },
  {
   "cell_type": "markdown",
   "metadata": {
    "id": "PBTbrJXOngz2"
   },
   "source": [
    "### Variables Description "
   ]
  },
  {
   "cell_type": "markdown",
   "metadata": {
    "id": "aJV4KIxSnxay"
   },
   "source": [
    "The dataset has total 7787 rows and 12 columns:\n",
    "1. Show_id : show ID\n",
    "2. type : Type of the show like movie or TV show\n",
    "3. title : Title of the show\n",
    "4. director : Director of the show\n",
    "5. cast : Actors and actress of the show\n",
    "6. country : Country of the origin of the show\n",
    "7. date_added : Date when the show added to netflix\n",
    "8. release_year : Release year\n",
    "9. rating : rating\n",
    "10. duration : duration of the show\n",
    "11. listed_in : Listed in\n",
    "12. description : Description of the show"
   ]
  },
  {
   "cell_type": "markdown",
   "metadata": {
    "id": "u3PMJOP6ngxN"
   },
   "source": [
    "### Check Unique Values for each variable."
   ]
  },
  {
   "cell_type": "code",
   "execution_count": 12,
   "metadata": {
    "colab": {
     "base_uri": "https://localhost:8080/"
    },
    "id": "zms12Yq5n-jE",
    "outputId": "debac83f-d2bf-4065-e5fe-25c08346ef9a"
   },
   "outputs": [
    {
     "data": {
      "text/plain": [
       "show_id         7787\n",
       "type               2\n",
       "title           7787\n",
       "director        4049\n",
       "cast            6831\n",
       "country          681\n",
       "date_added      1565\n",
       "release_year      73\n",
       "rating            14\n",
       "duration         216\n",
       "listed_in        492\n",
       "description     7769\n",
       "dtype: int64"
      ]
     },
     "execution_count": 12,
     "metadata": {},
     "output_type": "execute_result"
    }
   ],
   "source": [
    "# Check Unique Values for each variable.\n",
    "netflix_df.nunique()"
   ]
  },
  {
   "cell_type": "code",
   "execution_count": 13,
   "metadata": {
    "colab": {
     "base_uri": "https://localhost:8080/"
    },
    "id": "woP6GmQilbwY",
    "outputId": "1bbc1eab-bce0-4a89-bf7c-ae1efd6d3508"
   },
   "outputs": [
    {
     "name": "stdout",
     "output_type": "stream",
     "text": [
      "Unique values for  show_id are \n",
      " ['s1' 's2' 's3' ... 's7785' 's7786' 's7787'] \n",
      "\n",
      "Unique values for  type are \n",
      " ['TV Show' 'Movie'] \n",
      "\n",
      "Unique values for  title are \n",
      " ['3%' '7:19' '23:59' ... 'Zulu Man in Japan' \"Zumbo's Just Desserts\"\n",
      " \"ZZ TOP: THAT LITTLE OL' BAND FROM TEXAS\"] \n",
      "\n",
      "Unique values for  director are \n",
      " [nan 'Jorge Michel Grau' 'Gilbert Chan' ... 'Josef Fares' 'Mozez Singh'\n",
      " 'Sam Dunn'] \n",
      "\n",
      "Unique values for  cast are \n",
      " ['João Miguel, Bianca Comparato, Michel Gomes, Rodolfo Valente, Vaneza Oliveira, Rafael Lozano, Viviane Porto, Mel Fronckowiak, Sergio Mamberti, Zezé Motta, Celso Frateschi'\n",
      " 'Demián Bichir, Héctor Bonilla, Oscar Serrano, Azalia Ortiz, Octavio Michel, Carmen Beato'\n",
      " 'Tedd Chan, Stella Chung, Henley Hii, Lawrence Koh, Tommy Kuan, Josh Lai, Mark Lee, Susan Leong, Benjamin Lim'\n",
      " ...\n",
      " 'Vicky Kaushal, Sarah-Jane Dias, Raaghav Chanana, Manish Chaudhary, Meghna Malik, Malkeet Rauni, Anita Shabdish, Chittaranjan Tripathy'\n",
      " 'Nasty C' 'Adriano Zumbo, Rachel Khoo'] \n",
      "\n",
      "Unique values for  country are \n",
      " ['Brazil' 'Mexico' 'Singapore' 'United States' 'Turkey' 'Egypt' 'India'\n",
      " 'Poland, United States' 'Thailand' 'Nigeria' nan\n",
      " 'Norway, Iceland, United States' 'United Kingdom' 'Japan' 'South Korea'\n",
      " 'Italy' 'Canada' 'Indonesia' 'Romania' 'Spain' 'Iceland'\n",
      " 'South Africa, Nigeria' 'France' 'United States, South Africa'\n",
      " 'Portugal, Spain' 'Hong Kong, China, Singapore' 'United States, Germany'\n",
      " 'South Africa, China, United States' 'Argentina'\n",
      " 'United States, France, Serbia' 'Germany' 'Denmark, France, Poland'\n",
      " 'Poland' 'Kenya' 'New Zealand, United Kingdom' 'Pakistan' 'Australia'\n",
      " 'Australia, United States' 'Mexico, United States' 'United States, China'\n",
      " 'China, Hong Kong' 'Taiwan' 'United States, United Kingdom'\n",
      " 'France, South Korea, Japan' 'United States, Canada'\n",
      " 'United Kingdom, United States' 'Netherlands, Denmark, South Africa'\n",
      " 'Canada, United States' 'Denmark' 'Hong Kong'\n",
      " 'France, Netherlands, Singapore' 'China' 'Philippines'\n",
      " 'United Kingdom, Spain, United States'\n",
      " 'United Arab Emirates, United States' 'Netherlands'\n",
      " 'United Kingdom, Hong Kong' 'Iran, France'\n",
      " 'United States, United Kingdom, France'\n",
      " 'United Kingdom, France, Belgium, United States, China'\n",
      " 'Argentina, Brazil, France, Poland, Germany, Denmark'\n",
      " 'Israel, United States' 'United States, Mexico'\n",
      " 'Uruguay, Argentina, Spain' 'Singapore, France'\n",
      " 'United Kingdom, United States, France, Germany' 'Turkey, United States'\n",
      " 'Bulgaria, United States' 'Australia, France'\n",
      " 'Hong Kong, Iceland, United States' 'United Arab Emirates'\n",
      " 'United States, Chile' 'Germany, France, Russia'\n",
      " 'Mauritius, South Africa' 'United States, Japan' 'Lebanon'\n",
      " 'United States, Bulgaria' 'Colombia' 'Uruguay, Argentina'\n",
      " 'Egypt, Algeria' 'France, Egypt' 'Uruguay' 'Soviet Union, India'\n",
      " 'Sweden, United States' 'South Africa' 'Malaysia'\n",
      " 'Ireland, United Kingdom, United States' 'Spain, Italy'\n",
      " 'United Kingdom, France, Germany' 'United States, Germany, Canada'\n",
      " 'United States, India' 'Japan, United States' 'Denmark, United States'\n",
      " 'South Africa, United States' 'Canada, Luxembourg'\n",
      " 'Serbia, United States' 'Canada, Nigeria' 'Iceland, Sweden, Belgium'\n",
      " 'Ireland, Canada' 'United States, Italy' 'Finland' 'India, Germany'\n",
      " 'China, Spain, South Korea, United States' 'Spain, Belgium'\n",
      " 'United Kingdom, Canada, United States, Germany'\n",
      " 'Brazil, Netherlands, United States, Colombia, Austria, Germany'\n",
      " 'France, Canada, Belgium'\n",
      " 'India, United Kingdom, China, Canada, Japan, South Korea, United States'\n",
      " 'France, Belgium' 'Indonesia, South Korea, Singapore' 'Norway' 'Peru'\n",
      " 'France, Senegal, Belgium' 'Canada, France' 'Chile'\n",
      " 'Romania, France, Switzerland, Germany'\n",
      " 'Bulgaria, United States, Spain, Canada' 'Sweden, Netherlands' 'Ghana'\n",
      " 'France, United States, Mexico'\n",
      " 'Australia, United Kingdom, United Arab Emirates, Canada'\n",
      " 'Singapore, United States' 'Japan, Canada, United States' 'Saudi Arabia'\n",
      " 'Australia, Armenia, Japan, Jordan, Mexico, Mongolia, New Zealand, Philippines, South Africa, Sweden, United States, Uruguay'\n",
      " 'United States, France' 'Norway, Denmark, Netherlands, Sweden' 'Namibia'\n",
      " 'Mexico, Finland' 'United States, Australia' 'Russia' 'Australia, Canada'\n",
      " 'United Kingdom, Ireland' 'Belgium, France' 'New Zealand'\n",
      " 'Uruguay, Spain, Mexico' 'South Korea, China'\n",
      " 'United States, Canada, Indonesia, United Kingdom, China, Singapore'\n",
      " 'India, Iran' 'United States, France, Japan' 'United Kingdom, France'\n",
      " 'Turkey, India' 'Philippines, Qatar' 'Vietnam'\n",
      " 'Ireland, Luxembourg, Belgium'\n",
      " 'Saudi Arabia, Syria, Egypt, Lebanon, Kuwait' 'Russia, United States'\n",
      " 'United Kingdom, Russia, United States' 'Argentina, Spain'\n",
      " 'Germany, Jordan, Netherlands' 'Hong Kong, China'\n",
      " 'Argentina, United States' 'France, Belgium, Spain'\n",
      " 'Germany, United States' 'Denmark, Sweden, Israel, United States'\n",
      " 'Ireland, United Kingdom' 'United States, Iceland'\n",
      " 'United Arab Emirates, United Kingdom, India' 'Sweden'\n",
      " 'Norway, Germany, Sweden' 'Finland, France' 'Denmark, Spain'\n",
      " 'United Kingdom, Russia' 'United States, United Kingdom, Australia'\n",
      " 'India, United Kingdom' 'United States, Canada, Ireland'\n",
      " 'Canada, United Kingdom' 'United States, Israel, Italy, South Africa'\n",
      " 'India, United States' 'United Kingdom, China' 'Indonesia, Singapore'\n",
      " 'Netherlands, Denmark, France, Germany' 'South Korea, Japan'\n",
      " 'Philippines, Canada, United Kingdom, United States'\n",
      " 'France, Malta, United States' 'Kuwait' 'United Kingdom, Pakistan'\n",
      " 'Ireland' 'France, New Zealand'\n",
      " 'United Kingdom, United States, Australia'\n",
      " 'United Kingdom, Czech Republic, United States, Germany, Bahamas'\n",
      " 'United States, Australia, China' 'China, Germany, India, United States'\n",
      " 'Germany, Sri Lanka' 'United States, Sweden'\n",
      " 'Canada, United States, Cayman Islands' 'India, France'\n",
      " 'United Kingdom, Canada' 'United States, India, Bangladesh'\n",
      " 'United States, Canada, France' 'Taiwan, China, France, United States'\n",
      " 'Brazil, France, Germany' 'United States,'\n",
      " 'Turkey, France, Germany, Poland' 'Australia, New Zealand, United States'\n",
      " 'Germany, United States, Hong Kong, Singapore'\n",
      " 'France, Germany, Switzerland' 'Mexico, Argentina'\n",
      " 'Italy, United States, Argentina'\n",
      " 'Germany, France, Luxembourg, United Kingdom, United States'\n",
      " 'Canada, United States, United Kingdom' 'United Kingdom, Canada, Italy'\n",
      " 'Czech Republic, France' 'Zimbabwe'\n",
      " 'United Kingdom, France, Germany, Spain'\n",
      " 'Taiwan, Hong Kong, United States, China' 'China, United States'\n",
      " 'Canada, Brazil' 'United Kingdom, Australia' 'Hungary'\n",
      " 'Germany, Australia' 'United Kingdom, Poland, United States' 'Bulgaria'\n",
      " 'Philippines, United States' 'Finland, Germany' 'United States, Thailand'\n",
      " 'Spain, Belgium, Switzerland, United States, China, United Kingdom'\n",
      " 'Denmark, Zimbabwe' 'United Kingdom, South Africa'\n",
      " 'Finland, Sweden, Norway, Latvia, Germany' 'United Kingdom, India'\n",
      " 'South Africa, United States, New Zealand, Canada' 'France, Qatar'\n",
      " 'France, Algeria' 'United States, Italy, United Kingdom, Liechtenstein'\n",
      " 'Denmark, France, Belgium, Italy, Netherlands, United States, United Kingdom'\n",
      " 'United States, Australia, Mexico'\n",
      " 'United Kingdom, Czech Republic, Germany, United States'\n",
      " 'Russia, Poland, Serbia' 'France, China, Japan, United States'\n",
      " 'United States, South Korea, China' 'Germany, Belgium' 'Chile, Argentina'\n",
      " 'China, United States, United Kingdom' 'Pakistan, Norway, United States'\n",
      " 'United Kingdom, Japan, United States' 'Philippines, Singapore'\n",
      " 'United States, Canada, Belgium, United Kingdom' 'Venezuela'\n",
      " 'Argentina, Uruguay, Serbia' 'United States, Mexico, Colombia'\n",
      " 'Colombia, Peru, United Kingdom' 'Brazil, United States'\n",
      " 'Czech Republic, United States'\n",
      " 'Canada, France, Italy, Morocco, United States' 'Canada, Spain, France'\n",
      " 'Hong Kong, United States' 'France, Canada, China, Cambodia'\n",
      " 'United States, Indonesia' 'Spain, France' 'Spain, Mexico, France'\n",
      " 'Spain, France, Italy' 'Spain, France, United States'\n",
      " 'United States, France, Canada' 'Israel' 'Italy, France'\n",
      " 'United Kingdom, Canada, United States' 'Cambodia, United States'\n",
      " 'China, Japan' 'United Arab Emirates, United States, United Kingdom'\n",
      " 'Argentina, Italy' 'United Kingdom, Israel, Russia'\n",
      " 'Italy, Switzerland, Albania, Poland' 'Spain, Cuba'\n",
      " 'United States, Brazil' 'United States, France, Mexico'\n",
      " 'United States, Nicaragua' 'Austria, Germany'\n",
      " 'United Arab Emirates, Jordan, Lebanon'\n",
      " 'France, United Kingdom, United States'\n",
      " 'United Kingdom, United States, Spain, Germany, Greece, Canada'\n",
      " 'France, Belgium, Luxembourg, Cambodia,' 'Italy, Turkey' 'Brazil, France'\n",
      " 'India, Turkey' 'Kenya, United States' 'United States, South Korea'\n",
      " 'South Korea, United States' 'Italy, Canada, France'\n",
      " 'Thailand, United States' 'United Kingdom, Denmark, Canada, Croatia'\n",
      " 'Netherlands, Belgium'\n",
      " 'United Kingdom, Canada, United States, Cayman Islands' 'Italy, Germany'\n",
      " 'United States, France, United Kingdom, Japan'\n",
      " 'United States, United Kingdom, Denmark, Sweden'\n",
      " 'United States, United Kingdom, Italy'\n",
      " 'United States, France, Canada, Spain' 'Uruguay, Guatemala'\n",
      " 'Germany, Australia, France, China'\n",
      " 'United States, United Kingdom, Japan'\n",
      " 'United States, United Kingdom, Canada'\n",
      " 'Italy, Switzerland, France, Germany' 'Russia, United States, China'\n",
      " 'United States, Canada, Germany' 'United States, Czech Republic'\n",
      " 'Ireland, United States' 'United States, United Arab Emirates'\n",
      " 'France, Australia, Germany' 'Hong Kong, China, United States'\n",
      " 'Lebanon, United Arab Emirates, France, Switzerland, Germany'\n",
      " 'United States, South Korea, Japan' 'Romania, United States'\n",
      " 'West Germany' 'United States, Ireland' 'Chile, Italy'\n",
      " 'Ireland, United Kingdom, Italy, United States' 'Belgium' 'Poland,'\n",
      " 'Slovenia, Croatia, Germany, Czech Republic, Qatar'\n",
      " 'Canada, United Kingdom, Netherlands'\n",
      " 'United Kingdom, United States, France' 'Indonesia, United Kingdom'\n",
      " 'United States, Spain, Germany' 'India, Japan'\n",
      " 'Switzerland, France, Belgium, United States'\n",
      " 'China, South Korea, United States' 'United Kingdom, France, Belgium'\n",
      " 'Canada, Ireland, United States'\n",
      " 'United Kingdom, United States, Dominican Republic'\n",
      " 'United States, Senegal' 'Germany, United Kingdom, United States'\n",
      " 'United States, Canada, United Kingdom' 'Canada, United States, France'\n",
      " 'United Kingdom, Germany, Canada' 'Argentina, France'\n",
      " 'South Africa, Germany, Netherlands, France'\n",
      " 'Canada, United States, United Kingdom, France, Luxembourg'\n",
      " 'Finland, Germany, Belgium' 'United States, United Kingdom, Germany'\n",
      " 'Taiwan, China' 'Cambodia' 'Spain, Portugal'\n",
      " 'Ireland, United States, France' 'Jordan' 'Austria'\n",
      " 'Germany, United States, Canada'\n",
      " 'United Kingdom, Germany, Canada, United States'\n",
      " 'United States, France, Canada, Lebanon, Qatar' 'Indonesia, Netherlands'\n",
      " 'Netherlands, Belgium, United Kingdom, United States'\n",
      " 'China, United States, Australia' 'France, Belgium, China, United States'\n",
      " 'Spain, United Kingdom' 'United States, Chile, Israel' 'Bangladesh'\n",
      " 'United Kingdom, Norway, Denmark, Germany, Sweden'\n",
      " 'United States, Japan, Canada' 'Norway, Denmark, Sweden'\n",
      " 'China, India, Nepal' 'United States, Argentina'\n",
      " 'Mexico, United States, Spain, Colombia'\n",
      " 'Colombia, Mexico, United States' 'United Kingdom, Belgium, Sweden'\n",
      " 'Nigeria, United Kingdom' 'United Kingdom, South Korea'\n",
      " 'United States, Taiwan' 'Netherlands, Belgium, Germany, Jordan'\n",
      " 'France, Canada' 'United Kingdom, France, United States'\n",
      " 'Denmark, Singapore, Canada, United States' 'Denmark, China'\n",
      " 'Malaysia, Singapore, Hong Kong' 'Norway, United States'\n",
      " 'United States, Philippines' 'United States, Greece, Brazil'\n",
      " 'France, United States' 'South Korea, France'\n",
      " 'United States, Australia, Samoa, United Kingdom' 'Canada, South Africa'\n",
      " 'United Kingdom, Italy' 'Germany, United Kingdom' 'China, United Kingdom'\n",
      " 'Argentina, Chile, Peru' 'United States, Russia' 'Uruguay, Germany'\n",
      " 'Turkey, Azerbaijan' 'United States, China, Hong Kong'\n",
      " 'Canada, Germany, France, United States'\n",
      " 'Argentina, United States, Mexico' 'France, United Kingdom, India'\n",
      " 'China, Taiwan' 'Italy, United Kingdom, France' 'Poland, West Germany'\n",
      " 'Germany, United States, Sweden' 'Canada, Spain'\n",
      " 'United Kingdom, France, Belgium, United States' 'France, Japan'\n",
      " 'Netherlands, Germany, Italy, Canada' 'United States, Cambodia'\n",
      " 'United States, Greece' 'United States, China, Colombia'\n",
      " 'United States, Spain, Italy' 'Norway, United Kingdom, France, Ireland'\n",
      " 'United States, Bermuda, Ecuador' 'United Kingdom, Poland'\n",
      " 'China, Canada, United States' 'United States, Spain' 'India, Mexico'\n",
      " 'United Kingdom, West Germany' 'Pakistan, United States'\n",
      " 'Israel, Sweden, Germany, Netherlands' 'Chile, United States, France'\n",
      " 'France, Morocco' 'United Kingdom, Germany' 'Georgia, Germany, France'\n",
      " 'Switzerland, France' 'Turkey, South Korea' 'Italy, India'\n",
      " 'United States, Botswana' 'United States, Colombia, Mexico'\n",
      " 'Chile, Argentina, France, Spain, United States'\n",
      " 'Puerto Rico, United States, Colombia' 'United States, Nigeria'\n",
      " 'Germany, United States, France' 'Spain, Germany, Denmark, United States'\n",
      " 'United Kingdom, United States, Japan' 'Netherlands, United States'\n",
      " 'United States, India, South Korea, China'\n",
      " 'Denmark, Germany, Belgium, United Kingdom, France'\n",
      " 'Denmark, Germany, Belgium, United Kingdom, France, Sweden'\n",
      " 'France, Switzerland, Spain, United States, United Arab Emirates'\n",
      " 'Norway, Sweden' 'United States, Ireland, United Kingdom, India'\n",
      " 'United Kingdom, Singapore' 'Spain, Germany' 'Germany, Czech Republic'\n",
      " 'Denmark, Brazil, France, Portugal, Sweden'\n",
      " 'Brazil, India, China, United States' 'India, Germany, Austria'\n",
      " 'Italy, United States' 'Denmark, France, United States, Sweden'\n",
      " 'Australia, Iraq' 'China, Morocco, Hong Kong' 'Spain, Colombia'\n",
      " 'Australia, United Arab Emirates' 'Canada, United States, Germany'\n",
      " 'France, Belgium, Italy' 'United Kingdom, Thailand' 'Venezuela, Colombia'\n",
      " 'France, Luxembourg, Canada' 'India, Nepal' 'Mexico, Spain'\n",
      " 'Colombia, United States' 'Colombia, Mexico'\n",
      " 'France, Germany, Czech Republic, Belgium'\n",
      " 'Germany, China, United Kingdom' 'Canada, Hungary, United States'\n",
      " 'Pakistan, United Arab Emirates' 'France, United Kingdom'\n",
      " 'Spain, United Kingdom, United States' 'United Kingdom, Kenya'\n",
      " 'United States, Norway, Canada' 'Canada, United States, Ireland'\n",
      " 'Switzerland, Vatican City, Italy, Germany, France'\n",
      " 'Portugal, France, Poland, United States' 'France, Japan, United States'\n",
      " 'United States, New Zealand' 'United States, New Zealand, Japan'\n",
      " 'United States, Netherlands, Japan, France' 'India, Switzerland'\n",
      " 'Canada, India' 'Canada, Japan, United States' 'United States, Morocco'\n",
      " 'United States, Mexico, Spain, Malta' 'Norway, Denmark'\n",
      " 'South Korea, Canada, United States, China' 'Singapore, Japan, France'\n",
      " 'Canada, Mexico, Germany, South Africa'\n",
      " 'United Kingdom, United States, Canada'\n",
      " 'Germany, France, United States, Canada, United Kingdom'\n",
      " 'Peru, Germany, Norway' 'Singapore, Malaysia' 'United States, Uruguay'\n",
      " 'India, Canada' 'Ireland, Canada, United Kingdom, United States'\n",
      " 'United States, Germany, Australia' 'Senegal' 'Israel, Germany, France'\n",
      " 'Australia, France, Ireland' 'South Africa, Angola'\n",
      " 'Austria, Czech Republic' 'Australia, India'\n",
      " 'United States, United Kingdom, Canada, Japan'\n",
      " 'Sweden, United Kingdom, Finland' 'Hong Kong, Taiwan'\n",
      " 'United States, United Kingdom, Spain, South Korea'\n",
      " 'South Korea, China, United States' 'Guatemala' 'Ukraine'\n",
      " 'United States, United Kingdom, Canada, China'\n",
      " 'Italy, South Africa, West Germany, Australia, United States'\n",
      " 'United Kingdom, Finland, Germany' 'South Africa, United States, Germany'\n",
      " 'United States, Germany, United Kingdom, Australia' 'India, Soviet Union'\n",
      " 'Italy, France, Switzerland' 'Canada, France, United States'\n",
      " 'United States, Colombia' 'India, Malaysia' 'Switzerland, United States'\n",
      " 'Thailand, Canada, United States' 'China, Hong Kong, United States'\n",
      " 'United Kingdom, New Zealand'\n",
      " 'United Kingdom, France, Germany, United States'\n",
      " 'South Korea, Czech Republic' 'Czech Republic, United Kingdom, France'\n",
      " 'Australia, United Kingdom, Canada'\n",
      " 'Canada, United Kingdom, United States' 'United States, Hungary'\n",
      " 'Jamaica, United States' 'Switzerland'\n",
      " 'Australia, United Kingdom, United States, New Zealand, Italy, France'\n",
      " 'France, United States, Canada' 'Australia, United Kingdom'\n",
      " 'United States, Denmark'\n",
      " 'United Kingdom, France, Canada, Belgium, United States'\n",
      " 'Denmark, United Kingdom, Sweden' 'Belarus' 'Cyprus'\n",
      " 'Lebanon, United States, United Arab Emirates' 'United States, Hong Kong'\n",
      " 'United States, Kazakhstan'\n",
      " 'Argentina, France, United States, Germany, Qatar'\n",
      " 'United States, Germany, United Kingdom'\n",
      " 'United States, Germany, United Kingdom, Italy'\n",
      " 'United States, New Zealand, United Kingdom' 'Finland, United States'\n",
      " 'Spain, France, Uruguay' 'France, Belgium, United States'\n",
      " 'France, Canada, United States' 'Spain, Argentina'\n",
      " 'United Kingdom, India, United States' 'Chile, France'\n",
      " 'United States, United Kingdom, France, Germany, Japan' 'Canada, Norway'\n",
      " 'United States, Hungary, Ireland, Canada' 'United States, Canada, China'\n",
      " 'United Kingdom, Malawi'\n",
      " 'Ireland, Canada, Luxembourg, United States, United Kingdom, Philippines, India'\n",
      " 'United States, Czech Republic, United Kingdom' 'Ghana, United States'\n",
      " 'Israel, Germany' 'Spain, Mexico' 'Mexico, France'\n",
      " 'Brazil, United Kingdom'\n",
      " 'France, Belgium, Luxembourg, Romania, Canada, United States'\n",
      " 'Israel, Germany, Poland, Luxembourg, Belgium, France, United States'\n",
      " 'France, Germany' 'United States, Malta, France, United Kingdom'\n",
      " 'United Kingdom, United States, Germany, Denmark, Belgium, Japan'\n",
      " 'Austria, United States' 'Canada, Australia' 'Greece, United States'\n",
      " 'United Kingdom, France, Belgium, Canada, United States'\n",
      " 'Argentina, Chile' 'Czech Republic, Slovakia'\n",
      " 'United Kingdom, Germany, United States, France'\n",
      " 'United Kingdom, Lithuania' 'Egypt, France' 'Spain, France, Canada'\n",
      " 'United States, Greece, United Kingdom'\n",
      " 'United Kingdom, China, United States, India' 'Taiwan, Malaysia'\n",
      " 'United States, Sweden, Norway' 'United Kingdom, United States, Morocco'\n",
      " 'United States, United Kingdom, Morocco' 'United States, China, Canada'\n",
      " 'Spain, Canada, United States' 'Canada, Belgium'\n",
      " 'United States, India, United Arab Emirates'\n",
      " 'United Kingdom, Canada, France, United States'\n",
      " 'Spain, Thailand, United States' 'Canada, Germany, South Africa'\n",
      " 'India, Germany, France' 'United States, Israel, United Kingdom, Canada'\n",
      " 'United Kingdom, Hungary, Australia' 'Lebanon, France'\n",
      " 'Belgium, Ireland, Netherlands, Germany, Afghanistan' 'Chile, Peru'\n",
      " 'Paraguay, Argentina'\n",
      " 'United Kingdom, Italy, Israel, Peru, United States' 'Norway, Germany'\n",
      " 'France, Canada, Italy, United States, China'\n",
      " 'Netherlands, Germany, Denmark, United Kingdom' 'France, Lebanon'\n",
      " 'Ireland, United Kingdom, Greece, France, Netherlands'\n",
      " 'Denmark, Indonesia, Finland, Norway, United Kingdom, Israel, France, United States, Germany, Netherlands'\n",
      " 'New Zealand, United States' 'Argentina, Uruguay, Spain, France'\n",
      " 'United Kingdom, Germany, United States'\n",
      " 'United States, Australia, South Africa, United Kingdom' 'Italy, Belgium'\n",
      " 'United States, Germany, Mexico' 'Chile, Spain, Argentina, Germany'\n",
      " 'Germany, Italy' 'United Kingdom, Nigeria'\n",
      " 'Belgium, United Kingdom, United States' 'Australia, New Zealand'\n",
      " 'Spain, Switzerland' 'Indonesia, United States'\n",
      " 'Canada, South Korea, United States' 'France, Iran, United States'\n",
      " 'Croatia' 'Somalia, Kenya, Sudan, South Africa, United States'\n",
      " 'Ireland, France, Iceland, United States, Mexico, Belgium, United Kingdom, Hong Kong'\n",
      " 'Spain, United States' 'United States, Canada, Japan, Panama'\n",
      " 'United Kingdom, Spain, Belgium' 'Serbia, South Korea, Slovenia'\n",
      " 'Denmark, United Kingdom, South Africa, Sweden, Belgium'\n",
      " 'Germany, Canada, United States' 'Ireland, South Africa'\n",
      " 'Canada, Germany' 'Spain, France, Canada, United States'\n",
      " 'India, United Kingdom, Canada, United States'\n",
      " 'United States, Belgium, Canada' 'United States, France, Canada, Belgium'\n",
      " 'United Kingdom, Egypt, United States'\n",
      " 'United Kingdom, Germany, United Arab Emirates, New Zealand'\n",
      " 'United Kingdom, France, United States, Belgium, Luxembourg, China, Germany'\n",
      " 'United Kingdom, Spain, United States, Germany'\n",
      " 'United States, France, Italy, United Kingdom' 'Georgia'\n",
      " 'United States, United Kingdom, India'\n",
      " 'Ireland, Canada, United States, United Kingdom'\n",
      " 'New Zealand, United Kingdom, Australia' 'United States, Poland'\n",
      " 'United Arab Emirates, Romania'\n",
      " 'United Kingdom, Australia, Canada, United States' 'Mexico, Netherlands'\n",
      " 'Spain, Italy, Argentina' 'Germany, United States, Italy'\n",
      " 'United States, Venezuela' 'United Kingdom, Canada, Japan'\n",
      " 'Canada, Japan, Netherlands'\n",
      " 'United Kingdom, United States, Czech Republic'\n",
      " 'United Kingdom, China, United States' 'United Kingdom, Brazil, Germany'\n",
      " 'Thailand, China, United States'\n",
      " 'United Kingdom, Namibia, South Africa, Zimbabwe, United States'\n",
      " 'United Kingdom, South Africa, Australia, United States'\n",
      " 'Canada, United States, India, United Kingdom'\n",
      " 'United States, Brazil, South Korea, Mexico, Japan, Germany'\n",
      " 'France, Lebanon, United Kingdom' 'United Kingdom, Jordan, Qatar, Iran'\n",
      " 'Switzerland, United Kingdom, United States' 'Belgium, Netherlands'\n",
      " 'United Kingdom, Germany, France, United States'\n",
      " 'Romania, United Kingdom' 'Lebanon, Qatar'\n",
      " 'United Kingdom, India, Sweden' 'United Kingdom, Belgium'\n",
      " 'India, Pakistan' 'United Kingdom,'\n",
      " 'Saudi Arabia, Netherlands, Germany, Jordan, United Arab Emirates, United States'\n",
      " 'France, Brazil, Spain, Belgium'\n",
      " 'United States, Brazil, India, Uganda, China'\n",
      " 'United Kingdom, Ireland, United States' 'Lebanon, Canada, France'\n",
      " 'India, Australia' 'Austria, Iraq, United States'\n",
      " 'France, Norway, Lebanon, Belgium'\n",
      " 'United Kingdom, France, United States, Belgium'\n",
      " 'Saudi Arabia, United Arab Emirates'\n",
      " 'Peru, United States, United Kingdom'\n",
      " 'Germany, United States, United Kingdom, Canada'\n",
      " 'Uruguay, Argentina, Germany, Spain' 'France, Luxembourg, United States'\n",
      " 'United Kingdom, Spain'\n",
      " 'Canada, India, Thailand, United States, United Arab Emirates'\n",
      " 'Romania, Bulgaria, Hungary' 'United States, East Germany, West Germany'\n",
      " 'France, Netherlands, South Africa, Finland'\n",
      " 'United Kingdom, Ukraine, United States' 'Egypt, Austria, United States'\n",
      " 'Russia, Spain' 'Croatia, Slovenia, Serbia, Montenegro' 'Japan, Canada'\n",
      " 'United States, France, South Korea, Indonesia'\n",
      " 'United Arab Emirates, Jordan'\n",
      " 'Sweden, Czech Republic, United Kingdom, Denmark, Netherlands'] \n",
      "\n",
      "Unique values for  date_added are \n",
      " ['August 14, 2020' 'December 23, 2016' 'December 20, 2018' ...\n",
      " 'December 6, 2018' 'March 9, 2016' 'January 11, 2020'] \n",
      "\n",
      "Unique values for  release_year are \n",
      " [2020 2016 2011 2009 2008 2019 1997 2017 2018 2014 2015 2010 2005 2013\n",
      " 2012 2006 2000 2003 1989 2004 1977 1971 1993 2007 1998 1988 1996 2002\n",
      " 1986 1990 1979 1980 1974 2001 1999 1966 1991 1982 1994 1995 1978 1992\n",
      " 1972 1975 2021 1973 1967 1960 1981 1958 1976 1968 1956 1985 1965 1984\n",
      " 1983 1987 1945 1946 1962 1925 1942 1969 1955 1963 1964 1954 1970 1944\n",
      " 1947 1959 1943] \n",
      "\n",
      "Unique values for  rating are \n",
      " ['TV-MA' 'R' 'PG-13' 'TV-14' 'TV-PG' 'NR' 'TV-G' 'TV-Y' nan 'TV-Y7' 'PG'\n",
      " 'G' 'NC-17' 'TV-Y7-FV' 'UR'] \n",
      "\n",
      "Unique values for  duration are \n",
      " ['4 Seasons' '93 min' '78 min' '80 min' '123 min' '1 Season' '95 min'\n",
      " '119 min' '118 min' '143 min' '103 min' '89 min' '91 min' '149 min'\n",
      " '144 min' '124 min' '87 min' '110 min' '128 min' '117 min' '100 min'\n",
      " '2 Seasons' '84 min' '99 min' '90 min' '102 min' '104 min' '105 min'\n",
      " '56 min' '125 min' '81 min' '97 min' '106 min' '107 min' '109 min'\n",
      " '44 min' '75 min' '101 min' '3 Seasons' '37 min' '113 min' '114 min'\n",
      " '130 min' '94 min' '140 min' '135 min' '82 min' '70 min' '121 min'\n",
      " '92 min' '164 min' '53 min' '83 min' '116 min' '86 min' '120 min'\n",
      " '96 min' '126 min' '129 min' '77 min' '137 min' '148 min' '28 min'\n",
      " '122 min' '176 min' '85 min' '22 min' '68 min' '111 min' '29 min'\n",
      " '142 min' '168 min' '21 min' '59 min' '20 min' '98 min' '108 min'\n",
      " '76 min' '26 min' '156 min' '30 min' '57 min' '150 min' '133 min'\n",
      " '115 min' '154 min' '127 min' '146 min' '136 min' '88 min' '131 min'\n",
      " '24 min' '112 min' '74 min' '63 min' '38 min' '25 min' '174 min' '60 min'\n",
      " '153 min' '158 min' '151 min' '162 min' '54 min' '51 min' '69 min'\n",
      " '64 min' '147 min' '42 min' '79 min' '5 Seasons' '40 min' '45 min'\n",
      " '172 min' '10 min' '163 min' '9 Seasons' '55 min' '72 min' '61 min'\n",
      " '71 min' '160 min' '171 min' '48 min' '139 min' '157 min' '15 min'\n",
      " '65 min' '134 min' '161 min' '62 min' '8 Seasons' '186 min' '49 min'\n",
      " '73 min' '58 min' '165 min' '166 min' '138 min' '159 min' '141 min'\n",
      " '132 min' '52 min' '67 min' '34 min' '66 min' '312 min' '180 min'\n",
      " '47 min' '6 Seasons' '155 min' '14 min' '177 min' '11 min' '9 min'\n",
      " '46 min' '145 min' '11 Seasons' '7 Seasons' '13 Seasons' '8 min' '12 min'\n",
      " '12 Seasons' '10 Seasons' '43 min' '50 min' '23 min' '185 min' '200 min'\n",
      " '169 min' '27 min' '170 min' '196 min' '33 min' '181 min' '204 min'\n",
      " '32 min' '35 min' '167 min' '16 Seasons' '179 min' '193 min' '13 min'\n",
      " '214 min' '17 min' '173 min' '192 min' '209 min' '187 min' '41 min'\n",
      " '182 min' '224 min' '233 min' '189 min' '152 min' '19 min' '15 Seasons'\n",
      " '208 min' '237 min' '31 min' '178 min' '230 min' '194 min' '228 min'\n",
      " '195 min' '3 min' '16 min' '5 min' '18 min' '205 min' '190 min' '36 min'\n",
      " '201 min' '253 min' '203 min' '191 min'] \n",
      "\n",
      "Unique values for  listed_in are \n",
      " ['International TV Shows, TV Dramas, TV Sci-Fi & Fantasy'\n",
      " 'Dramas, International Movies' 'Horror Movies, International Movies'\n",
      " 'Action & Adventure, Independent Movies, Sci-Fi & Fantasy' 'Dramas'\n",
      " 'International TV Shows, TV Dramas, TV Mysteries'\n",
      " 'Horror Movies, International Movies, Thrillers' 'Dramas, Thrillers'\n",
      " 'Crime TV Shows, International TV Shows, TV Dramas'\n",
      " 'Crime TV Shows, Docuseries, International TV Shows'\n",
      " 'Documentaries, International Movies, Sports Movies'\n",
      " 'Independent Movies, Sci-Fi & Fantasy, Thrillers'\n",
      " 'Dramas, International Movies, Thrillers'\n",
      " 'International TV Shows, TV Dramas'\n",
      " 'Comedies, Dramas, Independent Movies' 'Sports Movies'\n",
      " 'Dramas, Independent Movies, International Movies'\n",
      " 'Action & Adventure, Dramas, International Movies'\n",
      " 'Anime Series, International TV Shows' 'Documentaries' 'Reality TV'\n",
      " 'Documentaries, International Movies' 'TV Comedies'\n",
      " 'Dramas, International Movies, Romantic Movies' 'Comedies'\n",
      " 'Comedies, Romantic Movies' 'Documentaries, Sports Movies'\n",
      " 'Comedies, Dramas, International Movies'\n",
      " 'International TV Shows, Romantic TV Shows, TV Comedies'\n",
      " 'Comedies, International Movies' 'Action & Adventure, Sci-Fi & Fantasy'\n",
      " 'Dramas, Romantic Movies' 'Dramas, Romantic Movies, Sports Movies'\n",
      " 'Comedies, International Movies, Romantic Movies' 'Action & Adventure'\n",
      " 'International TV Shows, Romantic TV Shows, TV Dramas'\n",
      " 'Docuseries, Science & Nature TV'\n",
      " 'Dramas, International Movies, Sports Movies' 'Movies'\n",
      " 'British TV Shows, International TV Shows, Reality TV'\n",
      " 'Dramas, Independent Movies, Sports Movies'\n",
      " 'International TV Shows, Korean TV Shows, Romantic TV Shows'\n",
      " 'Horror Movies, Independent Movies, Thrillers'\n",
      " 'Crime TV Shows, TV Dramas, TV Mysteries' 'Crime TV Shows, Docuseries'\n",
      " 'Horror Movies, Thrillers' 'Action & Adventure, International Movies'\n",
      " 'Horror Movies, Independent Movies' 'Documentaries, Music & Musicals'\n",
      " 'International Movies, Music & Musicals' 'Sci-Fi & Fantasy'\n",
      " 'Dramas, Independent Movies' 'British TV Shows, Reality TV'\n",
      " 'Action & Adventure, Comedies, International Movies' 'Comedies, Dramas'\n",
      " 'Dramas, LGBTQ Movies' 'Documentaries, Faith & Spirituality'\n",
      " 'Action & Adventure, Comedies'\n",
      " \"Kids' TV, TV Action & Adventure, TV Sci-Fi & Fantasy\"\n",
      " 'International Movies, Thrillers' \"Kids' TV\"\n",
      " 'International TV Shows, Romantic TV Shows, Spanish-Language TV Shows'\n",
      " 'Children & Family Movies, Comedies' 'Comedies, LGBTQ Movies'\n",
      " 'Comedies, Dramas, Romantic Movies' 'Action & Adventure, Dramas'\n",
      " 'Dramas, Independent Movies, Romantic Movies'\n",
      " 'Comedies, Independent Movies, Thrillers' 'TV Shows' 'Docuseries'\n",
      " 'Comedies, International Movies, Music & Musicals'\n",
      " 'Docuseries, International TV Shows, Science & Nature TV'\n",
      " 'British TV Shows, Docuseries, Science & Nature TV'\n",
      " 'Children & Family Movies, Dramas, Sports Movies'\n",
      " 'Children & Family Movies' 'Dramas, Sci-Fi & Fantasy'\n",
      " 'International TV Shows, TV Comedies, TV Dramas'\n",
      " 'Action & Adventure, Classic Movies, Dramas'\n",
      " 'Children & Family Movies, Dramas'\n",
      " 'Action & Adventure, International Movies, Romantic Movies'\n",
      " 'Children & Family Movies, Dramas, Romantic Movies'\n",
      " 'Children & Family Movies, Comedies, Music & Musicals'\n",
      " 'Classic Movies, Cult Movies, Dramas'\n",
      " 'Action & Adventure, International Movies, Sci-Fi & Fantasy'\n",
      " 'Comedies, Independent Movies' 'Comedies, Horror Movies'\n",
      " 'Children & Family Movies, Comedies, Romantic Movies'\n",
      " 'International TV Shows, TV Dramas, TV Horror' 'Thrillers'\n",
      " 'Stand-Up Comedy & Talk Shows, TV Comedies'\n",
      " 'International TV Shows, Romantic TV Shows, Teen TV Shows'\n",
      " 'Crime TV Shows, International TV Shows, Korean TV Shows'\n",
      " 'Comedies, International Movies, Sports Movies'\n",
      " 'Dramas, LGBTQ Movies, Romantic Movies' 'Comedies, Cult Movies'\n",
      " 'Dramas, Independent Movies, LGBTQ Movies'\n",
      " 'International TV Shows, Reality TV' 'Stand-Up Comedy'\n",
      " 'Documentaries, LGBTQ Movies'\n",
      " \"Kids' TV, TV Action & Adventure, TV Comedies\"\n",
      " 'Anime Features, International Movies'\n",
      " 'Music & Musicals, Romantic Movies' 'Comedies, Music & Musicals'\n",
      " 'International TV Shows, TV Comedies'\n",
      " 'International Movies, Romantic Movies'\n",
      " 'Anime Features, Children & Family Movies, International Movies'\n",
      " 'British TV Shows, TV Comedies, TV Dramas' 'TV Dramas' 'Horror Movies'\n",
      " 'Action & Adventure, Children & Family Movies, Independent Movies'\n",
      " 'Dramas, International Movies, Music & Musicals'\n",
      " 'Comedies, International Movies, Sci-Fi & Fantasy'\n",
      " 'International TV Shows, Korean TV Shows, Stand-Up Comedy & Talk Shows'\n",
      " 'Docuseries, Science & Nature TV, TV Comedies' 'Dramas, Sports Movies'\n",
      " 'Dramas, Music & Musicals, Romantic Movies'\n",
      " 'Children & Family Movies, Comedies, International Movies'\n",
      " 'Action & Adventure, Documentaries, International Movies'\n",
      " 'Comedies, International Movies, Thrillers'\n",
      " 'Action & Adventure, Dramas, Romantic Movies'\n",
      " 'Horror Movies, Independent Movies, International Movies'\n",
      " 'Dramas, Independent Movies, Sci-Fi & Fantasy'\n",
      " 'International Movies, Sci-Fi & Fantasy'\n",
      " 'Docuseries, Reality TV, Science & Nature TV'\n",
      " 'British TV Shows, Docuseries, International TV Shows'\n",
      " 'Docuseries, International TV Shows'\n",
      " 'British TV Shows, International TV Shows, TV Comedies'\n",
      " 'Action & Adventure, Horror Movies'\n",
      " 'British TV Shows, Reality TV, Romantic TV Shows'\n",
      " 'Crime TV Shows, International TV Shows, TV Action & Adventure'\n",
      " 'International TV Shows, Reality TV, Romantic TV Shows'\n",
      " 'International Movies, Music & Musicals, Romantic Movies'\n",
      " 'TV Comedies, TV Dramas'\n",
      " 'Anime Series, Crime TV Shows, International TV Shows'\n",
      " \"Kids' TV, TV Comedies, TV Dramas\" 'Action & Adventure, Comedies, Dramas'\n",
      " 'Documentaries, International Movies, Music & Musicals'\n",
      " \"Kids' TV, TV Comedies\" 'Classic Movies, Dramas, International Movies'\n",
      " 'Comedies, Independent Movies, International Movies'\n",
      " 'Classic Movies, Comedies, Dramas'\n",
      " 'International TV Shows, TV Action & Adventure, TV Mysteries'\n",
      " 'Comedies, International Movies, LGBTQ Movies'\n",
      " 'Children & Family Movies, Comedies, Sci-Fi & Fantasy'\n",
      " 'TV Dramas, Teen TV Shows' 'Children & Family Movies, Independent Movies'\n",
      " 'International TV Shows, Spanish-Language TV Shows, TV Comedies'\n",
      " 'Crime TV Shows, TV Action & Adventure, TV Dramas'\n",
      " 'Action & Adventure, Anime Features, International Movies'\n",
      " 'Action & Adventure, Classic Movies, Comedies'\n",
      " 'Crime TV Shows, TV Dramas' 'TV Horror, TV Mysteries, TV Thrillers'\n",
      " 'TV Dramas, TV Thrillers' 'Comedies, Cult Movies, Dramas'\n",
      " 'Crime TV Shows, TV Comedies, Teen TV Shows'\n",
      " 'Dramas, Faith & Spirituality' 'Comedies, Dramas, LGBTQ Movies'\n",
      " 'Action & Adventure, Comedies, Cult Movies'\n",
      " 'International TV Shows, TV Action & Adventure, TV Comedies'\n",
      " 'Dramas, Independent Movies, Music & Musicals'\n",
      " 'International TV Shows, TV Horror, TV Thrillers'\n",
      " 'International TV Shows, TV Horror, TV Mysteries'\n",
      " 'International TV Shows, TV Dramas, Teen TV Shows'\n",
      " 'Anime Series, International TV Shows, Teen TV Shows'\n",
      " 'Dramas, Sci-Fi & Fantasy, Thrillers'\n",
      " 'TV Action & Adventure, TV Dramas, TV Mysteries'\n",
      " 'Crime TV Shows, International TV Shows, TV Comedies'\n",
      " 'Action & Adventure, Comedies, Sci-Fi & Fantasy' \"Anime Series, Kids' TV\"\n",
      " 'Crime TV Shows, International TV Shows, Spanish-Language TV Shows'\n",
      " 'Horror Movies, Sci-Fi & Fantasy, Thrillers'\n",
      " 'International TV Shows, Korean TV Shows, TV Dramas'\n",
      " 'Stand-Up Comedy & Talk Shows'\n",
      " 'International Movies, Sci-Fi & Fantasy, Thrillers'\n",
      " 'Crime TV Shows, TV Action & Adventure'\n",
      " 'International TV Shows, Korean TV Shows, TV Action & Adventure'\n",
      " 'TV Action & Adventure, TV Comedies, TV Horror'\n",
      " 'International TV Shows, Romantic TV Shows'\n",
      " \"Crime TV Shows, Kids' TV, TV Comedies\"\n",
      " 'TV Comedies, TV Dramas, Teen TV Shows'\n",
      " 'Docuseries, International TV Shows, Reality TV'\n",
      " \"Classic & Cult TV, Kids' TV, TV Action & Adventure\"\n",
      " 'Horror Movies, Sci-Fi & Fantasy'\n",
      " 'Romantic TV Shows, TV Dramas, TV Sci-Fi & Fantasy'\n",
      " 'Dramas, International Movies, Sci-Fi & Fantasy'\n",
      " 'Children & Family Movies, Sports Movies'\n",
      " 'Dramas, Independent Movies, Thrillers'\n",
      " 'Independent Movies, International Movies, Thrillers'\n",
      " 'British TV Shows, TV Comedies'\n",
      " 'International TV Shows, Spanish-Language TV Shows, TV Dramas'\n",
      " 'Action & Adventure, Comedies, Independent Movies'\n",
      " 'International TV Shows, TV Action & Adventure, TV Dramas'\n",
      " 'Children & Family Movies, Music & Musicals' 'Music & Musicals'\n",
      " 'Action & Adventure, International Movies, Music & Musicals'\n",
      " 'Comedies, Sports Movies' 'Classic Movies, Thrillers'\n",
      " 'Docuseries, Reality TV' 'Crime TV Shows, TV Dramas, TV Horror'\n",
      " 'Crime TV Shows, TV Comedies, TV Dramas'\n",
      " 'British TV Shows, Docuseries, Reality TV'\n",
      " 'Reality TV, Science & Nature TV, TV Action & Adventure'\n",
      " 'Children & Family Movies, Documentaries, International Movies'\n",
      " 'Crime TV Shows, Romantic TV Shows, TV Dramas'\n",
      " 'British TV Shows, Docuseries'\n",
      " 'Documentaries, LGBTQ Movies, Music & Musicals'\n",
      " 'Romantic TV Shows, TV Dramas' 'Independent Movies, Thrillers'\n",
      " 'International TV Shows, TV Action & Adventure, TV Horror'\n",
      " 'Children & Family Movies, Documentaries, Sports Movies'\n",
      " 'Stand-Up Comedy & Talk Shows, TV Mysteries, TV Sci-Fi & Fantasy'\n",
      " 'International TV Shows, Reality TV, TV Comedies'\n",
      " 'Dramas, International Movies, LGBTQ Movies'\n",
      " 'Action & Adventure, Dramas, Independent Movies'\n",
      " 'British TV Shows, International TV Shows, TV Dramas'\n",
      " 'TV Action & Adventure, TV Dramas, TV Sci-Fi & Fantasy'\n",
      " 'TV Action & Adventure, TV Dramas, TV Horror'\n",
      " 'Action & Adventure, Anime Features, Sci-Fi & Fantasy' 'Anime Series'\n",
      " 'TV Dramas, TV Mysteries, TV Thrillers'\n",
      " 'Music & Musicals, Stand-Up Comedy'\n",
      " 'Docuseries, International TV Shows, Spanish-Language TV Shows'\n",
      " 'Crime TV Shows, International TV Shows, Reality TV'\n",
      " \"British TV Shows, Kids' TV\" 'Docuseries, Spanish-Language TV Shows'\n",
      " 'Crime TV Shows, TV Dramas, TV Thrillers'\n",
      " 'Documentaries, International Movies, LGBTQ Movies'\n",
      " 'British TV Shows, Crime TV Shows, International TV Shows'\n",
      " 'Action & Adventure, Independent Movies'\n",
      " 'Classic Movies, Dramas, Romantic Movies'\n",
      " 'Crime TV Shows, Romantic TV Shows, Spanish-Language TV Shows'\n",
      " 'Children & Family Movies, Comedies, Dramas' 'Cult Movies, Horror Movies'\n",
      " \"Kids' TV, TV Thrillers\" 'Classic Movies, Cult Movies, Horror Movies'\n",
      " 'Anime Series, Crime TV Shows, TV Thrillers'\n",
      " 'Anime Series, TV Horror, TV Thrillers' 'Classic Movies, Dramas'\n",
      " 'British TV Shows, Crime TV Shows, Docuseries'\n",
      " 'Action & Adventure, International Movies, Thrillers'\n",
      " 'Anime Series, Teen TV Shows'\n",
      " 'Children & Family Movies, Dramas, International Movies'\n",
      " 'Dramas, Faith & Spirituality, International Movies'\n",
      " 'TV Horror, TV Mysteries, Teen TV Shows'\n",
      " 'Children & Family Movies, Classic Movies'\n",
      " 'TV Dramas, TV Sci-Fi & Fantasy' 'Reality TV, Teen TV Shows'\n",
      " 'Docuseries, Reality TV, Teen TV Shows' 'Classic & Cult TV, TV Comedies'\n",
      " 'International TV Shows, Korean TV Shows, Reality TV'\n",
      " 'International TV Shows, Stand-Up Comedy & Talk Shows, TV Comedies'\n",
      " 'British TV Shows, International TV Shows, Romantic TV Shows'\n",
      " 'International TV Shows, TV Dramas, TV Thrillers' 'Anime Features'\n",
      " 'TV Horror, TV Mysteries, TV Sci-Fi & Fantasy'\n",
      " 'Children & Family Movies, Classic Movies, Comedies'\n",
      " 'Comedies, Faith & Spirituality, Romantic Movies'\n",
      " 'Classic Movies, Comedies, International Movies'\n",
      " 'Action & Adventure, Horror Movies, Sci-Fi & Fantasy'\n",
      " 'Action & Adventure, Classic Movies'\n",
      " 'TV Dramas, TV Sci-Fi & Fantasy, TV Thrillers'\n",
      " 'Comedies, Sci-Fi & Fantasy' 'Action & Adventure, Cult Movies, Dramas'\n",
      " 'TV Action & Adventure, TV Dramas' \"Kids' TV, Korean TV Shows\"\n",
      " 'Action & Adventure, Independent Movies, International Movies'\n",
      " 'Dramas, Faith & Spirituality, Independent Movies'\n",
      " 'Docuseries, TV Comedies'\n",
      " 'Documentaries, Faith & Spirituality, Music & Musicals'\n",
      " 'Romantic TV Shows, TV Comedies' \"Kids' TV, Spanish-Language TV Shows\"\n",
      " \"British TV Shows, Kids' TV, TV Thrillers\"\n",
      " 'Action & Adventure, Romantic Movies'\n",
      " 'British TV Shows, Classic & Cult TV, TV Comedies'\n",
      " 'Action & Adventure, Horror Movies, International Movies'\n",
      " 'Children & Family Movies, Documentaries'\n",
      " \"British TV Shows, Kids' TV, TV Comedies\"\n",
      " 'Horror Movies, Independent Movies, Sci-Fi & Fantasy'\n",
      " 'TV Sci-Fi & Fantasy, TV Thrillers'\n",
      " 'Romantic TV Shows, TV Comedies, TV Dramas'\n",
      " 'Reality TV, Romantic TV Shows'\n",
      " 'Classic Movies, Dramas, Independent Movies'\n",
      " 'Romantic TV Shows, TV Dramas, Teen TV Shows'\n",
      " 'TV Action & Adventure, TV Sci-Fi & Fantasy'\n",
      " 'British TV Shows, TV Horror, TV Thrillers'\n",
      " 'International Movies, Sports Movies' 'International Movies'\n",
      " 'Anime Series, International TV Shows, TV Horror'\n",
      " 'International TV Shows' 'Dramas, Music & Musicals, Sports Movies'\n",
      " 'International TV Shows, Spanish-Language TV Shows, TV Action & Adventure'\n",
      " 'Cult Movies, Dramas, International Movies'\n",
      " 'TV Action & Adventure, TV Comedies, TV Sci-Fi & Fantasy'\n",
      " 'Reality TV, Science & Nature TV'\n",
      " 'Action & Adventure, Anime Features, Children & Family Movies'\n",
      " \"Kids' TV, TV Action & Adventure\"\n",
      " 'Children & Family Movies, Sci-Fi & Fantasy' \"Crime TV Shows, Kids' TV\"\n",
      " 'International Movies, Music & Musicals, Thrillers'\n",
      " 'Crime TV Shows, Spanish-Language TV Shows, TV Action & Adventure'\n",
      " \"Classic & Cult TV, Kids' TV, Spanish-Language TV Shows\"\n",
      " 'Romantic TV Shows, Spanish-Language TV Shows, TV Dramas'\n",
      " 'Action & Adventure, Cult Movies, International Movies'\n",
      " 'Crime TV Shows, Spanish-Language TV Shows, TV Dramas'\n",
      " 'Action & Adventure, Children & Family Movies, Dramas'\n",
      " 'Dramas, Romantic Movies, Sci-Fi & Fantasy'\n",
      " 'Action & Adventure, Dramas, Sci-Fi & Fantasy'\n",
      " 'International TV Shows, TV Mysteries, TV Thrillers'\n",
      " 'Anime Series, International TV Shows, TV Thrillers'\n",
      " 'Horror Movies, International Movies, Sci-Fi & Fantasy'\n",
      " 'Comedies, Cult Movies, International Movies'\n",
      " 'Comedies, Music & Musicals, Romantic Movies'\n",
      " 'Children & Family Movies, Comedies, Faith & Spirituality'\n",
      " 'Crime TV Shows, Docuseries, TV Mysteries'\n",
      " 'Crime TV Shows, Docuseries, Science & Nature TV'\n",
      " 'British TV Shows, Crime TV Shows, TV Dramas'\n",
      " 'Classic Movies, Comedies, Cult Movies'\n",
      " 'International Movies, Romantic Movies, Thrillers'\n",
      " 'Classic Movies, Dramas, Music & Musicals'\n",
      " 'Cult Movies, Horror Movies, Thrillers' 'Anime Features, Romantic Movies'\n",
      " 'Comedies, Dramas, Music & Musicals'\n",
      " 'Anime Features, International Movies, Romantic Movies'\n",
      " 'Documentaries, Faith & Spirituality, International Movies'\n",
      " 'Action & Adventure, Classic Movies, Sci-Fi & Fantasy'\n",
      " 'International TV Shows, Stand-Up Comedy & Talk Shows'\n",
      " \"British TV Shows, Kids' TV, TV Dramas\"\n",
      " 'Classic & Cult TV, TV Action & Adventure, TV Horror'\n",
      " 'Children & Family Movies, Dramas, Faith & Spirituality'\n",
      " 'TV Action & Adventure, TV Comedies'\n",
      " 'Action & Adventure, Anime Features, Horror Movies'\n",
      " 'Crime TV Shows, International TV Shows, Romantic TV Shows'\n",
      " 'Classic Movies, Comedies, Music & Musicals'\n",
      " 'Comedies, Horror Movies, International Movies'\n",
      " \"Kids' TV, Spanish-Language TV Shows, Teen TV Shows\" 'Independent Movies'\n",
      " 'Crime TV Shows, International TV Shows, TV Mysteries'\n",
      " 'Action & Adventure, Thrillers' \"Kids' TV, TV Dramas, Teen TV Shows\"\n",
      " 'Anime Series, Crime TV Shows' \"Kids' TV, TV Dramas\"\n",
      " 'Crime TV Shows, TV Action & Adventure, TV Comedies'\n",
      " 'TV Comedies, Teen TV Shows' 'Reality TV, TV Horror, TV Thrillers'\n",
      " 'Documentaries, Horror Movies'\n",
      " 'Classic & Cult TV, TV Horror, TV Mysteries'\n",
      " 'Action & Adventure, Cult Movies, Sci-Fi & Fantasy'\n",
      " 'Anime Series, International TV Shows, Romantic TV Shows'\n",
      " 'Action & Adventure, Comedies, Romantic Movies'\n",
      " 'Comedies, Dramas, Faith & Spirituality'\n",
      " 'Comedies, Faith & Spirituality, International Movies' 'Romantic Movies'\n",
      " 'Dramas, Horror Movies, Sci-Fi & Fantasy'\n",
      " 'International TV Shows, Korean TV Shows, TV Comedies'\n",
      " 'Comedies, Independent Movies, LGBTQ Movies'\n",
      " 'TV Comedies, TV Dramas, TV Sci-Fi & Fantasy' 'Dramas, Music & Musicals'\n",
      " 'Dramas, Faith & Spirituality, Romantic Movies'\n",
      " 'International TV Shows, TV Action & Adventure, TV Sci-Fi & Fantasy'\n",
      " 'Reality TV, TV Comedies' \"Docuseries, Kids' TV, Science & Nature TV\"\n",
      " 'Action & Adventure, Sci-Fi & Fantasy, Thrillers'\n",
      " 'Action & Adventure, Children & Family Movies, Sci-Fi & Fantasy'\n",
      " 'Action & Adventure, Children & Family Movies, Classic Movies'\n",
      " 'Horror Movies, International Movies, Romantic Movies'\n",
      " 'TV Action & Adventure' 'TV Comedies, TV Dramas, TV Horror'\n",
      " 'British TV Shows, International TV Shows, Stand-Up Comedy & Talk Shows'\n",
      " 'Dramas, Music & Musicals, Sci-Fi & Fantasy'\n",
      " 'Spanish-Language TV Shows, TV Dramas' 'Documentaries, Stand-Up Comedy'\n",
      " 'Classic & Cult TV, TV Action & Adventure, TV Dramas'\n",
      " 'British TV Shows, TV Dramas, TV Sci-Fi & Fantasy'\n",
      " 'Anime Features, Music & Musicals'\n",
      " 'International TV Shows, TV Comedies, TV Sci-Fi & Fantasy'\n",
      " 'Comedies, Independent Movies, Romantic Movies'\n",
      " 'Comedies, Cult Movies, Horror Movies'\n",
      " 'Comedies, Cult Movies, Sports Movies' 'Classic Movies, Documentaries'\n",
      " 'Sci-Fi & Fantasy, Thrillers'\n",
      " 'Classic & Cult TV, Crime TV Shows, International TV Shows'\n",
      " \"Kids' TV, Korean TV Shows, TV Comedies\"\n",
      " 'British TV Shows, Romantic TV Shows, TV Dramas'\n",
      " 'Action & Adventure, Faith & Spirituality, Sci-Fi & Fantasy'\n",
      " 'TV Dramas, TV Sci-Fi & Fantasy, Teen TV Shows'\n",
      " 'Action & Adventure, Children & Family Movies'\n",
      " 'Comedies, Horror Movies, Independent Movies'\n",
      " 'Action & Adventure, Classic Movies, Cult Movies'\n",
      " 'TV Dramas, TV Horror, TV Mysteries'\n",
      " 'International Movies, Romantic Movies, Sci-Fi & Fantasy'\n",
      " 'Anime Series, Romantic TV Shows, Teen TV Shows'\n",
      " 'TV Action & Adventure, TV Horror, TV Sci-Fi & Fantasy'\n",
      " 'Anime Features, Music & Musicals, Sci-Fi & Fantasy'\n",
      " 'Action & Adventure, Anime Features, Classic Movies'\n",
      " 'International TV Shows, Reality TV, Spanish-Language TV Shows'\n",
      " 'Anime Series, Romantic TV Shows'\n",
      " 'International TV Shows, Reality TV, TV Action & Adventure'\n",
      " 'TV Comedies, TV Dramas, TV Mysteries'\n",
      " 'Docuseries, Science & Nature TV, TV Dramas'\n",
      " 'Crime TV Shows, TV Action & Adventure, TV Thrillers'\n",
      " 'Anime Features, Children & Family Movies' 'Docuseries, TV Dramas'\n",
      " 'British TV Shows, International TV Shows, TV Action & Adventure'\n",
      " 'Comedies, Cult Movies, Independent Movies'\n",
      " 'Action & Adventure, Horror Movies, Independent Movies'\n",
      " 'British TV Shows, Docuseries, TV Comedies' 'Comedies, Documentaries'\n",
      " 'British TV Shows, Classic & Cult TV, International TV Shows'\n",
      " 'TV Comedies, TV Sci-Fi & Fantasy'\n",
      " 'TV Comedies, TV Sci-Fi & Fantasy, Teen TV Shows'\n",
      " 'Documentaries, Dramas, International Movies'\n",
      " 'Action & Adventure, Classic Movies, International Movies'\n",
      " 'Cult Movies, Independent Movies, Thrillers'\n",
      " 'Comedies, Independent Movies, Music & Musicals'\n",
      " 'TV Action & Adventure, TV Dramas, Teen TV Shows'\n",
      " 'Romantic TV Shows, TV Action & Adventure, TV Dramas'\n",
      " 'Crime TV Shows, TV Comedies'\n",
      " 'Classic Movies, Cult Movies, Documentaries'\n",
      " 'Children & Family Movies, Comedies, Cult Movies'\n",
      " \"Classic & Cult TV, Kids' TV, TV Comedies\"\n",
      " 'Classic Movies, Dramas, LGBTQ Movies'\n",
      " 'Comedies, Romantic Movies, Sports Movies'\n",
      " \"Anime Series, Kids' TV, TV Action & Adventure\"\n",
      " 'Action & Adventure, Children & Family Movies, Comedies'\n",
      " 'Reality TV, TV Comedies, TV Horror'\n",
      " 'Classic Movies, Dramas, Sports Movies'\n",
      " \"Kids' TV, TV Action & Adventure, TV Dramas\"\n",
      " 'Action & Adventure, Sci-Fi & Fantasy, Sports Movies'\n",
      " 'Dramas, Romantic Movies, Thrillers' 'Action & Adventure, Cult Movies'\n",
      " 'Children & Family Movies, Dramas, Independent Movies'\n",
      " 'Children & Family Movies, Comedies, LGBTQ Movies'\n",
      " 'Action & Adventure, Comedies, Music & Musicals'\n",
      " 'Classic Movies, Horror Movies, Thrillers'\n",
      " 'Classic & Cult TV, TV Dramas, TV Sci-Fi & Fantasy'\n",
      " 'Children & Family Movies, Comedies, Sports Movies'\n",
      " 'Docuseries, Stand-Up Comedy & Talk Shows'\n",
      " 'Action & Adventure, Dramas, Faith & Spirituality'\n",
      " 'TV Comedies, TV Horror, TV Thrillers'\n",
      " 'Classic Movies, Comedies, Independent Movies'\n",
      " 'Crime TV Shows, TV Horror, TV Mysteries'\n",
      " 'Children & Family Movies, Classic Movies, Dramas'\n",
      " 'Romantic TV Shows, Spanish-Language TV Shows, TV Comedies'\n",
      " 'Dramas, Faith & Spirituality, Sports Movies'\n",
      " 'Classic & Cult TV, TV Action & Adventure, TV Sci-Fi & Fantasy'\n",
      " 'International TV Shows, Korean TV Shows, TV Horror'\n",
      " 'Classic Movies, Comedies, Romantic Movies'\n",
      " 'Dramas, Horror Movies, Music & Musicals'\n",
      " 'Cult Movies, Horror Movies, Independent Movies'\n",
      " 'Classic Movies, Dramas, Thrillers'\n",
      " 'TV Dramas, TV Mysteries, TV Sci-Fi & Fantasy'\n",
      " 'Classic Movies, Independent Movies, Thrillers'\n",
      " 'TV Comedies, TV Mysteries'\n",
      " 'International TV Shows, Romantic TV Shows, TV Mysteries'\n",
      " \"Kids' TV, TV Comedies, Teen TV Shows\"\n",
      " 'Crime TV Shows, TV Action & Adventure, TV Sci-Fi & Fantasy'\n",
      " \"Kids' TV, TV Comedies, TV Sci-Fi & Fantasy\"\n",
      " 'Anime Series, International TV Shows, Spanish-Language TV Shows'\n",
      " 'Cult Movies, Dramas, Thrillers'\n",
      " 'International TV Shows, Spanish-Language TV Shows, TV Horror'\n",
      " 'Children & Family Movies, Faith & Spirituality'\n",
      " 'Comedies, Music & Musicals, Sports Movies'\n",
      " 'Classic Movies, Comedies, Sports Movies'\n",
      " 'Comedies, Dramas, Sports Movies'\n",
      " 'Action & Adventure, Dramas, Sports Movies'\n",
      " \"Kids' TV, Reality TV, TV Dramas\"\n",
      " 'Horror Movies, LGBTQ Movies, Music & Musicals'\n",
      " 'Comedies, LGBTQ Movies, Music & Musicals'\n",
      " 'International TV Shows, Romantic TV Shows, TV Action & Adventure'\n",
      " 'Cult Movies, Documentaries, LGBTQ Movies'\n",
      " 'Action & Adventure, Romantic Movies, Sci-Fi & Fantasy'\n",
      " 'Classic & Cult TV, TV Sci-Fi & Fantasy'\n",
      " 'TV Action & Adventure, TV Mysteries, TV Sci-Fi & Fantasy'\n",
      " 'Children & Family Movies, Dramas, Music & Musicals'\n",
      " 'Docuseries, TV Sci-Fi & Fantasy'\n",
      " \"British TV Shows, Classic & Cult TV, Kids' TV\"\n",
      " 'Action & Adventure, International Movies, Sports Movies'\n",
      " 'Docuseries, Science & Nature TV, TV Action & Adventure'\n",
      " 'Comedies, Cult Movies, LGBTQ Movies'\n",
      " 'Crime TV Shows, International TV Shows, TV Sci-Fi & Fantasy'\n",
      " 'Comedies, Horror Movies, Sci-Fi & Fantasy'\n",
      " 'Action & Adventure, Comedies, Horror Movies'\n",
      " 'Classic & Cult TV, Crime TV Shows, TV Dramas' 'TV Horror, Teen TV Shows'\n",
      " 'Reality TV, Spanish-Language TV Shows'\n",
      " 'Action & Adventure, Documentaries, Sports Movies'\n",
      " 'Anime Features, International Movies, Sci-Fi & Fantasy'\n",
      " 'LGBTQ Movies, Thrillers' 'Action & Adventure, Sports Movies'\n",
      " 'International Movies, LGBTQ Movies, Romantic Movies'\n",
      " \"Kids' TV, Reality TV, Science & Nature TV\"\n",
      " 'International TV Shows, Spanish-Language TV Shows, Stand-Up Comedy & Talk Shows'] \n",
      "\n",
      "Unique values for  description are \n",
      " ['In a future where the elite inhabit an island paradise far from the crowded slums, you get one chance to join the 3% saved from squalor.'\n",
      " 'After a devastating earthquake hits Mexico City, trapped survivors from all walks of life wait to be rescued while trying desperately to stay alive.'\n",
      " \"When an army recruit is found dead, his fellow soldiers are forced to confront a terrifying secret that's haunting their jungle island training camp.\"\n",
      " ...\n",
      " \"In this documentary, South African rapper Nasty C hits the stage and streets of Tokyo, introducing himself to the city's sights, sounds and culture.\"\n",
      " 'Dessert wizard Adriano Zumbo looks for the next “Willy Wonka” in this tense competition that finds skilled amateurs competing for a $100,000 prize.'\n",
      " 'This documentary delves into the mystique behind the blues-rock trio and explores how the enigmatic band created their iconic look and sound.'] \n",
      "\n"
     ]
    }
   ],
   "source": [
    "for col in netflix_df.columns:\n",
    "  print('Unique values for ',col,'are \\n',netflix_df[col].unique(),'\\n')"
   ]
  },
  {
   "cell_type": "markdown",
   "metadata": {
    "id": "dauF4eBmngu3"
   },
   "source": [
    "## 3. ***Data Wrangling***"
   ]
  },
  {
   "cell_type": "markdown",
   "metadata": {
    "id": "bKJF3rekwFvQ"
   },
   "source": [
    "### Data Wrangling Code"
   ]
  },
  {
   "cell_type": "code",
   "execution_count": 14,
   "metadata": {},
   "outputs": [],
   "source": [
    "# Netflix Wrangling Class for data wrangling\n",
    "class NetflixWrangling:\n",
    "    # Init function\n",
    "    def __init__(self,df):\n",
    "        try:\n",
    "            self.df = df.copy()\n",
    "            self.df['duration_value'] = self.df['duration'].apply(self.set_duration_value)\n",
    "            self.df['duration_unit'] = self.df['duration'].apply(self.set_duration_unit)\n",
    "            self.cast_ = self.get_cast_or_listed_in('cast')\n",
    "            self.genres_ = self.get_cast_or_listed_in('listed_in')\n",
    "            self.directors_ = self.getTopValues('director')\n",
    "            self.countries_ = self.getTopValues('country')\n",
    "            self.release_years_ = self.getTopValues('release_year')\n",
    "            self.ratings_ = self.getTopValues('rating')\n",
    "            self.df['duration_value'] = self.df['duration_value'].apply(lambda x:int(x))\n",
    "             \n",
    "        except:\n",
    "            print('Invalid input!')\n",
    "    # Function to get dataset\n",
    "    def get_df(self):\n",
    "        return self.df\n",
    "    # Function to get movies dataset\n",
    "    def getMovies(self):\n",
    "        return self.df[self.df['type'] == 'Movie']\n",
    "    # Function to get TV Show's dataset\n",
    "    def getTvShows(self):\n",
    "        return self.df[self.df['type'] == 'TV Show']\n",
    "    # Function to get top values\n",
    "    def getTopValues(self,col):\n",
    "        try:\n",
    "            return self.df[col].value_counts().sort_values(ascending=False)\n",
    "        except:\n",
    "            return 'You have entered invalid column!'\n",
    "    # Function to set duration value\n",
    "    def set_duration_value(self,string):\n",
    "      if string[-7:] == 'Seasons':\n",
    "        return string[:-8]\n",
    "      elif string[-6:] == 'Season':\n",
    "        return string[:-7]\n",
    "      else:\n",
    "        return string[:-4]\n",
    "    \n",
    "    # Function to set duration unit\n",
    "    def set_duration_unit(self,duration):\n",
    "      if (duration[-7:] == 'Seasons') | (duration[-6:] == 'Season'):\n",
    "        return 'season'\n",
    "      else:\n",
    "        return 'min'\n",
    "    \n",
    "    # Function to get cast or genres\n",
    "    def get_cast_or_listed_in(self,col):     \n",
    "        df = self.df.copy()\n",
    "        # internal function 1\n",
    "        def __get_list():\n",
    "            '''\n",
    "            takes dataset and column's name, returns list.\n",
    "            '''\n",
    "            list_1=[]\n",
    "            for i in df[df[col].isna()== False][col]:\n",
    "                list_1.append(i.split(', '))\n",
    "            return list_1\n",
    "          # internal function 2\n",
    "        def __get_list_vars(list_1):\n",
    "            list_2 = []\n",
    "            for i in list_1:\n",
    "              for j in i:\n",
    "                list_2.append(j)\n",
    "            return list_2\n",
    "\n",
    "          # internal function 3\n",
    "        def __get_dict_vars(list_2):\n",
    "            unique_var = set(list_2)\n",
    "            dict_of_vars = dict()\n",
    "            for i in unique_var:\n",
    "              dict_of_vars[i] = list_2.count(i)\n",
    "            return dict_of_vars\n",
    "        # Assigning values in list 1 and list 2 then returning the series\n",
    "        list_1 = __get_list()\n",
    "        list_2 = __get_list_vars(list_1)        \n",
    "        return pd.Series(__get_dict_vars(list_2)).sort_values(ascending=False)\n",
    "    \n",
    "    \n",
    "    # Function for converting duration_value into int type\n",
    "    def convertInt(self,col):\n",
    "        return int(col)\n",
    "    \n",
    "    # Get showsPerMonth\n",
    "    def getShowsPerMonth(self,typ='all'):\n",
    "        df = pd.DataFrame()\n",
    "        if typ == 'tv':\n",
    "            df = self.getTvShows()\n",
    "        elif typ == 'movie':\n",
    "            df = self.getMovies()\n",
    "        else:\n",
    "            df = self.df.copy()\n",
    "        df = df[df['date_added'].isna() == False]\n",
    "        df['added_month'] = df['date_added'].apply(lambda x:x.split()[0])\n",
    "        monthly_shows = df['added_month'].value_counts()\n",
    "        return monthly_shows\n",
    " ## Initializing the object\n",
    "netflixWrangling = NetflixWrangling(netflix_df)"
   ]
  },
  {
   "cell_type": "code",
   "execution_count": 15,
   "metadata": {
    "colab": {
     "base_uri": "https://localhost:8080/"
    },
    "id": "Kgq415Pd9Z04",
    "outputId": "00c54181-a031-44ee-8e72-959cef18426d"
   },
   "outputs": [
    {
     "name": "stdout",
     "output_type": "stream",
     "text": [
      "Data for TV show has shape : (5377, 14)\n",
      "\n",
      "Data for movies has shape : (2410, 14)\n",
      "\n"
     ]
    }
   ],
   "source": [
    "print('Data for TV show has shape :',netflixWrangling.getMovies().shape)\n",
    "print('')\n",
    "print('Data for movies has shape :',netflixWrangling.getTvShows().shape)\n",
    "print('')"
   ]
  },
  {
   "cell_type": "code",
   "execution_count": 16,
   "metadata": {},
   "outputs": [
    {
     "data": {
      "text/plain": [
       "duration_unit\n",
       "min       533979\n",
       "season      4280\n",
       "Name: duration_value, dtype: int64"
      ]
     },
     "execution_count": 16,
     "metadata": {},
     "output_type": "execute_result"
    }
   ],
   "source": [
    "netflixWrangling.get_df().groupby(['duration_unit'])['duration_value'].sum()"
   ]
  },
  {
   "cell_type": "code",
   "execution_count": 17,
   "metadata": {},
   "outputs": [
    {
     "name": "stdout",
     "output_type": "stream",
     "text": [
      "Total number of Shows for each month\n"
     ]
    },
    {
     "data": {
      "text/plain": [
       "December     833\n",
       "October      785\n",
       "January      757\n",
       "November     738\n",
       "March        669\n",
       "September    619\n",
       "August       618\n",
       "April        601\n",
       "July         600\n",
       "May          543\n",
       "June         542\n",
       "February     472\n",
       "Name: added_month, dtype: int64"
      ]
     },
     "execution_count": 17,
     "metadata": {},
     "output_type": "execute_result"
    }
   ],
   "source": [
    "print('Total number of Shows for each month')\n",
    "netflixWrangling.getShowsPerMonth()"
   ]
  },
  {
   "cell_type": "code",
   "execution_count": 18,
   "metadata": {},
   "outputs": [
    {
     "name": "stdout",
     "output_type": "stream",
     "text": [
      "Total number of Movies for each month\n"
     ]
    },
    {
     "data": {
      "text/plain": [
       "January      560\n",
       "December     554\n",
       "October      553\n",
       "November     511\n",
       "March        471\n",
       "April        420\n",
       "September    415\n",
       "August       414\n",
       "July         403\n",
       "June         377\n",
       "May          371\n",
       "February     328\n",
       "Name: added_month, dtype: int64"
      ]
     },
     "execution_count": 18,
     "metadata": {},
     "output_type": "execute_result"
    }
   ],
   "source": [
    "print('Total number of Movies for each month')\n",
    "netflixWrangling.getShowsPerMonth('movie')"
   ]
  },
  {
   "cell_type": "code",
   "execution_count": 19,
   "metadata": {},
   "outputs": [
    {
     "name": "stdout",
     "output_type": "stream",
     "text": [
      "Total number of TV Shows for each month\n"
     ]
    },
    {
     "data": {
      "text/plain": [
       "December     279\n",
       "October      232\n",
       "November     227\n",
       "August       204\n",
       "September    204\n",
       "March        198\n",
       "July         197\n",
       "January      197\n",
       "April        181\n",
       "May          172\n",
       "June         165\n",
       "February     144\n",
       "Name: added_month, dtype: int64"
      ]
     },
     "execution_count": 19,
     "metadata": {},
     "output_type": "execute_result"
    }
   ],
   "source": [
    "print('Total number of TV Shows for each month')\n",
    "netflixWrangling.getShowsPerMonth('tv')"
   ]
  },
  {
   "cell_type": "code",
   "execution_count": 20,
   "metadata": {
    "id": "sfGXQ99RvnfL"
   },
   "outputs": [
    {
     "name": "stdout",
     "output_type": "stream",
     "text": [
      "Top 5 actors with highest number of shows :\n"
     ]
    },
    {
     "data": {
      "text/plain": [
       "Anupam Kher         42\n",
       "Shah Rukh Khan      35\n",
       "Naseeruddin Shah    30\n",
       "Om Puri             30\n",
       "Akshay Kumar        29\n",
       "dtype: int64"
      ]
     },
     "execution_count": 20,
     "metadata": {},
     "output_type": "execute_result"
    }
   ],
   "source": [
    "# Assigning top 10 actors and genres to a variable\n",
    "print('Top 5 actors with highest number of shows :')\n",
    "netflixWrangling.cast_.head()"
   ]
  },
  {
   "cell_type": "code",
   "execution_count": 21,
   "metadata": {
    "colab": {
     "base_uri": "https://localhost:8080/"
    },
    "id": "fW8BQ-SfBR7y",
    "outputId": "c89522ec-3651-4bd4-fb85-fdd5cc9285e8"
   },
   "outputs": [
    {
     "name": "stdout",
     "output_type": "stream",
     "text": [
      "Top 5 directors with highest number of shows :\n"
     ]
    },
    {
     "data": {
      "text/plain": [
       "Raúl Campos, Jan Suter    18\n",
       "Marcus Raboy              16\n",
       "Jay Karas                 14\n",
       "Cathy Garcia-Molina       13\n",
       "Youssef Chahine           12\n",
       "Name: director, dtype: int64"
      ]
     },
     "execution_count": 21,
     "metadata": {},
     "output_type": "execute_result"
    }
   ],
   "source": [
    "print('Top 5 directors with highest number of shows :')\n",
    "netflixWrangling.directors_.head()"
   ]
  },
  {
   "cell_type": "code",
   "execution_count": 22,
   "metadata": {
    "colab": {
     "base_uri": "https://localhost:8080/"
    },
    "id": "fhrI3uXLBR5t",
    "outputId": "13932c74-3c82-46e7-cd5c-4091afb1c06b"
   },
   "outputs": [
    {
     "name": "stdout",
     "output_type": "stream",
     "text": [
      "Top 5 countries with highest number of shows :\n"
     ]
    },
    {
     "data": {
      "text/plain": [
       "United States     2555\n",
       "India              923\n",
       "United Kingdom     397\n",
       "Japan              226\n",
       "South Korea        183\n",
       "Name: country, dtype: int64"
      ]
     },
     "execution_count": 22,
     "metadata": {},
     "output_type": "execute_result"
    }
   ],
   "source": [
    "print('Top 5 countries with highest number of shows :')\n",
    "netflixWrangling.countries_.head()"
   ]
  },
  {
   "cell_type": "code",
   "execution_count": 23,
   "metadata": {
    "colab": {
     "base_uri": "https://localhost:8080/"
    },
    "id": "qCFXm1ugBRhU",
    "outputId": "80c38ae5-9f70-4956-95ff-fd8a74608ccc"
   },
   "outputs": [
    {
     "name": "stdout",
     "output_type": "stream",
     "text": [
      "Top 5 years with highest number of shows released:\n"
     ]
    },
    {
     "data": {
      "text/plain": [
       "2018    1121\n",
       "2017    1012\n",
       "2019     996\n",
       "2016     882\n",
       "2020     868\n",
       "Name: release_year, dtype: int64"
      ]
     },
     "execution_count": 23,
     "metadata": {},
     "output_type": "execute_result"
    }
   ],
   "source": [
    "print('Top 5 years with highest number of shows released:')\n",
    "netflixWrangling.release_years_.head()"
   ]
  },
  {
   "cell_type": "code",
   "execution_count": 24,
   "metadata": {
    "colab": {
     "base_uri": "https://localhost:8080/"
    },
    "id": "BNMPd-6K9_3I",
    "outputId": "b36a8cac-cb28-4ebe-8b4c-0031e61b41e4"
   },
   "outputs": [
    {
     "name": "stdout",
     "output_type": "stream",
     "text": [
      "Top ratings with highest number of shows :\n"
     ]
    },
    {
     "data": {
      "text/plain": [
       "TV-MA       2863\n",
       "TV-14       1931\n",
       "TV-PG        806\n",
       "R            665\n",
       "PG-13        386\n",
       "TV-Y         280\n",
       "TV-Y7        271\n",
       "PG           247\n",
       "TV-G         194\n",
       "NR            84\n",
       "G             39\n",
       "TV-Y7-FV       6\n",
       "UR             5\n",
       "NC-17          3\n",
       "Name: rating, dtype: int64"
      ]
     },
     "execution_count": 24,
     "metadata": {},
     "output_type": "execute_result"
    }
   ],
   "source": [
    "print('Top ratings with highest number of shows :')\n",
    "netflixWrangling.ratings_"
   ]
  },
  {
   "cell_type": "code",
   "execution_count": 25,
   "metadata": {
    "colab": {
     "base_uri": "https://localhost:8080/"
    },
    "id": "y58S8FZuBvBK",
    "outputId": "22846ca2-9c78-45f4-a425-e9298ba5a0f1"
   },
   "outputs": [
    {
     "name": "stdout",
     "output_type": "stream",
     "text": [
      "Top 5 Genres with highest number of Movies/TV Shows\n"
     ]
    },
    {
     "data": {
      "text/plain": [
       "International Movies      2437\n",
       "Dramas                    2106\n",
       "Comedies                  1471\n",
       "International TV Shows    1199\n",
       "Documentaries              786\n",
       "dtype: int64"
      ]
     },
     "execution_count": 25,
     "metadata": {},
     "output_type": "execute_result"
    }
   ],
   "source": [
    "print('Top 5 Genres with highest number of Movies/TV Shows')\n",
    "netflixWrangling.genres_.head()"
   ]
  },
  {
   "cell_type": "markdown",
   "metadata": {
    "id": "MSa1f5Uengrz"
   },
   "source": [
    "### What all manipulations have you done and insights you found?"
   ]
  },
  {
   "cell_type": "markdown",
   "metadata": {
    "id": "LbyXE7I1olp8"
   },
   "source": [
    "1. First of I assigned all movies' data to a variable and TV shows' data to another variable and made a class which is responsible of extracting data from string and also made 2 functions for getting duration values and units.\n",
    "2. Directors with highest number of movies/tv shows are Raúl Campos and Jan Suter : 18\n",
    "3. Top 5 countries produced highest number of movies are :\n",
    "  * United States    : 2555\n",
    "  * India            :  923\n",
    "  * United Kingdom   :  397\n",
    "  * Japan            :  226\n",
    "  * South Korea      :  183\n",
    "4. Highest movies produced in year 2018 : 1121\n",
    "5. Rating for highest number of movie is TV-MA : 2863\n",
    "6. Top 5 actors with highest number of movies are :\n",
    "  * Anupam Kher      :   42\n",
    "  * Shah Rukh Khan   :   35\n",
    "  * Naseeruddin Shah :   30\n",
    "  * Om Puri          :   30\n",
    "  * Akshay Kumar     :   29\n",
    "7. Top genres with highest number of movies are :\n",
    "  *  International Movies      :  2437\n",
    "  *  Dramas                    : 2106\n",
    "8. Total Seasons : 4280 and Total Minutes : 533979.\n",
    "9. Number of TV Shows/Movies for each month\n",
    "  * December  :   833\n",
    "  * October   :   785\n",
    "  * January   :   757\n",
    "  * November  :   738\n",
    "  * March     :   669\n",
    "  * September :   619\n",
    "  * August    :   618\n",
    "  * April     :   601\n",
    "  * July      :   600\n",
    "  * May       :   543\n",
    "  * June      :  542\n",
    "  * February  :  472\n",
    "  \n",
    "10. Top 10 actors/actress with highest number of movies\n",
    "    * Anupam Kher     :    41\n",
    "    * Shah Rukh Khan  :    35\n",
    "    * Om Puri         :    30\n",
    "    * Naseeruddin Shah :   30\n",
    "    * Akshay Kumar     :   29\n",
    "    * Amitabh Bachchan :   27\n",
    "    * Boman Irani      :   27\n",
    "    * Paresh Rawal     :   27\n",
    "    * Kareena Kapoor   :   25\n",
    "    * Ajay Devgn       :   21\n",
    "    \n",
    "11. Top 10 actors/actress with highest number of TV Shows\n",
    "    * Takahiro Sakurai  :    22\n",
    "    * Yuki Kaji         :    17\n",
    "    * Ai Kayano         :    16\n",
    "    * Daisuke Ono       :    16\n",
    "    * Junichi Suwabe    :    15\n",
    "    * Yuichi Nakamura   :    14\n",
    "    * Yoshimasa Hosoya  :    14\n",
    "    * Jun Fukuyama      :    13\n",
    "    * Hiroshi Kamiya    :    13\n",
    "    * David Attenborough :   13"
   ]
  },
  {
   "cell_type": "markdown",
   "metadata": {
    "id": "GF8Ens_Soomf"
   },
   "source": [
    "## ***4. Data Vizualization, Storytelling & Experimenting with charts : Understand the relationships between variables***"
   ]
  },
  {
   "cell_type": "code",
   "execution_count": 54,
   "metadata": {},
   "outputs": [],
   "source": [
    "plt.rcParams['figure.figsize'] = (10,4)\n",
    "class NetflixVisualization(NetflixWrangling):\n",
    "    bar_colors = ['violet','indigo','blue','g','yellow','orange','r']\n",
    "    def __init__(self,df):\n",
    "        self.df = df\n",
    "        self.df_tv = df[df['type'] == 'Tv_shows']\n",
    "    \n",
    "    # Chart 1 - Type counts\n",
    "    def chart_1(self):\n",
    "        self.df['type'].value_counts().plot.pie(figsize=(7,7),\n",
    "                                                   colors={'cyan','coral'},\n",
    "                                                   shadow=True,explode=[0.03,0.03],\n",
    "                                                   autopct='%0.01f%%')\n",
    "        plt.show()\n",
    "        \n",
    "    # Chart 2 - Bar chart for country\n",
    "    def chart_2(self):\n",
    "        netflix_df['country'].value_counts().sort_values(ascending=False)[:10].plot.bar(color=self.bar_colors)\n",
    "        plt.yticks(np.arange(0,2601,200))\n",
    "        plt.title('Number of shows for top 10 countries')\n",
    "        plt.xlabel('Countries')\n",
    "        plt.ylabel('counts')\n",
    "        plt.show()\n",
    "        \n",
    "        \n",
    "    # Chart 3 - Bar chart,directors for TV shows\n",
    "    def chart_3_tv(self):\n",
    "        df_tv = self.getTvShows()\n",
    "        df_tv['director'].value_counts().head(10).plot.bar(color=self.bar_colors)\n",
    "        plt.yticks(np.arange(0,5,1))\n",
    "        plt.title('Number of shows for top 10 directorsafdf')\n",
    "        plt.xlabel('Directors')\n",
    "        plt.ylabel('counts')\n",
    "        plt.show()\n",
    "        \n",
    "    def chart_3_movie(self):\n",
    "        df_movie = self.getMovies()\n",
    "        df_movie['director'].value_counts().head(10).plot.bar(color=self.bar_colors)\n",
    "        plt.yticks(np.arange(0,20,1))\n",
    "        plt.title('Number of shows for top 10 directorsafdf')\n",
    "        plt.xlabel('Directors')\n",
    "        plt.ylabel('counts')\n",
    "        plt.show()\n",
    "\n",
    "        \n",
    "    # chart 4\n",
    "    def chart_4_movie(self):\n",
    "        df_movie = self.getMovies()\n",
    "        df_movie['release_year'].value_counts().head().plot.bar(color=self.bar_colors)\n",
    "        plt.yticks(np.arange(0,900,100))\n",
    "        plt.title('Number of Movies for each year')\n",
    "        plt.xlabel('Year')\n",
    "        plt.ylabel('Number of Movies')\n",
    "        plt.show()\n",
    "        \n",
    "        \n",
    "    def chart_4_tv(self):\n",
    "        df_tv = self.getTvShows()\n",
    "        df_tv['release_year'].value_counts().head().plot.bar(color=self.bar_colors)\n",
    "        plt.yticks(np.arange(0,501,100))\n",
    "        plt.title('Number of TV Shows for each year')\n",
    "        plt.xlabel('Year')\n",
    "        plt.ylabel('Number of TV Shows')\n",
    "        plt.show()"
   ]
  },
  {
   "cell_type": "code",
   "execution_count": 55,
   "metadata": {},
   "outputs": [],
   "source": [
    "netflixVisualization = NetflixVisualization(netflix_df)"
   ]
  },
  {
   "cell_type": "markdown",
   "metadata": {
    "id": "0wOQAZs5pc--"
   },
   "source": [
    "#### Chart - 1 - Pie chart for Target column."
   ]
  },
  {
   "cell_type": "code",
   "execution_count": 29,
   "metadata": {
    "colab": {
     "base_uri": "https://localhost:8080/",
     "height": 0
    },
    "id": "7v_ESjsspbW7",
    "outputId": "797d5888-70d7-4718-ef67-83f7602fe3de"
   },
   "outputs": [
    {
     "data": {
      "image/png": "[encoded data removed]",
      "text/plain": [
       "<Figure size 700x700 with 1 Axes>"
      ]
     },
     "metadata": {},
     "output_type": "display_data"
    }
   ],
   "source": [
    "# Chart - 1 visualization code\n",
    "# colors = ['violet','indigo','b','g','y','orange','red']\n",
    "# netflix_df['type'].value_counts().plot.pie(figsize=(7,7),colors={'cyan','coral'},shadow=True,explode=[0.03,0.03],autopct='%0.01f%%')\n",
    "# plt.show()\n",
    "netflixVisualization.chart_1()"
   ]
  },
  {
   "cell_type": "markdown",
   "metadata": {
    "id": "K5QZ13OEpz2H"
   },
   "source": [
    "##### 1. Why did you pick the specific chart?"
   ]
  },
  {
   "cell_type": "markdown",
   "metadata": {
    "id": "XESiWehPqBRc"
   },
   "source": [
    "Pie chart expresses part to whole relationship with the data so I picked this chart to see percentage of TV shows and movies the in dataset."
   ]
  },
  {
   "cell_type": "markdown",
   "metadata": {
    "id": "lQ7QKXXCp7Bj"
   },
   "source": [
    "##### 2. What is/are the insight(s) found from the chart?"
   ]
  },
  {
   "cell_type": "markdown",
   "metadata": {
    "id": "C_j1G7yiqdRP"
   },
   "source": [
    "I found that there are 69.1% movies and 30.9% TV Shows in the dataset."
   ]
  },
  {
   "cell_type": "markdown",
   "metadata": {
    "id": "448CDAPjqfQr"
   },
   "source": [
    "##### 3. Will the gained insights help creating a positive business impact? \n",
    "Are there any insights that lead to negative growth? Justify with specific reason."
   ]
  },
  {
   "cell_type": "markdown",
   "metadata": {
    "id": "3cspy4FjqxJW"
   },
   "source": [
    "Yes, percentage of movies are more the double of TV Shows. In movie industries competition is more than double."
   ]
  },
  {
   "cell_type": "markdown",
   "metadata": {
    "id": "KSlN3yHqYklG"
   },
   "source": [
    "#### Chart - 2 - Bar chart for country."
   ]
  },
  {
   "cell_type": "code",
   "execution_count": 30,
   "metadata": {
    "colab": {
     "base_uri": "https://localhost:8080/",
     "height": 0
    },
    "id": "R4YgtaqtYklH",
    "outputId": "a927d1e3-166e-4e34-ab27-ae97c14229e5"
   },
   "outputs": [
    {
     "data": {
      "image/png": "[encoded data removed]",
      "text/plain": [
       "<Figure size 1000x400 with 1 Axes>"
      ]
     },
     "metadata": {},
     "output_type": "display_data"
    }
   ],
   "source": [
    "# Chart - 2 visualization code\n",
    "netflixVisualization.chart_2()"
   ]
  },
  {
   "cell_type": "markdown",
   "metadata": {
    "id": "t6dVpIINYklI"
   },
   "source": [
    "##### 1. Why did you pick the specific chart?"
   ]
  },
  {
   "cell_type": "markdown",
   "metadata": {
    "id": "5aaW0BYyYklI"
   },
   "source": [
    " A bar chart show value counts or frequency of the data for different columns and I picked this chart to see which are top 10 countries producing highest number of movies/tv shows."
   ]
  },
  {
   "cell_type": "markdown",
   "metadata": {
    "id": "ijmpgYnKYklI"
   },
   "source": [
    "##### 2. What is/are the insight(s) found from the chart?"
   ]
  },
  {
   "cell_type": "markdown",
   "metadata": {
    "id": "PSx9atu2YklI"
   },
   "source": [
    "I found that United State is producing highest number of movies that is more than 2500 movies then India is 2nd highest about 1000 after that United Kingdom producting about 500 movies/TV shows."
   ]
  },
  {
   "cell_type": "markdown",
   "metadata": {
    "id": "-JiQyfWJYklI"
   },
   "source": [
    "##### 3. Will the gained insights help creating a positive business impact? \n",
    "Are there any insights that lead to negative growth? Justify with specific reason."
   ]
  },
  {
   "cell_type": "markdown",
   "metadata": {
    "id": "BcBbebzrYklV"
   },
   "source": [
    "Yes, most of the movies are producing in USA and India they can sell good movies in competitive price to netflix."
   ]
  },
  {
   "cell_type": "markdown",
   "metadata": {
    "id": "EM7whBJCYoAo"
   },
   "source": [
    "#### Chart - 3 - Bar chart for director."
   ]
  },
  {
   "cell_type": "code",
   "execution_count": 34,
   "metadata": {
    "colab": {
     "base_uri": "https://localhost:8080/",
     "height": 0
    },
    "id": "t6GMdE67YoAp",
    "outputId": "07587dc7-4c8a-4743-8528-03a109abe6c2"
   },
   "outputs": [
    {
     "data": {
      "image/png": "[encoded data removed]",
      "text/plain": [
       "<Figure size 1000x400 with 1 Axes>"
      ]
     },
     "metadata": {},
     "output_type": "display_data"
    }
   ],
   "source": [
    "# Chart - 3 visualization code\n",
    "# TV  Shows\n",
    "# df_tv['director'].value_counts().head(10).plot.bar(color=colors)\n",
    "# plt.yticks(np.arange(0,5,1))\n",
    "# plt.title('Number of shows for top 10 directors')\n",
    "# plt.xlabel('Directors')\n",
    "# plt.ylabel('counts')\n",
    "# plt.show()\n",
    "netflixVisualization.chart_3_tv()"
   ]
  },
  {
   "cell_type": "code",
   "execution_count": 44,
   "metadata": {
    "colab": {
     "base_uri": "https://localhost:8080/",
     "height": 0
    },
    "id": "gNZWT_m0_jum",
    "outputId": "8af6ee33-be78-4b76-ba93-0820140e0dac"
   },
   "outputs": [
    {
     "data": {
      "image/png": "[encoded data removed]",
      "text/plain": [
       "<Figure size 1000x400 with 1 Axes>"
      ]
     },
     "metadata": {},
     "output_type": "display_data"
    }
   ],
   "source": [
    "# Movie\n",
    "# df_movie['director'].value_counts().head(10).plot.bar(color=colors)\n",
    "# plt.yticks(np.arange(0,20,1))\n",
    "# plt.title('Number of shows for top 10 directors')\n",
    "# plt.xlabel('Directors')\n",
    "# plt.ylabel('counts')\n",
    "# plt.show()\n",
    "netflixVisualization.chart_3_movie()"
   ]
  },
  {
   "cell_type": "markdown",
   "metadata": {
    "id": "fge-S5ZAYoAp"
   },
   "source": [
    "##### 1. Why did you pick the specific chart?"
   ]
  },
  {
   "cell_type": "markdown",
   "metadata": {
    "id": "5dBItgRVYoAp"
   },
   "source": [
    "A bar chart shows value counts and frequency of the data for each columns and I picked this chart to see top directors with highest number of TV shows and Movies."
   ]
  },
  {
   "cell_type": "markdown",
   "metadata": {
    "id": "85gYPyotYoAp"
   },
   "source": [
    "##### 2. What is/are the insight(s) found from the chart?"
   ]
  },
  {
   "cell_type": "markdown",
   "metadata": {
    "id": "4jstXR6OYoAp"
   },
   "source": [
    "1. Top 10 Directors for TV Shows.\n",
    "  * Alastair Fothergill : 3 TV shows.\n",
    "  * Ken Burns : 2 TV Shows.\n",
    "  * Shin Won-ho : 2 TV Shows.\n",
    "  * Iginio Straffi : 2 TV Shows.\n",
    "  * Rob Seidenglanz : 2 TV Shows.\n",
    "  * Stan Lathan : 2 TV Shows.\n",
    "  * Rest of them produced only 1 TV show.\n",
    "2. Top 10 Directors for Movies.\n",
    "  * Raúl Campos and Jan Suter : 18 movies.\n",
    "  * Marcus Raboy : 15 movies.\n",
    "  * Jay Karas : 14 movies.\n",
    "  * Cathy Garcia-Molina : 13 movies.\n",
    "  * Youssef Chahine : 12 movies.\n",
    "  * Jay Chapman : 12 Movies.\n",
    "  * Martin Scorsese : 12 Movies.\n",
    "  * Steven Spielberg : 10 Movies.\n",
    "  * David Dhawan : 9 Movies.\n",
    "  * Johnnie To : 8"
   ]
  },
  {
   "cell_type": "markdown",
   "metadata": {
    "id": "RoGjAbkUYoAp"
   },
   "source": [
    "##### 3. Will the gained insights help creating a positive business impact? \n",
    "Are there any insights that lead to negative growth? Justify with specific reason."
   ]
  },
  {
   "cell_type": "markdown",
   "metadata": {
    "id": "zfJ8IqMcYoAp"
   },
   "source": [
    "Maximum 3 TV Shows are produced by 1 director in other side maximum number of movies are 18 that is 6 times greater than TV shows. Movies are more in demand than TV shows becacuse most of the movies shows the ending part quickly and on other hand it takes much time to finish the TV shows completly."
   ]
  },
  {
   "cell_type": "markdown",
   "metadata": {
    "id": "bamQiAODYuh1"
   },
   "source": [
    "#### Chart - 4 - Bar Chart Release Year."
   ]
  },
  {
   "cell_type": "code",
   "execution_count": 52,
   "metadata": {
    "colab": {
     "base_uri": "https://localhost:8080/",
     "height": 0
    },
    "id": "TIJwrbroYuh3",
    "outputId": "b3eeeb11-152a-4e80-e3d0-90031114e417"
   },
   "outputs": [
    {
     "data": {
      "image/png": "[encoded data removed]",
      "text/plain": [
       "<Figure size 1000x400 with 1 Axes>"
      ]
     },
     "metadata": {},
     "output_type": "display_data"
    }
   ],
   "source": [
    "# Chart - 4 - Movie\n",
    "netflixVisualization.chart_4_movie()"
   ]
  },
  {
   "cell_type": "code",
   "execution_count": 56,
   "metadata": {
    "colab": {
     "base_uri": "https://localhost:8080/",
     "height": 0
    },
    "id": "O76aws15Fcpl",
    "outputId": "80a80f09-9a61-4222-b8c0-d0312485416c"
   },
   "outputs": [
    {
     "data": {
      "image/png": "[encoded data removed]",
      "text/plain": [
       "<Figure size 1000x400 with 1 Axes>"
      ]
     },
     "metadata": {},
     "output_type": "display_data"
    }
   ],
   "source": [
    "# Chart - 4 - TV Shows\n",
    "netflixVisualization.chart_4_tv()"
   ]
  },
  {
   "cell_type": "markdown",
   "metadata": {
    "id": "QHF8YVU7Yuh3"
   },
   "source": [
    "##### 1. Why did you pick the specific chart?"
   ]
  },
  {
   "cell_type": "markdown",
   "metadata": {
    "id": "dcxuIMRPYuh3"
   },
   "source": [
    "A bar chart shows value counts and frequency of the data for each columns and I picked this chart to see nomber of shows for each year."
   ]
  },
  {
   "cell_type": "markdown",
   "metadata": {
    "id": "GwzvFGzlYuh3"
   },
   "source": [
    "##### 2. What is/are the insight(s) found from the chart?"
   ]
  },
  {
   "cell_type": "markdown",
   "metadata": {
    "id": "uyqkiB8YYuh3"
   },
   "source": [
    "1. Number of Movies released in each year:\n",
    "  * 2017 : 744\n",
    "  * 2018 : 734\n",
    "  * 2016 : 642\n",
    "  * 2019 : 582\n",
    "  * 2020 : 411\n",
    "2. Number of TV Shows released in each year:\n",
    "  * 2020 : 457\n",
    "  * 2019 : 414\n",
    "  * 2018 : 387\n",
    "  * 2017 : 268\n",
    "  * 2016 : 240"
   ]
  },
  {
   "cell_type": "markdown",
   "metadata": {
    "id": "qYpmQ266Yuh3"
   },
   "source": [
    "##### 3. Will the gained insights help creating a positive business impact? \n",
    "Are there any insights that lead to negative growth? Justify with specific reason."
   ]
  },
  {
   "cell_type": "markdown",
   "metadata": {
    "id": "_WtzZ_hCYuh4"
   },
   "source": [
    "Highest number of movies released in the year 2017 and TV shows in 2020. The reason behind this is that TV shows are relatively small and movies takes much time when shooting. Since they shoots TV shows easily in advance therefore the number of TV Shows are higher in 2020 and movies are less because of corona virus. "
   ]
  },
  {
   "cell_type": "markdown",
   "metadata": {
    "id": "OH-pJp9IphqM"
   },
   "source": [
    "#### Chart - 5 - Bar Chart Rating."
   ]
  },
  {
   "cell_type": "code",
   "execution_count": null,
   "metadata": {
    "colab": {
     "base_uri": "https://localhost:8080/",
     "height": 0
    },
    "id": "kuRf4wtuphqN",
    "outputId": "fc5f4f0b-4204-408c-98cf-ea5ab00a1ebd"
   },
   "outputs": [],
   "source": [
    "# Chart - 6 visualization code\n",
    "# Movies\n",
    "df_movie['rating'].value_counts().head().plot.barh(color= colors)\n",
    "plt.xticks(np.arange(0,1901,100))\n",
    "plt.title('Top 5 ratings with highest Movies')\n",
    "plt.xlabel('counts')\n",
    "plt.ylabel('Rating')\n",
    "plt.show()"
   ]
  },
  {
   "cell_type": "code",
   "execution_count": null,
   "metadata": {
    "colab": {
     "base_uri": "https://localhost:8080/",
     "height": 0
    },
    "id": "D30o8VGlLX-y",
    "outputId": "96eabc12-1b95-4cbb-f0c5-2e963e37b762"
   },
   "outputs": [],
   "source": [
    "# TV Shows\n",
    "df_tv['rating'].value_counts().head().plot.bar(color=colors)\n",
    "plt.yticks(np.arange(0,1101,100))\n",
    "plt.title('Top 5 ratings with highest TV Shows')\n",
    "plt.xlabel('counts')\n",
    "plt.ylabel('Rating')\n",
    "plt.show()"
   ]
  },
  {
   "cell_type": "markdown",
   "metadata": {
    "id": "bbFf2-_FphqN"
   },
   "source": [
    "##### 1. Why did you pick the specific chart?"
   ]
  },
  {
   "cell_type": "markdown",
   "metadata": {
    "id": "loh7H2nzphqN"
   },
   "source": [
    "A bar chart shows value counts and frequency of the data for each columns and I picked this chart to see number of shows for each catagory of ratings."
   ]
  },
  {
   "cell_type": "markdown",
   "metadata": {
    "id": "_ouA3fa0phqN"
   },
   "source": [
    "##### 2. What is/are the insight(s) found from the chart?"
   ]
  },
  {
   "cell_type": "markdown",
   "metadata": {
    "id": "VECbqPI7phqN"
   },
   "source": [
    "1. Number of Movies for top 5 ratings:\n",
    "  * TV-MA : 1845\n",
    "  * TV-14 : 1272\n",
    "  * R : 663\n",
    "  * TV-PG : 505\n",
    "  * PG-13 : 386\n",
    "2. Numbere of TV Shows for top 5 ratings:\n",
    "  * TV-MA : 1018\n",
    "  * TV-14 : 659\n",
    "  * TV-PG : 301\n",
    "  * TV-Y7 : 176\n",
    "  * TV-Y : 163"
   ]
  },
  {
   "cell_type": "code",
   "execution_count": null,
   "metadata": {
    "colab": {
     "base_uri": "https://localhost:8080/"
    },
    "id": "tbzOdJFGM1sr",
    "outputId": "43d7f29b-d2fa-443e-da77-86ec09ddcc3e"
   },
   "outputs": [],
   "source": [
    "df_tv['rating'].value_counts().head()"
   ]
  },
  {
   "cell_type": "markdown",
   "metadata": {
    "id": "Seke61FWphqN"
   },
   "source": [
    "##### 3. Will the gained insights help creating a positive business impact? \n",
    "Are there any insights that lead to negative growth? Justify with specific reason."
   ]
  },
  {
   "cell_type": "markdown",
   "metadata": {
    "id": "DW4_bGpfphqN"
   },
   "source": [
    "No."
   ]
  },
  {
   "cell_type": "markdown",
   "metadata": {
    "id": "PIIx-8_IphqN"
   },
   "source": [
    "#### Chart - 6 - Bar chart for Listed-in."
   ]
  },
  {
   "cell_type": "code",
   "execution_count": null,
   "metadata": {
    "colab": {
     "base_uri": "https://localhost:8080/",
     "height": 0
    },
    "id": "lqAIGUfyphqO",
    "outputId": "a48ad7b3-73be-42b2-94f6-c1ea41435a88"
   },
   "outputs": [],
   "source": [
    "# Chart - 7 visualization code\n",
    "# Movies\n",
    "df_movie['listed_in'].value_counts().head().plot.barh(color=colors)\n",
    "plt.xticks(np.arange(0,351,25))\n",
    "plt.title('Top 5 listed_in for highest number of movies')\n",
    "plt.xlabel('Counts')\n",
    "plt.ylabel('Listed-in')\n",
    "plt.show()"
   ]
  },
  {
   "cell_type": "code",
   "execution_count": null,
   "metadata": {
    "colab": {
     "base_uri": "https://localhost:8080/",
     "height": 0
    },
    "id": "Y8tDLkIqPheU",
    "outputId": "b056c8de-d460-4653-8e84-2eec8362dcb4"
   },
   "outputs": [],
   "source": [
    "# Movies\n",
    "df_tv['listed_in'].value_counts().head().plot.barh(color=colors)\n",
    "plt.title('Top 5 listed_in for highest number of TV Shows')\n",
    "plt.xlabel('Counts')\n",
    "plt.ylabel('Listed-in')\n",
    "plt.show()"
   ]
  },
  {
   "cell_type": "markdown",
   "metadata": {
    "id": "t27r6nlMphqO"
   },
   "source": [
    "##### 1. Why did you pick the specific chart?"
   ]
  },
  {
   "cell_type": "markdown",
   "metadata": {
    "id": "iv6ro40sphqO"
   },
   "source": [
    "A bar chart shows value counts and frequency of the data for each columns and I picked this chart to see number of shows for each catagory of genres."
   ]
  },
  {
   "cell_type": "markdown",
   "metadata": {
    "id": "r2jJGEOYphqO"
   },
   "source": [
    "##### 2. What is/are the insight(s) found from the chart?"
   ]
  },
  {
   "cell_type": "markdown",
   "metadata": {
    "id": "Po6ZPi4hphqO"
   },
   "source": [
    "1. Genres with highest number of movies :\n",
    " * Documentaries : 334\n",
    " * Stand-Up Comedy : 321\n",
    " * Dramas, International Movies : 320\n",
    " * Comedies, Dramas, International Movies : 243\n",
    " * Dramas, Independent Movies, International Movies : 215\n",
    "2. Genres with highest number of TV Shows:\n",
    "  * Kids' TV : 205\n",
    "  * International TV Shows, TV Dramas : 111\n",
    "  * Crime TV Shows, International TV Shows, TV Dramas : 106\n",
    "  * Kids' TV, TV Comedies : 90\n",
    "  * International TV Shows, Romantic TV Shows, TV Dramas : 86"
   ]
  },
  {
   "cell_type": "markdown",
   "metadata": {
    "id": "b0JNsNcRphqO"
   },
   "source": [
    "##### 3. Will the gained insights help creating a positive business impact? \n",
    "Are there any insights that lead to negative growth? Justify with specific reason."
   ]
  },
  {
   "cell_type": "markdown",
   "metadata": {
    "id": "xvSq8iUTphqO"
   },
   "source": [
    "1. Documentaries, Stand-up comedies, dramas, international movies, comedies and independent the genres which highest number of movies are being produced.\n",
    "  Therefore these we can say that consumers mostly likes this kind of movies.\n",
    "2. Kids TV, International TV shows, TV dramas, Crime tv shows, Romantic TV shows are the genres which are being produced in highest quantity."
   ]
  },
  {
   "cell_type": "markdown",
   "metadata": {
    "id": "BZR9WyysphqO"
   },
   "source": [
    "#### Chart - 7 - Bar chart top 10 actors."
   ]
  },
  {
   "cell_type": "code",
   "execution_count": null,
   "metadata": {
    "colab": {
     "base_uri": "https://localhost:8080/",
     "height": 0
    },
    "id": "TdPTWpAVphqO",
    "outputId": "be8fc8f9-b0a0-4690-9dd9-917bd77e7458"
   },
   "outputs": [],
   "source": [
    "# Chart - 8 visualization code\n",
    "top_10_actors.plot.barh(color=colors)\n",
    "plt.title('Top 10 actors')\n",
    "plt.xlabel('count of movies/tv shows')\n",
    "plt.ylabel('Actors')\n",
    "plt.xticks(np.arange(0,43,2))\n",
    "plt.show()"
   ]
  },
  {
   "cell_type": "markdown",
   "metadata": {
    "id": "jj7wYXLtphqO"
   },
   "source": [
    "##### 1. Why did you pick the specific chart?"
   ]
  },
  {
   "cell_type": "markdown",
   "metadata": {
    "id": "Ob8u6rCTphqO"
   },
   "source": [
    "A bar chart shows value counts and frequency of the data for each columns and I picked this chart to see top 10 actors with highest number of movies/tv show."
   ]
  },
  {
   "cell_type": "markdown",
   "metadata": {
    "id": "eZrbJ2SmphqO"
   },
   "source": [
    "##### 2. What is/are the insight(s) found from the chart?"
   ]
  },
  {
   "cell_type": "markdown",
   "metadata": {
    "id": "mZtgC_hjphqO"
   },
   "source": [
    "I found that Anupam Kher worked in about 42 movies which is highest then Shahrukh Khan worked in about 37 movies that is 2nd highest, OM Puri, Nasisuddin Shah, Takahiro Sakurai, Akshay Kumar, Paresh Rawal, Yuki Kaji, Boman Irani and Amitabh Bachchan are from 3rd highest to 10 respectively."
   ]
  },
  {
   "cell_type": "markdown",
   "metadata": {
    "id": "rFu4xreNphqO"
   },
   "source": [
    "##### 3. Will the gained insights help creating a positive business impact? \n",
    "Are there any insights that lead to negative growth? Justify with specific reason."
   ]
  },
  {
   "cell_type": "markdown",
   "metadata": {
    "id": "ey_0qi68phqO"
   },
   "source": [
    "There are the top actors consumers likes to watch them and their movies mostly break the records and earns high profits."
   ]
  },
  {
   "cell_type": "markdown",
   "metadata": {
    "id": "YJ55k-q6phqO"
   },
   "source": [
    "#### Chart - 8 - Bar chart top 10 genres."
   ]
  },
  {
   "cell_type": "code",
   "execution_count": null,
   "metadata": {
    "colab": {
     "base_uri": "https://localhost:8080/",
     "height": 0
    },
    "id": "B2aS4O1ophqO",
    "outputId": "c4d8e39c-f794-4a1b-c0cf-791828459f0d"
   },
   "outputs": [],
   "source": [
    "# Chart - 9 visualization code\n",
    "top_10_genres.plot.barh(color=colors)\n",
    "plt.xticks(np.arange(0,2501,200))\n",
    "plt.xlabel('count')\n",
    "plt.ylabel('Genres')\n",
    "plt.title('Top 10 Genres')\n",
    "plt.show()"
   ]
  },
  {
   "cell_type": "markdown",
   "metadata": {
    "id": "gCFgpxoyphqP"
   },
   "source": [
    "##### 1. Why did you pick the specific chart?"
   ]
  },
  {
   "cell_type": "markdown",
   "metadata": {
    "id": "TVxDimi2phqP"
   },
   "source": [
    "A bar chart shows value counts and frequency of the data for each columns and I picked this chart to see top 10 genres with highest number of movies/tv show."
   ]
  },
  {
   "cell_type": "markdown",
   "metadata": {
    "id": "OVtJsKN_phqQ"
   },
   "source": [
    "##### 2. What is/are the insight(s) found from the chart?"
   ]
  },
  {
   "cell_type": "markdown",
   "metadata": {
    "id": "ngGi97qjphqQ"
   },
   "source": [
    "Top 10 genres with highest number of movies/tv shows.\n",
    "* International Movies : 2437\n",
    "* Dramas : 2106\n",
    "* Comedies : 1471\n",
    "* International TV Shows : 1199\n",
    "* Documentaries : 786\n",
    "* Action & Adventure : 721\n",
    "* TV Dramas : 704\n",
    "* Independent Movies : 673\n",
    "* Children & Family Movies : 532\n",
    "* Romantic Movies : 531"
   ]
  },
  {
   "cell_type": "markdown",
   "metadata": {
    "id": "lssrdh5qphqQ"
   },
   "source": [
    "##### 3. Will the gained insights help creating a positive business impact? \n",
    "Are there any insights that lead to negative growth? Justify with specific reason."
   ]
  },
  {
   "cell_type": "markdown",
   "metadata": {
    "id": "tBpY5ekJphqQ"
   },
   "source": [
    "Most of the consumers love to watch the movies or tv shows from the above genres."
   ]
  },
  {
   "cell_type": "markdown",
   "metadata": {
    "id": "U2RJ9gkRphqQ"
   },
   "source": [
    "#### Chart - 9 - Bar chart monthly shows count."
   ]
  },
  {
   "cell_type": "code",
   "execution_count": null,
   "metadata": {
    "colab": {
     "base_uri": "https://localhost:8080/",
     "height": 0
    },
    "id": "GM7a4YP4phqQ",
    "outputId": "039a5a75-c66a-4344-f0d0-a076c07922da"
   },
   "outputs": [],
   "source": [
    "# Chart - 10 visualization code\n",
    "monthly_shows.plot.barh(figsize=(12,4),color=colors)\n",
    "plt.title('Monthly Show count')\n",
    "plt.xlabel('Counts')\n",
    "plt.ylabel('Months')\n",
    "plt.show()"
   ]
  },
  {
   "cell_type": "markdown",
   "metadata": {
    "id": "1M8mcRywphqQ"
   },
   "source": [
    "##### 1. Why did you pick the specific chart?"
   ]
  },
  {
   "cell_type": "markdown",
   "metadata": {
    "id": "8agQvks0phqQ"
   },
   "source": [
    "A bar chart shows value counts and frequency of the data for each column therefore I picked this chart to see counts of shows for each month."
   ]
  },
  {
   "cell_type": "markdown",
   "metadata": {
    "id": "tgIPom80phqQ"
   },
   "source": [
    "##### 2. What is/are the insight(s) found from the chart?"
   ]
  },
  {
   "cell_type": "markdown",
   "metadata": {
    "id": "Qp13pnNzphqQ"
   },
   "source": [
    "I found that october, november, december and january have more than 700 highest number of movies are produced but every month there are more than 400 movies or TV Shows are being produced. "
   ]
  },
  {
   "cell_type": "markdown",
   "metadata": {
    "id": "JMzcOPDDphqR"
   },
   "source": [
    "##### 3. Will the gained insights help creating a positive business impact? \n",
    "Are there any insights that lead to negative growth? Justify with specific reason."
   ]
  },
  {
   "cell_type": "markdown",
   "metadata": {
    "id": "R4Ka1PC2phqR"
   },
   "source": [
    "Most of the movies are get produced during winter season."
   ]
  },
  {
   "cell_type": "markdown",
   "metadata": {
    "id": "g-ATYxFrGrvw"
   },
   "source": [
    "## ***5. Hypothesis Testing***"
   ]
  },
  {
   "cell_type": "markdown",
   "metadata": {
    "id": "Yfr_Vlr8HBkt"
   },
   "source": [
    "### Based on your chart experiments, define three hypothetical statements from the dataset. In the next three questions, perform hypothesis testing to obtain final conclusion about the statements through your code and statistical testing."
   ]
  },
  {
   "cell_type": "markdown",
   "metadata": {
    "id": "-7MS06SUHkB-"
   },
   "source": [
    "Answer Here."
   ]
  },
  {
   "cell_type": "markdown",
   "metadata": {
    "id": "8yEUt7NnHlrM"
   },
   "source": [
    "### Hypothetical Statement - 1"
   ]
  },
  {
   "cell_type": "markdown",
   "metadata": {
    "id": "tEA2Xm5dHt1r"
   },
   "source": [
    "#### 1. State Your research hypothesis as a null hypothesis and alternate hypothesis."
   ]
  },
  {
   "cell_type": "markdown",
   "metadata": {
    "id": "HI9ZP0laH0D-"
   },
   "source": [
    "Answer Here."
   ]
  },
  {
   "cell_type": "markdown",
   "metadata": {
    "id": "I79__PHVH19G"
   },
   "source": [
    "#### 2. Perform an appropriate statistical test."
   ]
  },
  {
   "cell_type": "code",
   "execution_count": null,
   "metadata": {
    "id": "oZrfquKtyian"
   },
   "outputs": [],
   "source": [
    "# Perform Statistical Test to obtain P-Value"
   ]
  },
  {
   "cell_type": "markdown",
   "metadata": {
    "id": "Ou-I18pAyIpj"
   },
   "source": [
    "##### Which statistical test have you done to obtain P-Value?"
   ]
  },
  {
   "cell_type": "markdown",
   "metadata": {
    "id": "s2U0kk00ygSB"
   },
   "source": [
    "Answer Here."
   ]
  },
  {
   "cell_type": "markdown",
   "metadata": {
    "id": "fF3858GYyt-u"
   },
   "source": [
    "##### Why did you choose the specific statistical test?"
   ]
  },
  {
   "cell_type": "markdown",
   "metadata": {
    "id": "HO4K0gP5y3B4"
   },
   "source": [
    "Answer Here."
   ]
  },
  {
   "cell_type": "markdown",
   "metadata": {
    "id": "4_0_7-oCpUZd"
   },
   "source": [
    "### Hypothetical Statement - 2"
   ]
  },
  {
   "cell_type": "markdown",
   "metadata": {
    "id": "hwyV_J3ipUZe"
   },
   "source": [
    "#### 1. State Your research hypothesis as a null hypothesis and alternate hypothesis."
   ]
  },
  {
   "cell_type": "markdown",
   "metadata": {
    "id": "FnpLGJ-4pUZe"
   },
   "source": [
    "Answer Here."
   ]
  },
  {
   "cell_type": "markdown",
   "metadata": {
    "id": "3yB-zSqbpUZe"
   },
   "source": [
    "#### 2. Perform an appropriate statistical test."
   ]
  },
  {
   "cell_type": "code",
   "execution_count": null,
   "metadata": {
    "id": "sWxdNTXNpUZe"
   },
   "outputs": [],
   "source": [
    "# Perform Statistical Test to obtain P-Value"
   ]
  },
  {
   "cell_type": "markdown",
   "metadata": {
    "id": "dEUvejAfpUZe"
   },
   "source": [
    "##### Which statistical test have you done to obtain P-Value?"
   ]
  },
  {
   "cell_type": "markdown",
   "metadata": {
    "id": "oLDrPz7HpUZf"
   },
   "source": [
    "Answer Here."
   ]
  },
  {
   "cell_type": "markdown",
   "metadata": {
    "id": "Fd15vwWVpUZf"
   },
   "source": [
    "##### Why did you choose the specific statistical test?"
   ]
  },
  {
   "cell_type": "markdown",
   "metadata": {
    "id": "4xOGYyiBpUZf"
   },
   "source": [
    "Answer Here."
   ]
  },
  {
   "cell_type": "markdown",
   "metadata": {
    "id": "bn_IUdTipZyH"
   },
   "source": [
    "### Hypothetical Statement - 3"
   ]
  },
  {
   "cell_type": "markdown",
   "metadata": {
    "id": "49K5P_iCpZyH"
   },
   "source": [
    "#### 1. State Your research hypothesis as a null hypothesis and alternate hypothesis."
   ]
  },
  {
   "cell_type": "markdown",
   "metadata": {
    "id": "7gWI5rT9pZyH"
   },
   "source": [
    "Answer Here."
   ]
  },
  {
   "cell_type": "markdown",
   "metadata": {
    "id": "Nff-vKELpZyI"
   },
   "source": [
    "#### 2. Perform an appropriate statistical test."
   ]
  },
  {
   "cell_type": "code",
   "execution_count": null,
   "metadata": {
    "id": "s6AnJQjtpZyI"
   },
   "outputs": [],
   "source": [
    "# Perform Statistical Test to obtain P-Value"
   ]
  },
  {
   "cell_type": "markdown",
   "metadata": {
    "id": "kLW572S8pZyI"
   },
   "source": [
    "##### Which statistical test have you done to obtain P-Value?"
   ]
  },
  {
   "cell_type": "markdown",
   "metadata": {
    "id": "ytWJ8v15pZyI"
   },
   "source": [
    "Answer Here."
   ]
  },
  {
   "cell_type": "markdown",
   "metadata": {
    "id": "dWbDXHzopZyI"
   },
   "source": [
    "##### Why did you choose the specific statistical test?"
   ]
  },
  {
   "cell_type": "markdown",
   "metadata": {
    "id": "M99G98V6pZyI"
   },
   "source": [
    "Answer Here."
   ]
  },
  {
   "cell_type": "markdown",
   "metadata": {
    "id": "yLjJCtPM0KBk"
   },
   "source": [
    "## ***6. Feature Engineering & Data Pre-processing***"
   ]
  },
  {
   "cell_type": "markdown",
   "metadata": {
    "id": "xiyOF9F70UgQ"
   },
   "source": [
    "### 1. Handling Missing Values"
   ]
  },
  {
   "cell_type": "code",
   "execution_count": null,
   "metadata": {
    "id": "iRsAHk1K0fpS"
   },
   "outputs": [],
   "source": [
    "# Handling Missing Values & Missing Value Imputation\n",
    "df_copy = netflix_df.copy()\n",
    "df_copy['cast'] = df_copy['cast'].fillna('unknown cast')\n",
    "df_copy['country'] = df_copy['country'].fillna('unknown country')\n",
    "df_copy.drop(columns=['director'],inplace=True)\n",
    "df_copy = df_copy.dropna()"
   ]
  },
  {
   "cell_type": "markdown",
   "metadata": {
    "id": "7wuGOrhz0itI"
   },
   "source": [
    "#### What all missing value imputation techniques have you used and why did you use those techniques?"
   ]
  },
  {
   "cell_type": "markdown",
   "metadata": {
    "id": "1ixusLtI0pqI"
   },
   "source": [
    "First of all I replace nan with unknown cast and unknown country for columns cast and country. Then I dropped those rows which has less than or uqual to 10 nan values."
   ]
  },
  {
   "cell_type": "markdown",
   "metadata": {
    "id": "id1riN9m0vUs"
   },
   "source": [
    "### 2. Handling Outliers"
   ]
  },
  {
   "cell_type": "code",
   "execution_count": null,
   "metadata": {
    "colab": {
     "base_uri": "https://localhost:8080/",
     "height": 0
    },
    "id": "M6w2CzZf04JK",
    "outputId": "4528376a-1080-46e5-dfb4-d5158cc7edaa"
   },
   "outputs": [],
   "source": [
    "# Handling Outliers & Outlier treatments\n",
    "sns.boxplot(df_copy['release_year'])\n",
    "plt.xticks(np.arange(1920,2031,10))\n",
    "plt.show()\n",
    "\n",
    "# Getting q1, q3 and iqr\n",
    "q1 = df_copy['release_year'].quantile(.25)\n",
    "q3 = df_copy['release_year'].quantile(.75)\n",
    "iqr = q3-q1\n",
    "lower = q1-1.5*(iqr)"
   ]
  },
  {
   "cell_type": "code",
   "execution_count": null,
   "metadata": {
    "colab": {
     "base_uri": "https://localhost:8080/",
     "height": 0
    },
    "id": "b0yQsNvE-9fL",
    "outputId": "6885b99b-7ecc-4c81-9f12-f36fc1a20b6b"
   },
   "outputs": [],
   "source": [
    "# removing outliers by release year column.\n",
    "df_copy = df_copy[df_copy['release_year'] > lower]\n",
    "# Visualization after outliers removal.\n",
    "sns.boxplot(df_copy['release_year'])\n",
    "plt.show()"
   ]
  },
  {
   "cell_type": "markdown",
   "metadata": {
    "id": "lHm23Sk0RBkc"
   },
   "source": [
    "There are still some outliers so we can remove this using the same steps."
   ]
  },
  {
   "cell_type": "code",
   "execution_count": null,
   "metadata": {
    "colab": {
     "base_uri": "https://localhost:8080/",
     "height": 0
    },
    "id": "j8g0KhSUQhxk",
    "outputId": "bae7eb85-71ff-461a-ed77-c58a07cee989"
   },
   "outputs": [],
   "source": [
    "# Getting q1, q3 and iqr\n",
    "q1 = df_copy['release_year'].quantile(.25)\n",
    "q3 = df_copy['release_year'].quantile(.75)\n",
    "iqr = q3-q1\n",
    "lower = q1-1.5*(iqr)\n",
    "df_copy = df_copy[df_copy['release_year'] > lower]\n",
    "sns.boxplot(df_copy['release_year'])\n",
    "plt.show()"
   ]
  },
  {
   "cell_type": "markdown",
   "metadata": {
    "id": "578E2V7j08f6"
   },
   "source": [
    "##### What all outlier treatment techniques have you used and why did you use those techniques?"
   ]
  },
  {
   "cell_type": "markdown",
   "metadata": {
    "id": "uGZz5OrT1HH-"
   },
   "source": [
    "I used q1-1.5iqr technique to remove uni-variate outliers because the column release_year had outliers."
   ]
  },
  {
   "cell_type": "markdown",
   "metadata": {
    "id": "89xtkJwZ18nB"
   },
   "source": [
    "### 3. Categorical Encoding"
   ]
  },
  {
   "cell_type": "code",
   "execution_count": null,
   "metadata": {
    "id": "21JmIYMG2hEo"
   },
   "outputs": [],
   "source": [
    "# Encode your categorical columns\n",
    "df_copy['movie'] = df_copy['type'].apply(lambda x: 1 if x=='Movie' else 0)\n",
    "df_copy['tv_show'] = df_copy['type'].apply(lambda x: 0 if x=='Movie' else 1)\n",
    "# df_copy.drop(columns=['type'],inplace=True)"
   ]
  },
  {
   "cell_type": "markdown",
   "metadata": {
    "id": "67NQN5KX2AMe"
   },
   "source": [
    "#### What all categorical encoding techniques have you used & why did you use those techniques?"
   ]
  },
  {
   "cell_type": "markdown",
   "metadata": {
    "id": "UDaue5h32n_G"
   },
   "source": [
    "One hot encoding technique is not biased to a particular variable therefore I did one hot encoding of column type and created new columns movie and tv_show."
   ]
  },
  {
   "cell_type": "markdown",
   "metadata": {
    "id": "Iwf50b-R2tYG"
   },
   "source": [
    "### 4. Textual Data Preprocessing \n",
    "(It's mandatory for textual dataset i.e., NLP, Sentiment Analysis, Text Clustering etc.)"
   ]
  },
  {
   "cell_type": "code",
   "execution_count": null,
   "metadata": {
    "id": "ZRm-M-plUnfM"
   },
   "outputs": [],
   "source": [
    "# Combining all the textual columns and assigning it to a new variable\n",
    "df_copy['cluster_col'] = (df_copy['cast']+' '+df_copy['listed_in']+' '+df_copy['type']+' '\\\n",
    "                          +df_copy['description']+df_copy['country'])"
   ]
  },
  {
   "cell_type": "markdown",
   "metadata": {
    "id": "GMQiZwjn3iu7"
   },
   "source": [
    "#### 1. Expand Contraction - Not done."
   ]
  },
  {
   "cell_type": "code",
   "execution_count": null,
   "metadata": {
    "id": "PTouz10C3oNN"
   },
   "outputs": [],
   "source": [
    "# Expand Contraction\n",
    "df_copy.columns"
   ]
  },
  {
   "cell_type": "markdown",
   "metadata": {
    "id": "WVIkgGqN3qsr"
   },
   "source": [
    "#### 2. Lower Casing"
   ]
  },
  {
   "cell_type": "code",
   "execution_count": null,
   "metadata": {
    "id": "88JnJ1jN3w7j"
   },
   "outputs": [],
   "source": [
    "# Lower Casing\n",
    "# Function to convert in lower case\n",
    "def lower_casing(col):\n",
    "  list_of_words = [letter.lower() for letter in col.split()]\n",
    "  return ' '.join(list_of_words)\n",
    "  \n",
    "df_copy['cluster_col'] = df_copy['cluster_col'].apply(lower_casing)"
   ]
  },
  {
   "cell_type": "markdown",
   "metadata": {
    "id": "XkPnILGE3zoT"
   },
   "source": [
    "#### 3. Removing Punctuations"
   ]
  },
  {
   "cell_type": "code",
   "execution_count": null,
   "metadata": {
    "id": "vqbBqNaA33c0"
   },
   "outputs": [],
   "source": [
    "# Remove Punctuations\n",
    "# Function to remove punctuations\n",
    "def rem_punctuation(text):\n",
    "  '''\n",
    "  take text and removes punctuations\n",
    "  '''\n",
    "  return ''.join([t for t in text if t not in string.punctuation])\n",
    "\n",
    "df_copy['cluster_col'] = df_copy['cluster_col'].apply(lower_casing)"
   ]
  },
  {
   "cell_type": "markdown",
   "metadata": {
    "id": "Hlsf0x5436Go"
   },
   "source": [
    "#### 4. Removing URLs & Removing words and digits contain digits."
   ]
  },
  {
   "cell_type": "code",
   "execution_count": null,
   "metadata": {
    "id": "2sxKgKxu4Ip3"
   },
   "outputs": [],
   "source": [
    "# Remove URLs & Remove words and digits contain digits\n",
    "nums = ['0','1','2','3','4','5','6','7','8','9']\n",
    "# Function to remove URLs and digits\n",
    "def rem_digit(text):\n",
    "  '''\n",
    "  take text and removes digits\n",
    "  '''\n",
    "  return ''.join([t for t in text if t not in nums])\n",
    "\n",
    "df_copy['cluster_col'] = df_copy['cluster_col'].apply(rem_digit)\n",
    "\n",
    "# Function to remove url\n",
    "def rem_url(text):\n",
    "  '''\n",
    "  Take a texts and removes url\n",
    "  '''\n",
    "  return ' '.join([t for t in text.split('.') if t not in ['com','www','https//']])\n",
    "\n",
    "df_copy['cluster_col'] = df_copy['cluster_col'].apply(rem_url)"
   ]
  },
  {
   "cell_type": "markdown",
   "metadata": {
    "id": "mT9DMSJo4nBL"
   },
   "source": [
    "#### 5. Removing Stopwords & Removing White spaces"
   ]
  },
  {
   "cell_type": "code",
   "execution_count": null,
   "metadata": {
    "colab": {
     "base_uri": "https://localhost:8080/"
    },
    "id": "T2LSJh154s8W",
    "outputId": "d6446f47-5112-4de1-e916-f8bb8232220d"
   },
   "outputs": [],
   "source": [
    "# Remove Stopwords\n",
    "nltk.download('stopwords')\n",
    "stopwords_ = nltk.corpus.stopwords.words('english')\n",
    "def rem_stopwords(text):\n",
    "  '''\n",
    "  Takes text and removes stop words\n",
    "  '''\n",
    "  return ' '.join([t for t in text.split() if t not in stopwords_])\n",
    "\n",
    "df_copy['cluster_col'] = df_copy['cluster_col'].apply(rem_stopwords)"
   ]
  },
  {
   "cell_type": "code",
   "execution_count": null,
   "metadata": {
    "id": "EgLJGffy4vm0"
   },
   "outputs": [],
   "source": [
    "# Remove White spaces\n",
    "# Function to remove white spaces\n",
    "def rem_ws(text):\n",
    "  '''\n",
    "  takes text and removes white spaces\n",
    "  '''\n",
    "  return ' '.join([t for t in text.split(' ')])\n",
    "df_copy['cluster_col'] = df_copy['cluster_col'].apply(rem_ws)"
   ]
  },
  {
   "cell_type": "markdown",
   "metadata": {
    "id": "OeJFEK0N496M"
   },
   "source": [
    "#### 7. Tokenization"
   ]
  },
  {
   "cell_type": "code",
   "execution_count": null,
   "metadata": {
    "id": "05HyUlT-TzFE"
   },
   "outputs": [],
   "source": [
    "# cluster_col\n",
    "# Create a count vectotrizer\n",
    "count_vectorizer = CountVectorizer()\n",
    "# Fitting the count vectorizer\n",
    "count_vectorizer.fit_transform(df_copy['cluster_col'])\n",
    "# Collecting the vocabularies\n",
    "dictionary_cluster_col = count_vectorizer.vocabulary_.items()"
   ]
  },
  {
   "cell_type": "code",
   "execution_count": null,
   "metadata": {
    "colab": {
     "base_uri": "https://localhost:8080/"
    },
    "id": "0yxIPVYHXq7l",
    "outputId": "5089aca7-4d93-4344-cbed-d986cb8a3847"
   },
   "outputs": [],
   "source": [
    "dictionary_cluster_col"
   ]
  },
  {
   "cell_type": "markdown",
   "metadata": {
    "id": "9ExmJH0g5HBk"
   },
   "source": [
    "#### 8. Text Normalization"
   ]
  },
  {
   "cell_type": "markdown",
   "metadata": {
    "id": "PsJ6KNdjVsnF"
   },
   "source": [
    "##### Before Stemming"
   ]
  },
  {
   "cell_type": "code",
   "execution_count": null,
   "metadata": {
    "id": "g6XqpKv9T_RQ"
   },
   "outputs": [],
   "source": [
    "# Assigning vocabularies and counts to the lists for listed_in.\n",
    "vocab_cluster = [ ]\n",
    "vocab_counts_cluster = []\n",
    "for key , value in dictionary_cluster_col:\n",
    "  vocab_cluster.append( key )\n",
    "  vocab_counts_cluster.append( value )"
   ]
  },
  {
   "cell_type": "code",
   "execution_count": null,
   "metadata": {
    "colab": {
     "base_uri": "https://localhost:8080/",
     "height": 0
    },
    "id": "3c5q_QJ8YZ13",
    "outputId": "cbda9d73-97cc-4c1d-9fa8-f2cb13e4a8ac"
   },
   "outputs": [],
   "source": [
    "# Dataframe before stemming\n",
    "df_cluster_before_stem = pd.DataFrame({'word':vocab_cluster,'count':vocab_counts_cluster}).sort_values(by='count',ascending=False)\n",
    "df_cluster_before_stem.head(20).T"
   ]
  },
  {
   "cell_type": "code",
   "execution_count": null,
   "metadata": {
    "colab": {
     "base_uri": "https://localhost:8080/",
     "height": 0
    },
    "id": "pOE3n6y0ULrF",
    "outputId": "f045a29e-2ed9-42fb-a8c5-61339228bd8e"
   },
   "outputs": [],
   "source": [
    "# Plotting top 10 words\n",
    "plt.rcParams['figure.figsize'] = (15,7)\n",
    "\n",
    "plt.barh(df_cluster_before_stem.head(20)['word'].values,df_cluster_before_stem.head(20)['count'].values)\n",
    "plt.xlim(40250,40280)\n",
    "plt.title('Words count before Stemming for Cluster_col')\n",
    "plt.xlabel('Count')\n",
    "plt.ylabel('Words')\n",
    "plt.show()"
   ]
  },
  {
   "cell_type": "code",
   "execution_count": null,
   "metadata": {
    "id": "AIJ1a-Zc5PY8"
   },
   "outputs": [],
   "source": [
    "# Normalizing Text (i.e., Stemming, Lemmatization etc.)\n",
    "# Stemming finction\n",
    "def stemming(text):\n",
    "  stemmer = SnowballStemmer('english')\n",
    "  return ' '.join([stemmer.stem(t) for t in text.split()])\n",
    "\n",
    "df_copy['cluster_col'] = df_copy['cluster_col'].apply(stemming)"
   ]
  },
  {
   "cell_type": "markdown",
   "metadata": {
    "id": "cJNqERVU536h"
   },
   "source": [
    "###### Which text normalization technique have you used and why?"
   ]
  },
  {
   "cell_type": "markdown",
   "metadata": {
    "id": "Z9jKVxE06BC1"
   },
   "source": [
    "Stemming removes the extra tail of the words like coming converted to come. I am using this technique to remove the tail of the words."
   ]
  },
  {
   "cell_type": "markdown",
   "metadata": {
    "id": "O1-ATA4IV6Kg"
   },
   "source": [
    "##### After Stemming"
   ]
  },
  {
   "cell_type": "code",
   "execution_count": null,
   "metadata": {
    "id": "WhWypduJUauc"
   },
   "outputs": [],
   "source": [
    "# Assigning vocabularies and counts to the lists for listed_in.\n",
    "vocab_cluster = [ ]\n",
    "vocab_counts_cluster = []\n",
    "for key , value in dictionary_cluster_col:\n",
    "  vocab_cluster.append( key )\n",
    "  vocab_counts_cluster.append( value )"
   ]
  },
  {
   "cell_type": "code",
   "execution_count": null,
   "metadata": {
    "colab": {
     "base_uri": "https://localhost:8080/",
     "height": 112
    },
    "id": "EH8cbUlubdBz",
    "outputId": "64a32e79-3c92-435f-e553-10ddd7525879"
   },
   "outputs": [],
   "source": [
    "# Dataframe before stemming\n",
    "df_cluster_after_stem = pd.DataFrame({'word':vocab_cluster,'count':vocab_counts_cluster}).sort_values(by='count',ascending=False)\n",
    "df_cluster_before_stem.head(20).T"
   ]
  },
  {
   "cell_type": "code",
   "execution_count": null,
   "metadata": {
    "colab": {
     "base_uri": "https://localhost:8080/",
     "height": 475
    },
    "id": "gjpXKVV0Uhw5",
    "outputId": "c4f33daa-b238-48f4-ecd5-61572508ef07"
   },
   "outputs": [],
   "source": [
    "# Plotting top 10 words\n",
    "plt.barh(df_cluster_after_stem.head(20)['word'].values,df_cluster_after_stem.head(20)['count'].values)\n",
    "plt.xlim(37260,37500)\n",
    "plt.title('Words count After Stemming for Cluster_col')\n",
    "plt.xlabel('Count')\n",
    "plt.ylabel('Words')\n",
    "plt.show()"
   ]
  },
  {
   "cell_type": "markdown",
   "metadata": {
    "id": "T0VqWOYE6DLQ"
   },
   "source": [
    "#### 10. Text Vectorization"
   ]
  },
  {
   "cell_type": "code",
   "execution_count": null,
   "metadata": {
    "colab": {
     "base_uri": "https://localhost:8080/"
    },
    "id": "yBRtdhth6JDE",
    "outputId": "4806baa5-eb2c-4962-d1d5-6e4d337b12fc"
   },
   "outputs": [],
   "source": [
    "# Vectorizing Text\n",
    "tfidfvectorizer = TfidfVectorizer(min_df=5)\n",
    "features_array = tfidfvectorizer.fit_transform(df_copy['cluster_col']).toarray()\n",
    "features_names = tfidfvectorizer.get_feature_names()\n",
    "df_copy.shape"
   ]
  },
  {
   "cell_type": "code",
   "execution_count": null,
   "metadata": {
    "colab": {
     "base_uri": "https://localhost:8080/"
    },
    "id": "FYmvbjTShf37",
    "outputId": "3903da42-6a03-41c3-e8b1-881f05f4b283"
   },
   "outputs": [],
   "source": [
    "# Making dataframe with vocabularies\n",
    "X = pd.DataFrame(features_array,columns=features_names)\n",
    "X.shape"
   ]
  },
  {
   "cell_type": "markdown",
   "metadata": {
    "id": "qBMux9mC6MCf"
   },
   "source": [
    "##### Which text vectorization technique have you used and why?"
   ]
  },
  {
   "cell_type": "markdown",
   "metadata": {
    "id": "su2EnbCh6UKQ"
   },
   "source": [
    "I used tfidfVectorization technique."
   ]
  },
  {
   "cell_type": "markdown",
   "metadata": {
    "id": "1UUpS68QDMuG"
   },
   "source": [
    "### 7. Dimesionality Reduction"
   ]
  },
  {
   "cell_type": "markdown",
   "metadata": {
    "id": "kexQrXU-DjzY"
   },
   "source": [
    "##### Do you think that dimensionality reduction is needed? Explain Why?"
   ]
  },
  {
   "cell_type": "markdown",
   "metadata": {
    "id": "GGRlBsSGDtTQ"
   },
   "source": [
    "Since there are a huge number of features and most of them has very less impact on the model therefore we need to do dimentionality reduction."
   ]
  },
  {
   "cell_type": "code",
   "execution_count": null,
   "metadata": {
    "id": "kQfvxBBHDvCa"
   },
   "outputs": [],
   "source": [
    "# Dimensionality Reduction (If needed)\n",
    "pca = PCA(n_components=.95)\n",
    "pca.fit(X.values)\n",
    "X2 = pca.transform(X.values)"
   ]
  },
  {
   "cell_type": "markdown",
   "metadata": {
    "id": "T5CmagL3EC8N"
   },
   "source": [
    "##### Which dimensionality reduction technique have you used and why? (If dimensionality reduction done on dataset.)"
   ]
  },
  {
   "cell_type": "markdown",
   "metadata": {
    "id": "ZKr75IDuEM7t"
   },
   "source": [
    "I used principal component analysis."
   ]
  },
  {
   "cell_type": "markdown",
   "metadata": {
    "id": "VfCC591jGiD4"
   },
   "source": [
    "## ***7. ML Model Implementation***"
   ]
  },
  {
   "cell_type": "markdown",
   "metadata": {
    "id": "OB4l2ZhMeS1U"
   },
   "source": [
    "### ML Model - 1 - KMeans"
   ]
  },
  {
   "cell_type": "code",
   "execution_count": null,
   "metadata": {
    "colab": {
     "base_uri": "https://localhost:8080/",
     "height": 376
    },
    "id": "7ebyywQieS1U",
    "outputId": "7a469a91-6ad9-4283-b62e-69cb572f37c0"
   },
   "outputs": [],
   "source": [
    "# ML Model - 1 Implementation\n",
    "# KElbowVisualization\n",
    "model = KMeans(random_state=10)\n",
    "visualizer = KElbowVisualizer(model,k=(2,21),metric='calinski_harabasz',timings=False,locate_elbow=False)\n",
    "# Fit the Algorithm\n",
    "visualizer.fit(X2)\n",
    "# Predict on the model\n",
    "visualizer.show()\n",
    "plt.show()"
   ]
  },
  {
   "cell_type": "code",
   "execution_count": null,
   "metadata": {},
   "outputs": [],
   "source": [
    "# Silhouette Score for each cluster\n",
    "n_clusters_range = np.arange(2,21)\n",
    "for c in n_clusters_range:\n",
    "    clusterer = KMeans(n_clusters=c,random_state=9)\n",
    "    pred = clusterer.fit_predict(X2)\n",
    "    centers = clusterer.cluster_centers_\n",
    "    score = silhouette_score(X2,pred)\n",
    "    inertia = clusterer.inertia_\n",
    "    print('for cluster ',c,' the silhouette score is ',score)\n",
    "#plotting the results:\n",
    "    plt.rcParams['figure.figsize'] = (6,4)\n",
    "    plt.scatter(X2[: , 0] , X2[: , 1] , c=pred,s=10,cmap='viridis')\n",
    "    plt.scatter(centers[:, 0],centers[:, 1],c='red',s=15,marker='o',edgecolor='black')\n",
    "    plt.show()"
   ]
  },
  {
   "cell_type": "code",
   "execution_count": null,
   "metadata": {
    "colab": {
     "base_uri": "https://localhost:8080/",
     "height": 818
    },
    "id": "HT0gwHE1fLAU",
    "outputId": "deea4036-1eb5-4d7f-af76-2c0ba6f4711c"
   },
   "outputs": [],
   "source": [
    "# Making the model with 4 clusters\n",
    "kmeans= KMeans(n_clusters=4, random_state=10,max_iter=10)\n",
    "kmeans.fit(X2)\n",
    "\n",
    "#predict the labels of clusters.\n",
    "labels = kmeans.fit_predict(X2)\n",
    "centers = kmeans.cluster_centers_"
   ]
  },
  {
   "cell_type": "code",
   "execution_count": null,
   "metadata": {
    "colab": {
     "base_uri": "https://localhost:8080/",
     "height": 347
    },
    "id": "PDKhkp4qhlNP",
    "outputId": "26e2d0d6-8746-45fa-d859-1c3a92884976"
   },
   "outputs": [],
   "source": [
    "#plotting the results:\n",
    "plt.rcParams['figure.figsize'] = (12,6)\n",
    "plt.scatter(X2[: , 0] , X2[: , 1] , c=labels,s=10,cmap='viridis')\n",
    "plt.scatter(centers[:, 0],centers[:, 1],c='red',s=15)\n",
    "plt.show()"
   ]
  },
  {
   "cell_type": "markdown",
   "metadata": {
    "id": "ArJBuiUVfxKd"
   },
   "source": [
    "#### 1. Explain the ML Model used and it's performance using Evaluation metric Score Chart."
   ]
  },
  {
   "cell_type": "markdown",
   "metadata": {},
   "source": [
    "From KElbow visualization I found that n_cluster = 4 is good and silhouette score is 0.021."
   ]
  },
  {
   "cell_type": "code",
   "execution_count": null,
   "metadata": {
    "id": "rqD5ZohzfxKe"
   },
   "outputs": [],
   "source": [
    "# Visualizing evaluation Metric Score chart"
   ]
  },
  {
   "cell_type": "markdown",
   "metadata": {
    "id": "4qY1EAkEfxKe"
   },
   "source": [
    "#### 2. Cross- Validation & Hyperparameter Tuning"
   ]
  },
  {
   "cell_type": "code",
   "execution_count": null,
   "metadata": {
    "id": "Dy61ujd6fxKe"
   },
   "outputs": [],
   "source": [
    "# ML Model - 1 Implementation with hyperparameter optimization techniques (i.e., GridSearch CV, RandomSearch CV, Bayesian Optimization etc.)\n",
    "mdl = KMeans()\n",
    "params ={'n_clusters':[4],'random_state':[9],'max_iter':[20]}\n",
    "kmeans_gridcv = GridSearchCV(mdl,param_grid=params,verbose=2,cv=3)\n",
    "# Fit the Algorithm\n",
    "kmeans_gridcv.fit(X2)\n",
    "# Predict on the model\n",
    "best_kmeans = kmeans_gridcv.best_estimator_\n",
    "labels = best_kmeans.predict(X2)"
   ]
  },
  {
   "cell_type": "code",
   "execution_count": null,
   "metadata": {},
   "outputs": [],
   "source": [
    "#plotting the results:\n",
    "centers = best_kmeans.cluster_centers_\n",
    "plt.scatter(X2[: , 0] , X2[: , 1] , c=labels,s=10,cmap='viridis')\n",
    "plt.scatter(centers[:, 0],centers[:, 1],c='red',s=15)\n",
    "plt.show()"
   ]
  },
  {
   "cell_type": "markdown",
   "metadata": {
    "id": "PiV4Ypx8fxKe"
   },
   "source": [
    "##### Which hyperparameter optimization technique have you used and why?"
   ]
  },
  {
   "cell_type": "markdown",
   "metadata": {
    "id": "negyGRa7fxKf"
   },
   "source": [
    "I used n_clusters and max_iter hyper parameters to tune the parameters and I did not found any improvement."
   ]
  },
  {
   "cell_type": "markdown",
   "metadata": {
    "id": "TfvqoZmBfxKf"
   },
   "source": [
    "##### Have you seen any improvement? Note down the improvement with updates Evaluation metric Score Chart."
   ]
  },
  {
   "cell_type": "markdown",
   "metadata": {
    "id": "OaLui8CcfxKf"
   },
   "source": [
    "I did not see any improvement."
   ]
  },
  {
   "cell_type": "markdown",
   "metadata": {
    "id": "dJ2tPlVmpsJ0"
   },
   "source": [
    "### ML Model - 2"
   ]
  },
  {
   "cell_type": "code",
   "execution_count": null,
   "metadata": {},
   "outputs": [],
   "source": [
    "# Using the dendogram to find the optimal number of clusters\n",
    "linkage =sch.linkage(X2, method = 'ward')\n",
    "dendrogram = sch.dendrogram(linkage)\n",
    "plt.title('Dendrogram')\n",
    "plt.xlabel('Shows')\n",
    "plt.ylabel('Euclidean Distances')\n",
    "plt.show() # find largest vertical distance we can make without crossing any other horizontal line"
   ]
  },
  {
   "cell_type": "code",
   "execution_count": null,
   "metadata": {},
   "outputs": [],
   "source": [
    "# Fitting hierarchical clustering to the mall dataset\n",
    "# Average and single linkage is not good\n",
    "hc = AgglomerativeClustering(n_clusters = 4, affinity = 'euclidean', linkage = 'ward')\n",
    "y_hc = hc.fit_predict(X2)"
   ]
  },
  {
   "cell_type": "code",
   "execution_count": null,
   "metadata": {
    "scrolled": true
   },
   "outputs": [],
   "source": [
    "#plotting the results:\n",
    "plt.scatter(X2[: , 0] , X2[: , 1] , c=y_hc,s=10,cmap='viridis')\n",
    "plt.show()"
   ]
  },
  {
   "cell_type": "code",
   "execution_count": null,
   "metadata": {},
   "outputs": [],
   "source": [
    "# Fitting hierarchical clustering to the mall dataset\n",
    "# Average and single linkage is not good\n",
    "hc = AgglomerativeClustering(n_clusters = 6, affinity = 'euclidean', linkage = 'single')\n",
    "y_hc = hc.fit_predict(X2)"
   ]
  },
  {
   "cell_type": "code",
   "execution_count": null,
   "metadata": {},
   "outputs": [],
   "source": [
    "#plotting the results:\n",
    "plt.scatter(X2[: , 0] , X2[: , 1] , c=y_hc,s=10,cmap='viridis')\n",
    "plt.show()"
   ]
  },
  {
   "cell_type": "markdown",
   "metadata": {
    "id": "JWYfwnehpsJ1"
   },
   "source": [
    "#### 1. Explain the ML Model used and it's performance using Evaluation metric Score Chart."
   ]
  },
  {
   "cell_type": "code",
   "execution_count": null,
   "metadata": {
    "id": "yEl-hgQWpsJ1"
   },
   "outputs": [],
   "source": [
    "# Visualizing evaluation Metric Score chart"
   ]
  },
  {
   "cell_type": "markdown",
   "metadata": {},
   "source": [
    "Since there are lot of noice in the dataset therefore the result is not good."
   ]
  },
  {
   "cell_type": "markdown",
   "metadata": {
    "id": "-jK_YjpMpsJ2"
   },
   "source": [
    "#### 2. Cross- Validation & Hyperparameter Tuning"
   ]
  },
  {
   "cell_type": "code",
   "execution_count": null,
   "metadata": {
    "id": "Dn0EOfS6psJ2"
   },
   "outputs": [],
   "source": [
    "# # ML Model - 1 Implementation with hyperparameter optimization techniques (i.e., GridSearch CV, RandomSearch CV, Bayesian Optimization etc.)\n",
    "# ac = AgglomerativeClustering()\n",
    "# param = {'compute_distances':[True,False],'linkage':['single','average','complete','ward'],'n_clusters':[3]}\n",
    "# agc_grid = GridSearchCV(hc,param_grid=param,cv=3,verbose=2)\n",
    "# # Fit the Algorithm\n",
    "# agc_grid.fit(X2)\n",
    "# best_agc = agc_grid.best_estimator_\n",
    "# # Predict on the model\n",
    "# labels = best_agc.predict(X2)"
   ]
  },
  {
   "cell_type": "markdown",
   "metadata": {
    "id": "HAih1iBOpsJ2"
   },
   "source": [
    "##### Which hyperparameter optimization technique have you used and why?"
   ]
  },
  {
   "cell_type": "markdown",
   "metadata": {
    "id": "9kBgjYcdpsJ2"
   },
   "source": [
    "Answer Here."
   ]
  },
  {
   "cell_type": "markdown",
   "metadata": {
    "id": "zVGeBEFhpsJ2"
   },
   "source": [
    "##### Have you seen any improvement? Note down the improvement with updates Evaluation metric Score Chart."
   ]
  },
  {
   "cell_type": "markdown",
   "metadata": {
    "id": "74yRdG6UpsJ3"
   },
   "source": [
    "Answer Here."
   ]
  },
  {
   "cell_type": "markdown",
   "metadata": {
    "id": "bmKjuQ-FpsJ3"
   },
   "source": [
    "#### 3. Explain each evaluation metric's indication towards business and the business impact pf the ML model used."
   ]
  },
  {
   "cell_type": "markdown",
   "metadata": {
    "id": "BDKtOrBQpsJ3"
   },
   "source": [
    "Answer Here."
   ]
  },
  {
   "cell_type": "markdown",
   "metadata": {
    "id": "Fze-IPXLpx6K"
   },
   "source": [
    "### ML Model - 3"
   ]
  },
  {
   "cell_type": "code",
   "execution_count": null,
   "metadata": {
    "id": "FFrSXAtrpx6M"
   },
   "outputs": [],
   "source": [
    "# ML Model - 3 Implementation\n",
    "dbscan = DBSCAN(eps=1,min_samples=1.5)\n",
    "# Fit the Algorithm\n",
    "dbscan.fit(X2)\n",
    "# Predict on the model\n",
    "ypred = dbscan.labels_"
   ]
  },
  {
   "cell_type": "markdown",
   "metadata": {
    "id": "7AN1z2sKpx6M"
   },
   "source": [
    "#### 1. Explain the ML Model used and it's performance using Evaluation metric Score Chart."
   ]
  },
  {
   "cell_type": "code",
   "execution_count": null,
   "metadata": {},
   "outputs": [],
   "source": [
    "# Visualizing evaluation Metric Score chart\n",
    "plt.scatter(X2[:,0], X2[:,1], c=ypred,s=5)\n",
    "plt.show()"
   ]
  },
  {
   "cell_type": "markdown",
   "metadata": {
    "id": "9PIHJqyupx6M"
   },
   "source": [
    "#### 2. Cross- Validation & Hyperparameter Tuning"
   ]
  },
  {
   "cell_type": "code",
   "execution_count": null,
   "metadata": {
    "id": "eSVXuaSKpx6M"
   },
   "outputs": [],
   "source": [
    "# ML Model - 3 Implementation with hyperparameter optimization techniques (i.e., GridSearch CV, RandomSearch CV, Bayesian Optimization etc.)\n",
    "\n",
    "# Fit the Algorithm\n",
    "\n",
    "# Predict on the model"
   ]
  },
  {
   "cell_type": "code",
   "execution_count": null,
   "metadata": {},
   "outputs": [],
   "source": [
    "# ML Model - 3 Implementation\n",
    "# param = {'min_samples': np.arange(1,21,5),'eps':np.arange(0.1,1,0.1)}\n",
    "# dbscan = DBSCAN()\n",
    "# grid_db = GridSearchCV(dbscan,param_grid=param,cv=3,verbose=2,scoring='euclidean')\n",
    "# Fit the Algorithm\n",
    "# grid_db.fit(X2)\n",
    "# Predict on the model\n",
    "# ypred = dbscan.labels_"
   ]
  },
  {
   "cell_type": "markdown",
   "metadata": {
    "id": "_-qAgymDpx6N"
   },
   "source": [
    "##### Which hyperparameter optimization technique have you used and why?"
   ]
  },
  {
   "cell_type": "markdown",
   "metadata": {
    "id": "lQMffxkwpx6N"
   },
   "source": [
    "Answer Here."
   ]
  },
  {
   "cell_type": "markdown",
   "metadata": {
    "id": "Z-hykwinpx6N"
   },
   "source": [
    "##### Have you seen any improvement? Note down the improvement with updates Evaluation metric Score Chart."
   ]
  },
  {
   "cell_type": "markdown",
   "metadata": {
    "id": "MzVzZC6opx6N"
   },
   "source": [
    "Answer Here."
   ]
  },
  {
   "cell_type": "markdown",
   "metadata": {
    "id": "h_CCil-SKHpo"
   },
   "source": [
    "### 1. Which Evaluation metrics did you consider for a positive business impact and why?"
   ]
  },
  {
   "cell_type": "markdown",
   "metadata": {
    "id": "jHVz9hHDKFms"
   },
   "source": [
    "Answer Here."
   ]
  },
  {
   "cell_type": "markdown",
   "metadata": {
    "id": "cBFFvTBNJzUa"
   },
   "source": [
    "### 2. Which ML model did you choose from the above created models as your final prediction model and why?"
   ]
  },
  {
   "cell_type": "markdown",
   "metadata": {
    "id": "6ksF5Q1LKTVm"
   },
   "source": [
    "I would choose DBSCAN because this model is giving better result than kmeans and agglomerative clustering."
   ]
  },
  {
   "cell_type": "markdown",
   "metadata": {
    "id": "HvGl1hHyA_VK"
   },
   "source": [
    "### 3. Explain the model which you have used and the feature importance using any model explainability tool?"
   ]
  },
  {
   "cell_type": "markdown",
   "metadata": {
    "id": "YnvVTiIxBL-C"
   },
   "source": [
    "Answer Here."
   ]
  },
  {
   "cell_type": "markdown",
   "metadata": {
    "id": "EyNgTHvd2WFk"
   },
   "source": [
    "## ***8.*** ***Future Work (Optional)***"
   ]
  },
  {
   "cell_type": "markdown",
   "metadata": {
    "id": "KH5McJBi2d8v"
   },
   "source": [
    "### 1. Save the best performing ml model in a pickle file or joblib file format for deployment process.\n"
   ]
  },
  {
   "cell_type": "code",
   "execution_count": null,
   "metadata": {
    "id": "bQIANRl32f4J"
   },
   "outputs": [],
   "source": [
    "# Save the File"
   ]
  },
  {
   "cell_type": "markdown",
   "metadata": {
    "id": "iW_Lq9qf2h6X"
   },
   "source": [
    "### 2. Again Load the saved model file and try to predict unseen data for a sanity check.\n"
   ]
  },
  {
   "cell_type": "code",
   "execution_count": null,
   "metadata": {
    "id": "oEXk9ydD2nVC"
   },
   "outputs": [],
   "source": [
    "# Load the File and predict unseen data."
   ]
  },
  {
   "cell_type": "markdown",
   "metadata": {
    "id": "-Kee-DAl2viO"
   },
   "source": [
    "### ***Congrats! Your model is successfully created and ready for deployment on a live server for a real user interaction !!!***"
   ]
  },
  {
   "cell_type": "markdown",
   "metadata": {
    "id": "gCX9965dhzqZ"
   },
   "source": [
    "# **Conclusion**"
   ]
  },
  {
   "cell_type": "markdown",
   "metadata": {
    "id": "Fjb1IsQkh3yE"
   },
   "source": [
    "Write the conclusion here."
   ]
  },
  {
   "cell_type": "markdown",
   "metadata": {
    "id": "gIfDvo9L0UH2"
   },
   "source": [
    "### ***Hurrah! You have successfully completed your Machine Learning Capstone Project !!!***"
   ]
  }
 ],
 "metadata": {
  "colab": {
   "collapsed_sections": [
    "FJNUwmbgGyua",
    "w6K7xa23Elo4",
    "yQaldy8SH6Dl",
    "mDgbUHAGgjLW",
    "HhfV-JJviCcP",
    "Y3lxredqlCYt",
    "3RnN4peoiCZX",
    "x71ZqKXriCWQ",
    "7hBIi_osiCS2",
    "JlHwYmJAmNHm",
    "nA9Y7ga8ng1Z",
    "dauF4eBmngu3",
    "MSa1f5Uengrz",
    "GF8Ens_Soomf",
    "fge-S5ZAYoAp",
    "QHF8YVU7Yuh3",
    "bbFf2-_FphqN",
    "_ouA3fa0phqN",
    "t27r6nlMphqO",
    "eZrbJ2SmphqO",
    "gCFgpxoyphqP",
    "OVtJsKN_phqQ",
    "U2RJ9gkRphqQ",
    "NC_X3p0fY2L0",
    "UV0SzAkaZNRQ",
    "YPEH6qLeZNRQ",
    "q29F0dvdveiT",
    "EXh0U9oCveiU",
    "22aHeOlLveiV",
    "g-ATYxFrGrvw",
    "Yfr_Vlr8HBkt",
    "8yEUt7NnHlrM",
    "tEA2Xm5dHt1r",
    "I79__PHVH19G",
    "Ou-I18pAyIpj",
    "fF3858GYyt-u",
    "4_0_7-oCpUZd",
    "hwyV_J3ipUZe",
    "3yB-zSqbpUZe",
    "dEUvejAfpUZe",
    "Fd15vwWVpUZf",
    "bn_IUdTipZyH",
    "49K5P_iCpZyH",
    "Nff-vKELpZyI",
    "kLW572S8pZyI",
    "dWbDXHzopZyI",
    "xiyOF9F70UgQ",
    "id1riN9m0vUs",
    "89xtkJwZ18nB",
    "GMQiZwjn3iu7",
    "WVIkgGqN3qsr",
    "XkPnILGE3zoT",
    "Hlsf0x5436Go",
    "mT9DMSJo4nBL",
    "c49ITxTc407N",
    "OeJFEK0N496M",
    "PsJ6KNdjVsnF",
    "cJNqERVU536h",
    "O1-ATA4IV6Kg",
    "k5UmGsbsOxih",
    "qBMux9mC6MCf",
    "-oLEiFgy-5Pf",
    "C74aWNz2AliB",
    "2DejudWSA-a0",
    "pEMng2IbBLp7",
    "rAdphbQ9Bhjc",
    "TNVZ9zx19K6k",
    "nqoHp30x9hH9",
    "rMDnDkt2B6du",
    "yiiVWRdJDDil",
    "1UUpS68QDMuG",
    "T5CmagL3EC8N",
    "BhH2vgX9EjGr",
    "qjKvONjwE8ra",
    "P1XJ9OREExlT",
    "VFOzZv6IFROw",
    "TIqpNgepFxVj",
    "ArJBuiUVfxKd",
    "4qY1EAkEfxKe",
    "PiV4Ypx8fxKe",
    "TfvqoZmBfxKf",
    "dJ2tPlVmpsJ0",
    "JWYfwnehpsJ1",
    "-jK_YjpMpsJ2",
    "HAih1iBOpsJ2",
    "zVGeBEFhpsJ2",
    "bmKjuQ-FpsJ3",
    "Fze-IPXLpx6K",
    "7AN1z2sKpx6M",
    "9PIHJqyupx6M",
    "_-qAgymDpx6N",
    "Z-hykwinpx6N",
    "h_CCil-SKHpo",
    "cBFFvTBNJzUa",
    "HvGl1hHyA_VK",
    "EyNgTHvd2WFk",
    "KH5McJBi2d8v",
    "iW_Lq9qf2h6X",
    "-Kee-DAl2viO",
    "gCX9965dhzqZ",
    "gIfDvo9L0UH2"
   ],
   "provenance": []
  },
  "gpuClass": "standard",
  "kernelspec": {
   "display_name": "Python 3 (ipykernel)",
   "language": "python",
   "name": "python3"
  },
  "language_info": {
   "codemirror_mode": {
    "name": "ipython",
    "version": 3
   },
   "file_extension": ".py",
   "mimetype": "text/x-python",
   "name": "python",
   "nbconvert_exporter": "python",
   "pygments_lexer": "ipython3",
   "version": "3.9.13"
  }
 },
 "nbformat": 4,
 "nbformat_minor": 1
}
